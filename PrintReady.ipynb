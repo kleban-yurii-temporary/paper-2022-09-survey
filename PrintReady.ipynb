{
 "cells": [
  {
   "cell_type": "markdown",
   "id": "2c2e69c8-bd5c-4946-9faf-62b3938e90de",
   "metadata": {
    "tags": []
   },
   "source": [
    "# Розвиток громадських організацій через призму активності населення"
   ]
  },
  {
   "cell_type": "markdown",
   "id": "859acb94-dc0e-42d9-b5b8-98261c77d273",
   "metadata": {},
   "source": [
    "---"
   ]
  },
  {
   "cell_type": "markdown",
   "id": "67fab4b2-190d-49df-88db-333aa1f7f012",
   "metadata": {
    "tags": []
   },
   "source": [
    "## Packages Loading"
   ]
  },
  {
   "cell_type": "code",
   "execution_count": 1,
   "id": "1cf33f23-0d04-4ac5-a693-e15a3c711389",
   "metadata": {},
   "outputs": [],
   "source": [
    "suppressMessages(library(tidyverse))\n",
    "suppressMessages(library(ggplot2))"
   ]
  },
  {
   "cell_type": "code",
   "execution_count": 2,
   "id": "ae311b80-47d9-4f77-b6eb-90058b5ddb0c",
   "metadata": {},
   "outputs": [
    {
     "data": {
      "text/html": [
       "'Ukrainian_Ukraine.1251'"
      ],
      "text/latex": [
       "'Ukrainian\\_Ukraine.1251'"
      ],
      "text/markdown": [
       "'Ukrainian_Ukraine.1251'"
      ],
      "text/plain": [
       "[1] \"Ukrainian_Ukraine.1251\""
      ]
     },
     "metadata": {},
     "output_type": "display_data"
    }
   ],
   "source": [
    "Sys.setlocale(\"LC_CTYPE\", \"ukrainian\")\n",
    "options(warn = -1)"
   ]
  },
  {
   "cell_type": "markdown",
   "id": "dfcea1f2-a6a8-4910-b2a1-0f1df4708fc9",
   "metadata": {
    "tags": []
   },
   "source": [
    "## Data Loading"
   ]
  },
  {
   "cell_type": "code",
   "execution_count": 3,
   "id": "19defa16-dfdd-43c0-a908-e6a2d7a4d284",
   "metadata": {},
   "outputs": [],
   "source": [
    "survey_data <- readRDS(\"survey_data_init.rds\")\n",
    "survey_headers <- readRDS(\"survey_headers.rds\")"
   ]
  },
  {
   "cell_type": "code",
   "execution_count": 4,
   "id": "51749ba2",
   "metadata": {},
   "outputs": [
    {
     "data": {
      "text/html": [
       "<table class=\"dataframe\">\n",
       "<caption>A data.frame: 2 × 14</caption>\n",
       "<thead>\n",
       "\t<tr><th></th><th scope=col>X1</th><th scope=col>X2</th><th scope=col>X3</th><th scope=col>X4</th><th scope=col>X5</th><th scope=col>X6</th><th scope=col>X7</th><th scope=col>X8</th><th scope=col>X9</th><th scope=col>X10</th><th scope=col>X11</th><th scope=col>X12</th><th scope=col>X13</th><th scope=col>X14</th></tr>\n",
       "\t<tr><th></th><th scope=col>&lt;fct&gt;</th><th scope=col>&lt;fct&gt;</th><th scope=col>&lt;fct&gt;</th><th scope=col>&lt;fct&gt;</th><th scope=col>&lt;fct&gt;</th><th scope=col>&lt;fct&gt;</th><th scope=col>&lt;fct&gt;</th><th scope=col>&lt;fct&gt;</th><th scope=col>&lt;fct&gt;</th><th scope=col>&lt;fct&gt;</th><th scope=col>&lt;fct&gt;</th><th scope=col>&lt;fct&gt;</th><th scope=col>&lt;fct&gt;</th><th scope=col>&lt;fct&gt;</th></tr>\n",
       "</thead>\n",
       "<tbody>\n",
       "\t<tr><th scope=row>1</th><td>16-23 років</td><td>Жіноча</td><td>Працюючий</td><td>Так, інколи</td><td>Орієнтуюсь, приймав/ла участь в одній організації</td><td>Так</td><td>Молодіжна організація</td><td>-</td><td>Ні</td><td>Так</td><td>Так, декілька</td><td>Творчі об'єднання    </td><td>Так, оскільки за допомогою них можна реалізувати себе</td><td>Так, за умови відсутності пропаганди діяльності цієї організації</td></tr>\n",
       "\t<tr><th scope=row>2</th><td>16-23 років</td><td>Жіноча</td><td>Студент  </td><td>Так, інколи</td><td>Не сильно, щось чув/ла, але не цікавився/лася.   </td><td>Ні </td><td>-                    </td><td>-</td><td>Ні</td><td>Ні </td><td>Ні, жодного  </td><td>Молодіжна організація</td><td>Так, оскільки вони покликані допомагати              </td><td>Якщо це законно і відстоює благодійні справи                    </td></tr>\n",
       "</tbody>\n",
       "</table>\n"
      ],
      "text/latex": [
       "A data.frame: 2 × 14\n",
       "\\begin{tabular}{r|llllllllllllll}\n",
       "  & X1 & X2 & X3 & X4 & X5 & X6 & X7 & X8 & X9 & X10 & X11 & X12 & X13 & X14\\\\\n",
       "  & <fct> & <fct> & <fct> & <fct> & <fct> & <fct> & <fct> & <fct> & <fct> & <fct> & <fct> & <fct> & <fct> & <fct>\\\\\n",
       "\\hline\n",
       "\t1 & 16-23 років & Жіноча & Працюючий & Так, інколи & Орієнтуюсь, приймав/ла участь в одній організації & Так & Молодіжна організація & - & Ні & Так & Так, декілька & Творчі об'єднання     & Так, оскільки за допомогою них можна реалізувати себе & Так, за умови відсутності пропаганди діяльності цієї організації\\\\\n",
       "\t2 & 16-23 років & Жіноча & Студент   & Так, інколи & Не сильно, щось чув/ла, але не цікавився/лася.    & Ні  & -                     & - & Ні & Ні  & Ні, жодного   & Молодіжна організація & Так, оскільки вони покликані допомагати               & Якщо це законно і відстоює благодійні справи                    \\\\\n",
       "\\end{tabular}\n"
      ],
      "text/markdown": [
       "\n",
       "A data.frame: 2 × 14\n",
       "\n",
       "| <!--/--> | X1 &lt;fct&gt; | X2 &lt;fct&gt; | X3 &lt;fct&gt; | X4 &lt;fct&gt; | X5 &lt;fct&gt; | X6 &lt;fct&gt; | X7 &lt;fct&gt; | X8 &lt;fct&gt; | X9 &lt;fct&gt; | X10 &lt;fct&gt; | X11 &lt;fct&gt; | X12 &lt;fct&gt; | X13 &lt;fct&gt; | X14 &lt;fct&gt; |\n",
       "|---|---|---|---|---|---|---|---|---|---|---|---|---|---|---|\n",
       "| 1 | 16-23 років | Жіноча | Працюючий | Так, інколи | Орієнтуюсь, приймав/ла участь в одній організації | Так | Молодіжна організація | - | Ні | Так | Так, декілька | Творчі об'єднання     | Так, оскільки за допомогою них можна реалізувати себе | Так, за умови відсутності пропаганди діяльності цієї організації |\n",
       "| 2 | 16-23 років | Жіноча | Студент   | Так, інколи | Не сильно, щось чув/ла, але не цікавився/лася.    | Ні  | -                     | - | Ні | Ні  | Ні, жодного   | Молодіжна організація | Так, оскільки вони покликані допомагати               | Якщо це законно і відстоює благодійні справи                     |\n",
       "\n"
      ],
      "text/plain": [
       "  X1          X2     X3        X4         \n",
       "1 16-23 років Жіноча Працюючий Так, інколи\n",
       "2 16-23 років Жіноча Студент   Так, інколи\n",
       "  X5                                                X6  X7                   \n",
       "1 Орієнтуюсь, приймав/ла участь в одній організації Так Молодіжна організація\n",
       "2 Не сильно, щось чув/ла, але не цікавився/лася.    Ні  -                    \n",
       "  X8 X9 X10 X11           X12                  \n",
       "1 -  Ні Так Так, декілька Творчі об'єднання    \n",
       "2 -  Ні Ні  Ні, жодного   Молодіжна організація\n",
       "  X13                                                  \n",
       "1 Так, оскільки за допомогою них можна реалізувати себе\n",
       "2 Так, оскільки вони покликані допомагати              \n",
       "  X14                                                             \n",
       "1 Так, за умови відсутності пропаганди діяльності цієї організації\n",
       "2 Якщо це законно і відстоює благодійні справи                    "
      ]
     },
     "metadata": {},
     "output_type": "display_data"
    }
   ],
   "source": [
    "head(survey_data, 2)"
   ]
  },
  {
   "cell_type": "markdown",
   "id": "a0fa9d39-f93d-4761-8cc2-75f8a2cae69a",
   "metadata": {},
   "source": [
    "Всього: **88** спостережень."
   ]
  },
  {
   "cell_type": "markdown",
   "id": "c14fd035-a872-4e8f-b3bf-2e3209a915be",
   "metadata": {
    "tags": []
   },
   "source": [
    "## Exploratory Data Analysis"
   ]
  },
  {
   "cell_type": "markdown",
   "id": "19d06f53-f987-45f8-b4b1-ebd883e11d23",
   "metadata": {},
   "source": [
    "Нижче наведено оглядови аналіз кожного запитання анкети: структура відповідей по статі та кількості."
   ]
  },
  {
   "cell_type": "code",
   "execution_count": 5,
   "id": "dd54edf6-3356-48b0-8b7e-d6e7b943a740",
   "metadata": {},
   "outputs": [],
   "source": [
    "aggregated <- data.frame(\n",
    "    No = integer(),\n",
    "    Question = character(),\n",
    "    Answer = character(),\n",
    "    Count = integer(),\n",
    "    Perc = double())"
   ]
  },
  {
   "cell_type": "code",
   "execution_count": 6,
   "id": "208fde15-bcb3-45aa-952f-881bcda144b1",
   "metadata": {},
   "outputs": [],
   "source": [
    "get.prop.table <- function(col_data) {\n",
    "    df <- data.frame(prop.table(table(col_data))) |>\n",
    "      left_join(data.frame(table(col_data)), by = \"col_data\")\n",
    "    colnames(df) <- c(\"Відповідь\", \"Частка,%\", \"Кількість\")\n",
    "    df\n",
    "}"
   ]
  },
  {
   "cell_type": "code",
   "execution_count": 7,
   "id": "6fc127e2-dcbf-472f-b10f-6a62693c96d6",
   "metadata": {},
   "outputs": [],
   "source": [
    "i = 1\n",
    "prop.table <- get.prop.table(survey_data[,i])\n",
    "\n",
    "aggregated <- aggregated |>\n",
    "    bind_rows(\n",
    "        data.frame(\n",
    "            No = i,\n",
    "            Question = survey_headers[i, 2],\n",
    "            Answer = prop.table[,1],\n",
    "            Count = prop.table[,3],\n",
    "            Perc = round(100*prop.table[,2], 1)))"
   ]
  },
  {
   "cell_type": "code",
   "execution_count": 8,
   "id": "0413a7f9-f168-493f-849c-52760ad33afe",
   "metadata": {},
   "outputs": [
    {
     "data": {
      "image/png": "[encoded data removed]",
      "text/plain": [
       "plot without title"
      ]
     },
     "metadata": {
      "image/png": {
       "height": 420,
       "width": 420
      }
     },
     "output_type": "display_data"
    }
   ],
   "source": [
    "ggplot(survey_data, aes(x=factor(X1))) +\n",
    "    geom_bar(stat=\"count\", width=0.9, fill=\"steelblue\") +\n",
    "    geom_text(stat = \"count\", aes(label = after_stat(count)), position = position_stack(vjust = .5), size = 5)+\n",
    "    theme_light()+\n",
    "    theme(\n",
    "        plot.title = element_text(size=18),\n",
    "        axis.title.x = element_text(size=16),\n",
    "        axis.title.y = element_text(size=16)) +\n",
    "    labs(title=survey_headers[i, 2], x = survey_headers[i, 2], y = \"Observations count\")"
   ]
  },
  {
   "cell_type": "code",
   "execution_count": 9,
   "id": "09ef7368-82b8-4337-97d8-a9c671337cb8",
   "metadata": {},
   "outputs": [
    {
     "data": {
      "text/html": [
       "<table class=\"dataframe\">\n",
       "<caption>A data.frame: 4 × 3</caption>\n",
       "<thead>\n",
       "\t<tr><th scope=col>Відповідь</th><th scope=col>Частка,%</th><th scope=col>Кількість</th></tr>\n",
       "\t<tr><th scope=col>&lt;fct&gt;</th><th scope=col>&lt;dbl&gt;</th><th scope=col>&lt;int&gt;</th></tr>\n",
       "</thead>\n",
       "<tbody>\n",
       "\t<tr><td>16-23 років</td><td>0.90909091</td><td>80</td></tr>\n",
       "\t<tr><td>24-30 років</td><td>0.02272727</td><td> 2</td></tr>\n",
       "\t<tr><td>31-40 років</td><td>0.03409091</td><td> 3</td></tr>\n",
       "\t<tr><td>51-60 років</td><td>0.03409091</td><td> 3</td></tr>\n",
       "</tbody>\n",
       "</table>\n"
      ],
      "text/latex": [
       "A data.frame: 4 × 3\n",
       "\\begin{tabular}{lll}\n",
       " Відповідь & Частка,\\% & Кількість\\\\\n",
       " <fct> & <dbl> & <int>\\\\\n",
       "\\hline\n",
       "\t 16-23 років & 0.90909091 & 80\\\\\n",
       "\t 24-30 років & 0.02272727 &  2\\\\\n",
       "\t 31-40 років & 0.03409091 &  3\\\\\n",
       "\t 51-60 років & 0.03409091 &  3\\\\\n",
       "\\end{tabular}\n"
      ],
      "text/markdown": [
       "\n",
       "A data.frame: 4 × 3\n",
       "\n",
       "| Відповідь &lt;fct&gt; | Частка,% &lt;dbl&gt; | Кількість &lt;int&gt; |\n",
       "|---|---|---|\n",
       "| 16-23 років | 0.90909091 | 80 |\n",
       "| 24-30 років | 0.02272727 |  2 |\n",
       "| 31-40 років | 0.03409091 |  3 |\n",
       "| 51-60 років | 0.03409091 |  3 |\n",
       "\n"
      ],
      "text/plain": [
       "  Відповідь   Частка,%   Кількість\n",
       "1 16-23 років 0.90909091 80       \n",
       "2 24-30 років 0.02272727  2       \n",
       "3 31-40 років 0.03409091  3       \n",
       "4 51-60 років 0.03409091  3       "
      ]
     },
     "metadata": {},
     "output_type": "display_data"
    }
   ],
   "source": [
    "prop.table"
   ]
  },
  {
   "cell_type": "markdown",
   "id": "e8bf6d9e-0921-4691-a53a-31425016a3ca",
   "metadata": {},
   "source": [
    "---"
   ]
  },
  {
   "cell_type": "code",
   "execution_count": 10,
   "id": "0f59942a-159a-4d31-91aa-dfd323a8f77f",
   "metadata": {},
   "outputs": [],
   "source": [
    "i = 2\n",
    "prop.table <- get.prop.table(survey_data[,i])\n",
    "\n",
    "aggregated <- aggregated |>\n",
    "    bind_rows(\n",
    "        data.frame(\n",
    "            No = i,\n",
    "            Question = survey_headers[i, 2],\n",
    "            Answer = prop.table[,1],\n",
    "            Count = prop.table[,3],\n",
    "            Perc = round(100*prop.table[,2], 1)))"
   ]
  },
  {
   "cell_type": "code",
   "execution_count": 11,
   "id": "74c54853-5df4-4368-977d-5839e3c953f2",
   "metadata": {},
   "outputs": [
    {
     "data": {
      "image/png": "[encoded data removed]",
      "text/plain": [
       "plot without title"
      ]
     },
     "metadata": {
      "image/png": {
       "height": 420,
       "width": 420
      }
     },
     "output_type": "display_data"
    }
   ],
   "source": [
    "ggplot(survey_data, aes(x=factor(X2))) +\n",
    "    geom_bar(stat=\"count\", width=0.9, fill=\"steelblue\") +\n",
    "    geom_text(stat = \"count\", aes(label = after_stat(count)), position = position_stack(vjust = .5), size = 5)+\n",
    "    theme_light()+\n",
    "    theme(\n",
    "        plot.title = element_text(size=18),\n",
    "        axis.title.x = element_text(size=16),\n",
    "        axis.title.y = element_text(size=16)) +\n",
    "    labs(title=survey_headers[i, 2], x = survey_headers[i, 2], y = \"Observations count\")"
   ]
  },
  {
   "cell_type": "code",
   "execution_count": 12,
   "id": "5a5f6d44-477f-474e-8c38-a3c8b2daf398",
   "metadata": {},
   "outputs": [
    {
     "data": {
      "text/html": [
       "<table class=\"dataframe\">\n",
       "<caption>A data.frame: 2 × 3</caption>\n",
       "<thead>\n",
       "\t<tr><th scope=col>Відповідь</th><th scope=col>Частка,%</th><th scope=col>Кількість</th></tr>\n",
       "\t<tr><th scope=col>&lt;fct&gt;</th><th scope=col>&lt;dbl&gt;</th><th scope=col>&lt;int&gt;</th></tr>\n",
       "</thead>\n",
       "<tbody>\n",
       "\t<tr><td>Чоловіча</td><td>0.375</td><td>33</td></tr>\n",
       "\t<tr><td>Жіноча  </td><td>0.625</td><td>55</td></tr>\n",
       "</tbody>\n",
       "</table>\n"
      ],
      "text/latex": [
       "A data.frame: 2 × 3\n",
       "\\begin{tabular}{lll}\n",
       " Відповідь & Частка,\\% & Кількість\\\\\n",
       " <fct> & <dbl> & <int>\\\\\n",
       "\\hline\n",
       "\t Чоловіча & 0.375 & 33\\\\\n",
       "\t Жіноча   & 0.625 & 55\\\\\n",
       "\\end{tabular}\n"
      ],
      "text/markdown": [
       "\n",
       "A data.frame: 2 × 3\n",
       "\n",
       "| Відповідь &lt;fct&gt; | Частка,% &lt;dbl&gt; | Кількість &lt;int&gt; |\n",
       "|---|---|---|\n",
       "| Чоловіча | 0.375 | 33 |\n",
       "| Жіноча   | 0.625 | 55 |\n",
       "\n"
      ],
      "text/plain": [
       "  Відповідь Частка,% Кількість\n",
       "1 Чоловіча  0.375    33       \n",
       "2 Жіноча    0.625    55       "
      ]
     },
     "metadata": {},
     "output_type": "display_data"
    }
   ],
   "source": [
    "prop.table"
   ]
  },
  {
   "cell_type": "markdown",
   "id": "1d2091f3-d815-423a-a950-66faa5b2d201",
   "metadata": {},
   "source": [
    "Статева структура вибірки змінилася, у нашій вибірці частка чоловіків збільшилася майже вдвічі (було 82,1% жінок та 17,9 % чоловіків)."
   ]
  },
  {
   "cell_type": "markdown",
   "id": "e717bcfb-06fa-40e6-9f1f-ade726ea97c3",
   "metadata": {},
   "source": [
    "---"
   ]
  },
  {
   "cell_type": "code",
   "execution_count": 13,
   "id": "30bb31e7-6b80-4795-8058-5f2092ccb7fd",
   "metadata": {},
   "outputs": [],
   "source": [
    "i = 3\n",
    "prop.table <- get.prop.table(survey_data[,i])\n",
    "\n",
    "aggregated <- aggregated |>\n",
    "    bind_rows(\n",
    "        data.frame(\n",
    "            No = i,\n",
    "            Question = survey_headers[i, 2],\n",
    "            Answer = prop.table[,1],\n",
    "            Count = prop.table[,3],\n",
    "            Perc = round(100*prop.table[,2], 1)))"
   ]
  },
  {
   "cell_type": "code",
   "execution_count": 14,
   "id": "c64e3dcd-f0d5-4ec5-979f-cd3c68a5ab70",
   "metadata": {},
   "outputs": [
    {
     "data": {
      "image/png": "[encoded data removed]",
      "text/plain": [
       "plot without title"
      ]
     },
     "metadata": {
      "image/png": {
       "height": 420,
       "width": 420
      }
     },
     "output_type": "display_data"
    }
   ],
   "source": [
    "ggplot(survey_data, aes(x=factor(X3))) +\n",
    "    geom_bar(stat=\"count\", width=0.9, fill=\"steelblue\") +\n",
    "     geom_text(stat = \"count\", aes(label = after_stat(count)), position = position_stack(vjust = .5), size = 5)+\n",
    "    theme_light()+\n",
    "    theme(\n",
    "        plot.title = element_text(size=18),\n",
    "        axis.title.x = element_text(size=16),\n",
    "        axis.title.y = element_text(size=16)) +\n",
    "    labs(title=survey_headers[i, 2], x = survey_headers[i, 2], y = \"Observations count\")"
   ]
  },
  {
   "cell_type": "code",
   "execution_count": 15,
   "id": "14a00a4e-1ea2-4064-9f17-35314b502d51",
   "metadata": {},
   "outputs": [
    {
     "data": {
      "text/html": [
       "<table class=\"dataframe\">\n",
       "<caption>A data.frame: 4 × 3</caption>\n",
       "<thead>\n",
       "\t<tr><th scope=col>Відповідь</th><th scope=col>Частка,%</th><th scope=col>Кількість</th></tr>\n",
       "\t<tr><th scope=col>&lt;fct&gt;</th><th scope=col>&lt;dbl&gt;</th><th scope=col>&lt;int&gt;</th></tr>\n",
       "</thead>\n",
       "<tbody>\n",
       "\t<tr><td>Безробітний</td><td>0.01136364</td><td> 1</td></tr>\n",
       "\t<tr><td>Аспірант   </td><td>0.01136364</td><td> 1</td></tr>\n",
       "\t<tr><td>Працюючий  </td><td>0.10227273</td><td> 9</td></tr>\n",
       "\t<tr><td>Студент    </td><td>0.87500000</td><td>77</td></tr>\n",
       "</tbody>\n",
       "</table>\n"
      ],
      "text/latex": [
       "A data.frame: 4 × 3\n",
       "\\begin{tabular}{lll}\n",
       " Відповідь & Частка,\\% & Кількість\\\\\n",
       " <fct> & <dbl> & <int>\\\\\n",
       "\\hline\n",
       "\t Безробітний & 0.01136364 &  1\\\\\n",
       "\t Аспірант    & 0.01136364 &  1\\\\\n",
       "\t Працюючий   & 0.10227273 &  9\\\\\n",
       "\t Студент     & 0.87500000 & 77\\\\\n",
       "\\end{tabular}\n"
      ],
      "text/markdown": [
       "\n",
       "A data.frame: 4 × 3\n",
       "\n",
       "| Відповідь &lt;fct&gt; | Частка,% &lt;dbl&gt; | Кількість &lt;int&gt; |\n",
       "|---|---|---|\n",
       "| Безробітний | 0.01136364 |  1 |\n",
       "| Аспірант    | 0.01136364 |  1 |\n",
       "| Працюючий   | 0.10227273 |  9 |\n",
       "| Студент     | 0.87500000 | 77 |\n",
       "\n"
      ],
      "text/plain": [
       "  Відповідь   Частка,%   Кількість\n",
       "1 Безробітний 0.01136364  1       \n",
       "2 Аспірант    0.01136364  1       \n",
       "3 Працюючий   0.10227273  9       \n",
       "4 Студент     0.87500000 77       "
      ]
     },
     "metadata": {},
     "output_type": "display_data"
    }
   ],
   "source": [
    "prop.table"
   ]
  },
  {
   "cell_type": "markdown",
   "id": "0aaeb5b5-4a25-4e2e-8a41-fa9a3b172789",
   "metadata": {},
   "source": [
    "Частка студентів не змінилася, але у даних попереднього дослідження помилка, **там у відповіді \"Працюючий\" 55 осіб, а сумарно виходить 130 опитаних, при 95 всього... Варто перевірити.**"
   ]
  },
  {
   "cell_type": "markdown",
   "id": "750a5b55-6a82-4d2c-9b56-bd0a00a4b766",
   "metadata": {},
   "source": [
    "---"
   ]
  },
  {
   "cell_type": "code",
   "execution_count": 16,
   "id": "b717b22e-cecb-4c0b-b7a1-77248aa2304b",
   "metadata": {},
   "outputs": [],
   "source": [
    "i <- 4\n",
    "\n",
    "prop.table <- get.prop.table(survey_data[,i])\n",
    "\n",
    "aggregated <- aggregated |>\n",
    "    bind_rows(\n",
    "        data.frame(\n",
    "            No = i,\n",
    "            Question = survey_headers[i, 2],\n",
    "            Answer = prop.table[,1],\n",
    "            Count = prop.table[,3],\n",
    "            Perc = round(100*prop.table[,2], 1)))"
   ]
  },
  {
   "cell_type": "code",
   "execution_count": 17,
   "id": "78886412-9338-4097-804c-2996c2b09b3a",
   "metadata": {},
   "outputs": [
    {
     "data": {
      "image/png": "[encoded data removed]",
      "text/plain": [
       "plot without title"
      ]
     },
     "metadata": {
      "image/png": {
       "height": 420,
       "width": 420
      }
     },
     "output_type": "display_data"
    }
   ],
   "source": [
    "ggplot(survey_data, aes(x=factor(X4), fill=factor(X2))) +\n",
    "    geom_bar(stat=\"count\", width=0.9) +\n",
    "     geom_text(stat = \"count\", aes(label = after_stat(count)), position = position_stack(vjust = .5), size = 5)+\n",
    "    theme_light()+\n",
    "    theme(\n",
    "        plot.title = element_text(size=18),\n",
    "        axis.title.x = element_text(size=16),\n",
    "        axis.title.y = element_text(size=16)) +\n",
    "    labs(title=survey_headers[i, 2], x = survey_headers[i, 2], y = \"Observations count\")"
   ]
  },
  {
   "cell_type": "code",
   "execution_count": 18,
   "id": "384682a4-7344-48e6-ae3b-efb600e1c370",
   "metadata": {},
   "outputs": [
    {
     "data": {
      "text/html": [
       "<table class=\"dataframe\">\n",
       "<caption>A data.frame: 3 × 3</caption>\n",
       "<thead>\n",
       "\t<tr><th scope=col>Відповідь</th><th scope=col>Частка,%</th><th scope=col>Кількість</th></tr>\n",
       "\t<tr><th scope=col>&lt;fct&gt;</th><th scope=col>&lt;dbl&gt;</th><th scope=col>&lt;int&gt;</th></tr>\n",
       "</thead>\n",
       "<tbody>\n",
       "\t<tr><td>Ні, ніколи </td><td>0.2045455</td><td>18</td></tr>\n",
       "\t<tr><td>Так, часто </td><td>0.1818182</td><td>16</td></tr>\n",
       "\t<tr><td>Так, інколи</td><td>0.6136364</td><td>54</td></tr>\n",
       "</tbody>\n",
       "</table>\n"
      ],
      "text/latex": [
       "A data.frame: 3 × 3\n",
       "\\begin{tabular}{lll}\n",
       " Відповідь & Частка,\\% & Кількість\\\\\n",
       " <fct> & <dbl> & <int>\\\\\n",
       "\\hline\n",
       "\t Ні, ніколи  & 0.2045455 & 18\\\\\n",
       "\t Так, часто  & 0.1818182 & 16\\\\\n",
       "\t Так, інколи & 0.6136364 & 54\\\\\n",
       "\\end{tabular}\n"
      ],
      "text/markdown": [
       "\n",
       "A data.frame: 3 × 3\n",
       "\n",
       "| Відповідь &lt;fct&gt; | Частка,% &lt;dbl&gt; | Кількість &lt;int&gt; |\n",
       "|---|---|---|\n",
       "| Ні, ніколи  | 0.2045455 | 18 |\n",
       "| Так, часто  | 0.1818182 | 16 |\n",
       "| Так, інколи | 0.6136364 | 54 |\n",
       "\n"
      ],
      "text/plain": [
       "  Відповідь   Частка,%  Кількість\n",
       "1 Ні, ніколи  0.2045455 18       \n",
       "2 Так, часто  0.1818182 16       \n",
       "3 Так, інколи 0.6136364 54       "
      ]
     },
     "metadata": {},
     "output_type": "display_data"
    }
   ],
   "source": [
    "prop.table"
   ]
  },
  {
   "cell_type": "markdown",
   "id": "56165739-ef86-4475-87b4-494bb05ae557",
   "metadata": {},
   "source": [
    "Суттєвих відмінностей у структурі відповідей на це запитання немає."
   ]
  },
  {
   "cell_type": "markdown",
   "id": "8cd810e8-4d80-49ad-8992-0781a8aaacea",
   "metadata": {},
   "source": [
    "---"
   ]
  },
  {
   "cell_type": "code",
   "execution_count": 19,
   "id": "f50f8e1d-1b69-496b-b2e7-f3367692f2f3",
   "metadata": {},
   "outputs": [
    {
     "data": {
      "text/html": [
       "<table class=\"dataframe\">\n",
       "<caption>A data.frame: 6 × 3</caption>\n",
       "<thead>\n",
       "\t<tr><th scope=col>Відповідь</th><th scope=col>Частка,%</th><th scope=col>Кількість</th></tr>\n",
       "\t<tr><th scope=col>&lt;fct&gt;</th><th scope=col>&lt;dbl&gt;</th><th scope=col>&lt;int&gt;</th></tr>\n",
       "</thead>\n",
       "<tbody>\n",
       "\t<tr><td>В середньому, ніколи не приймав/ла участь, але цікавився/лась.</td><td>0.38636364</td><td>34</td></tr>\n",
       "\t<tr><td>Добре орієнтуюсь, приймав/ла участь та додатково вивчав/ла.   </td><td>0.12500000</td><td>11</td></tr>\n",
       "\t<tr><td>Все знаю і розбираюсь, сам/а приймав/ла участь багато разів)  </td><td>0.04545455</td><td> 4</td></tr>\n",
       "\t<tr><td>Ніяк, не чув/ла і не цікавився/лася.                          </td><td>0.05681818</td><td> 5</td></tr>\n",
       "\t<tr><td>Не сильно, щось чув/ла, але не цікавився/лася.                </td><td>0.25000000</td><td>22</td></tr>\n",
       "\t<tr><td>Орієнтуюсь, приймав/ла участь в одній організації             </td><td>0.13636364</td><td>12</td></tr>\n",
       "</tbody>\n",
       "</table>\n"
      ],
      "text/latex": [
       "A data.frame: 6 × 3\n",
       "\\begin{tabular}{lll}\n",
       " Відповідь & Частка,\\% & Кількість\\\\\n",
       " <fct> & <dbl> & <int>\\\\\n",
       "\\hline\n",
       "\t В середньому, ніколи не приймав/ла участь, але цікавився/лась. & 0.38636364 & 34\\\\\n",
       "\t Добре орієнтуюсь, приймав/ла участь та додатково вивчав/ла.    & 0.12500000 & 11\\\\\n",
       "\t Все знаю і розбираюсь, сам/а приймав/ла участь багато разів)   & 0.04545455 &  4\\\\\n",
       "\t Ніяк, не чув/ла і не цікавився/лася.                           & 0.05681818 &  5\\\\\n",
       "\t Не сильно, щось чув/ла, але не цікавився/лася.                 & 0.25000000 & 22\\\\\n",
       "\t Орієнтуюсь, приймав/ла участь в одній організації              & 0.13636364 & 12\\\\\n",
       "\\end{tabular}\n"
      ],
      "text/markdown": [
       "\n",
       "A data.frame: 6 × 3\n",
       "\n",
       "| Відповідь &lt;fct&gt; | Частка,% &lt;dbl&gt; | Кількість &lt;int&gt; |\n",
       "|---|---|---|\n",
       "| В середньому, ніколи не приймав/ла участь, але цікавився/лась. | 0.38636364 | 34 |\n",
       "| Добре орієнтуюсь, приймав/ла участь та додатково вивчав/ла.    | 0.12500000 | 11 |\n",
       "| Все знаю і розбираюсь, сам/а приймав/ла участь багато разів)   | 0.04545455 |  4 |\n",
       "| Ніяк, не чув/ла і не цікавився/лася.                           | 0.05681818 |  5 |\n",
       "| Не сильно, щось чув/ла, але не цікавився/лася.                 | 0.25000000 | 22 |\n",
       "| Орієнтуюсь, приймав/ла участь в одній організації              | 0.13636364 | 12 |\n",
       "\n"
      ],
      "text/plain": [
       "  Відповідь                                                      Частка,%  \n",
       "1 В середньому, ніколи не приймав/ла участь, але цікавився/лась. 0.38636364\n",
       "2 Добре орієнтуюсь, приймав/ла участь та додатково вивчав/ла.    0.12500000\n",
       "3 Все знаю і розбираюсь, сам/а приймав/ла участь багато разів)   0.04545455\n",
       "4 Ніяк, не чув/ла і не цікавився/лася.                           0.05681818\n",
       "5 Не сильно, щось чув/ла, але не цікавився/лася.                 0.25000000\n",
       "6 Орієнтуюсь, приймав/ла участь в одній організації              0.13636364\n",
       "  Кількість\n",
       "1 34       \n",
       "2 11       \n",
       "3  4       \n",
       "4  5       \n",
       "5 22       \n",
       "6 12       "
      ]
     },
     "metadata": {},
     "output_type": "display_data"
    }
   ],
   "source": [
    "i <- 5\n",
    "\n",
    "prop.table <- get.prop.table(survey_data[,i])\n",
    "\n",
    "aggregated <- aggregated |>\n",
    "    bind_rows(\n",
    "        data.frame(\n",
    "            No = i,\n",
    "            Question = survey_headers[i, 2],\n",
    "            Answer = prop.table[,1],\n",
    "            Count = prop.table[,3],\n",
    "            Perc = round(100*prop.table[,2], 1)))\n",
    "prop.table"
   ]
  },
  {
   "cell_type": "code",
   "execution_count": 20,
   "id": "e3629d7e-729e-456c-9412-8f518691d2d6",
   "metadata": {},
   "outputs": [
    {
     "data": {
      "image/png": "[encoded data removed]",
      "text/plain": [
       "plot without title"
      ]
     },
     "metadata": {
      "image/png": {
       "height": 420,
       "width": 420
      }
     },
     "output_type": "display_data"
    }
   ],
   "source": [
    "ggplot(survey_data, aes(x=factor(X5), fill=factor(X2))) +\n",
    "    geom_bar(stat=\"count\", width=0.9) +\n",
    "     geom_text(stat = \"count\", aes(label = after_stat(count)), position = position_stack(vjust = .5), size = 5)+\n",
    "    theme_light()+\n",
    "    theme(\n",
    "        plot.title = element_text(size=18),\n",
    "        axis.title.x = element_text(size=16),\n",
    "        axis.title.y = element_text(size=16)) +\n",
    "    labs(title=survey_headers[i, 2], x = survey_headers[i, 2], y = \"Observations count\")"
   ]
  },
  {
   "cell_type": "code",
   "execution_count": 21,
   "id": "939e6a16-393a-49df-a180-de869f4a5a19",
   "metadata": {},
   "outputs": [
    {
     "data": {
      "text/html": [
       "<table class=\"dataframe\">\n",
       "<caption>A data.frame: 6 × 3</caption>\n",
       "<thead>\n",
       "\t<tr><th scope=col>Відповідь</th><th scope=col>Частка,%</th><th scope=col>Кількість</th></tr>\n",
       "\t<tr><th scope=col>&lt;fct&gt;</th><th scope=col>&lt;dbl&gt;</th><th scope=col>&lt;int&gt;</th></tr>\n",
       "</thead>\n",
       "<tbody>\n",
       "\t<tr><td>В середньому, ніколи не приймав/ла участь, але цікавився/лась.</td><td>0.38636364</td><td>34</td></tr>\n",
       "\t<tr><td>Добре орієнтуюсь, приймав/ла участь та додатково вивчав/ла.   </td><td>0.12500000</td><td>11</td></tr>\n",
       "\t<tr><td>Все знаю і розбираюсь, сам/а приймав/ла участь багато разів)  </td><td>0.04545455</td><td> 4</td></tr>\n",
       "\t<tr><td>Ніяк, не чув/ла і не цікавився/лася.                          </td><td>0.05681818</td><td> 5</td></tr>\n",
       "\t<tr><td>Не сильно, щось чув/ла, але не цікавився/лася.                </td><td>0.25000000</td><td>22</td></tr>\n",
       "\t<tr><td>Орієнтуюсь, приймав/ла участь в одній організації             </td><td>0.13636364</td><td>12</td></tr>\n",
       "</tbody>\n",
       "</table>\n"
      ],
      "text/latex": [
       "A data.frame: 6 × 3\n",
       "\\begin{tabular}{lll}\n",
       " Відповідь & Частка,\\% & Кількість\\\\\n",
       " <fct> & <dbl> & <int>\\\\\n",
       "\\hline\n",
       "\t В середньому, ніколи не приймав/ла участь, але цікавився/лась. & 0.38636364 & 34\\\\\n",
       "\t Добре орієнтуюсь, приймав/ла участь та додатково вивчав/ла.    & 0.12500000 & 11\\\\\n",
       "\t Все знаю і розбираюсь, сам/а приймав/ла участь багато разів)   & 0.04545455 &  4\\\\\n",
       "\t Ніяк, не чув/ла і не цікавився/лася.                           & 0.05681818 &  5\\\\\n",
       "\t Не сильно, щось чув/ла, але не цікавився/лася.                 & 0.25000000 & 22\\\\\n",
       "\t Орієнтуюсь, приймав/ла участь в одній організації              & 0.13636364 & 12\\\\\n",
       "\\end{tabular}\n"
      ],
      "text/markdown": [
       "\n",
       "A data.frame: 6 × 3\n",
       "\n",
       "| Відповідь &lt;fct&gt; | Частка,% &lt;dbl&gt; | Кількість &lt;int&gt; |\n",
       "|---|---|---|\n",
       "| В середньому, ніколи не приймав/ла участь, але цікавився/лась. | 0.38636364 | 34 |\n",
       "| Добре орієнтуюсь, приймав/ла участь та додатково вивчав/ла.    | 0.12500000 | 11 |\n",
       "| Все знаю і розбираюсь, сам/а приймав/ла участь багато разів)   | 0.04545455 |  4 |\n",
       "| Ніяк, не чув/ла і не цікавився/лася.                           | 0.05681818 |  5 |\n",
       "| Не сильно, щось чув/ла, але не цікавився/лася.                 | 0.25000000 | 22 |\n",
       "| Орієнтуюсь, приймав/ла участь в одній організації              | 0.13636364 | 12 |\n",
       "\n"
      ],
      "text/plain": [
       "  Відповідь                                                      Частка,%  \n",
       "1 В середньому, ніколи не приймав/ла участь, але цікавився/лась. 0.38636364\n",
       "2 Добре орієнтуюсь, приймав/ла участь та додатково вивчав/ла.    0.12500000\n",
       "3 Все знаю і розбираюсь, сам/а приймав/ла участь багато разів)   0.04545455\n",
       "4 Ніяк, не чув/ла і не цікавився/лася.                           0.05681818\n",
       "5 Не сильно, щось чув/ла, але не цікавився/лася.                 0.25000000\n",
       "6 Орієнтуюсь, приймав/ла участь в одній організації              0.13636364\n",
       "  Кількість\n",
       "1 34       \n",
       "2 11       \n",
       "3  4       \n",
       "4  5       \n",
       "5 22       \n",
       "6 12       "
      ]
     },
     "metadata": {},
     "output_type": "display_data"
    }
   ],
   "source": [
    "prop.table"
   ]
  },
  {
   "cell_type": "code",
   "execution_count": 22,
   "id": "b4255b22-571d-4686-a530-8f8d0e37cc44",
   "metadata": {},
   "outputs": [
    {
     "data": {
      "text/html": [
       "' На скільки добре Ви обізнані в діяльності громадських організацій '"
      ],
      "text/latex": [
       "' На скільки добре Ви обізнані в діяльності громадських організацій '"
      ],
      "text/markdown": [
       "' На скільки добре Ви обізнані в діяльності громадських організацій '"
      ],
      "text/plain": [
       "[1] \" На скільки добре Ви обізнані в діяльності громадських організацій \""
      ]
     },
     "metadata": {},
     "output_type": "display_data"
    }
   ],
   "source": [
    "survey_headers[i, 2]"
   ]
  },
  {
   "cell_type": "markdown",
   "id": "b9f25f0a-54f7-41e0-b4ce-231b73914c2a",
   "metadata": {},
   "source": [
    "Суттєвих відмінностей немає, на рівні статистичної похибки :)."
   ]
  },
  {
   "cell_type": "markdown",
   "id": "95337002-5595-4ae0-8a56-78dcfcc57f75",
   "metadata": {},
   "source": [
    "---"
   ]
  },
  {
   "cell_type": "code",
   "execution_count": 23,
   "id": "0408baf9-db93-4107-94a0-61a400b8a289",
   "metadata": {},
   "outputs": [],
   "source": [
    "i <- 6\n",
    "\n",
    "prop.table <- get.prop.table(survey_data[,i])\n",
    "\n",
    "aggregated <- aggregated |>\n",
    "    bind_rows(\n",
    "        data.frame(\n",
    "            No = i,\n",
    "            Question = survey_headers[i, 2],\n",
    "            Answer = prop.table[,1],\n",
    "            Count = prop.table[,3],\n",
    "            Perc = round(100*prop.table[,2], 1)))"
   ]
  },
  {
   "cell_type": "code",
   "execution_count": 24,
   "id": "c1e7c651-a8d7-4594-915a-e0e88b43de43",
   "metadata": {},
   "outputs": [
    {
     "data": {
      "image/png": "[encoded data removed]",
      "text/plain": [
       "plot without title"
      ]
     },
     "metadata": {
      "image/png": {
       "height": 420,
       "width": 420
      }
     },
     "output_type": "display_data"
    }
   ],
   "source": [
    "ggplot(survey_data, aes(x=factor(X6), fill=factor(X2))) +\n",
    "    geom_bar(stat=\"count\", width=0.9) +\n",
    "     geom_text(stat = \"count\", aes(label = after_stat(count)), position = position_stack(vjust = .5), size = 5)+\n",
    "    theme_light()+\n",
    "    theme(\n",
    "        plot.title = element_text(size=18),\n",
    "        axis.title.x = element_text(size=16),\n",
    "        axis.title.y = element_text(size=16)) +\n",
    "    labs(title=survey_headers[i, 2], x = survey_headers[i, 2], y = \"Observations count\")"
   ]
  },
  {
   "cell_type": "code",
   "execution_count": 25,
   "id": "00afaee0-5012-49a6-abb4-4b8979ff6ac0",
   "metadata": {},
   "outputs": [
    {
     "data": {
      "text/html": [
       "<table class=\"dataframe\">\n",
       "<caption>A data.frame: 2 × 3</caption>\n",
       "<thead>\n",
       "\t<tr><th scope=col>Відповідь</th><th scope=col>Частка,%</th><th scope=col>Кількість</th></tr>\n",
       "\t<tr><th scope=col>&lt;fct&gt;</th><th scope=col>&lt;dbl&gt;</th><th scope=col>&lt;int&gt;</th></tr>\n",
       "</thead>\n",
       "<tbody>\n",
       "\t<tr><td>Ні </td><td>0.5681818</td><td>50</td></tr>\n",
       "\t<tr><td>Так</td><td>0.4318182</td><td>38</td></tr>\n",
       "</tbody>\n",
       "</table>\n"
      ],
      "text/latex": [
       "A data.frame: 2 × 3\n",
       "\\begin{tabular}{lll}\n",
       " Відповідь & Частка,\\% & Кількість\\\\\n",
       " <fct> & <dbl> & <int>\\\\\n",
       "\\hline\n",
       "\t Ні  & 0.5681818 & 50\\\\\n",
       "\t Так & 0.4318182 & 38\\\\\n",
       "\\end{tabular}\n"
      ],
      "text/markdown": [
       "\n",
       "A data.frame: 2 × 3\n",
       "\n",
       "| Відповідь &lt;fct&gt; | Частка,% &lt;dbl&gt; | Кількість &lt;int&gt; |\n",
       "|---|---|---|\n",
       "| Ні  | 0.5681818 | 50 |\n",
       "| Так | 0.4318182 | 38 |\n",
       "\n"
      ],
      "text/plain": [
       "  Відповідь Частка,%  Кількість\n",
       "1 Ні        0.5681818 50       \n",
       "2 Так       0.4318182 38       "
      ]
     },
     "metadata": {},
     "output_type": "display_data"
    }
   ],
   "source": [
    "prop.table"
   ]
  },
  {
   "cell_type": "code",
   "execution_count": 26,
   "id": "027a5348-c0f0-46a0-a3b2-e7f1b4c340b2",
   "metadata": {},
   "outputs": [
    {
     "data": {
      "text/html": [
       "' Чи приймали Ви участь в громадській організації '"
      ],
      "text/latex": [
       "' Чи приймали Ви участь в громадській організації '"
      ],
      "text/markdown": [
       "' Чи приймали Ви участь в громадській організації '"
      ],
      "text/plain": [
       "[1] \" Чи приймали Ви участь в громадській організації \""
      ]
     },
     "metadata": {},
     "output_type": "display_data"
    }
   ],
   "source": [
    "survey_headers[i, 2]"
   ]
  },
  {
   "cell_type": "markdown",
   "id": "993044e2-f9cb-475f-9a90-5a073c5e48b1",
   "metadata": {},
   "source": [
    "У нашій вибірці **43%** респондентів уже приймали участь у ГО, у попередній **39%**, тобто відсоток учасників зріс."
   ]
  },
  {
   "cell_type": "markdown",
   "id": "3440c7bb-d070-4e05-9463-73e20d1f1cc7",
   "metadata": {},
   "source": [
    "---"
   ]
  },
  {
   "cell_type": "code",
   "execution_count": 27,
   "id": "1f9f3a40-fc39-4f32-ab65-2f08787185c2",
   "metadata": {},
   "outputs": [
    {
     "data": {
      "text/html": [
       "37"
      ],
      "text/latex": [
       "37"
      ],
      "text/markdown": [
       "37"
      ],
      "text/plain": [
       "[1] 37"
      ]
     },
     "metadata": {},
     "output_type": "display_data"
    },
    {
     "data": {
      "text/html": [
       "<table class=\"dataframe\">\n",
       "<caption>A data.frame: 8 × 3</caption>\n",
       "<thead>\n",
       "\t<tr><th scope=col>Відповідь</th><th scope=col>Частка,%</th><th scope=col>Кількість</th></tr>\n",
       "\t<tr><th scope=col>&lt;fct&gt;</th><th scope=col>&lt;dbl&gt;</th><th scope=col>&lt;int&gt;</th></tr>\n",
       "</thead>\n",
       "<tbody>\n",
       "\t<tr><td>-                               </td><td>0.00000000</td><td> 0</td></tr>\n",
       "\t<tr><td>Громадські самодіяльні органи   </td><td>0.10810811</td><td> 4</td></tr>\n",
       "\t<tr><td>Жіночі громадські об&amp;#39;єднання</td><td>0.02702703</td><td> 1</td></tr>\n",
       "\t<tr><td>Релігійні організації           </td><td>0.02702703</td><td> 1</td></tr>\n",
       "\t<tr><td>Рухи                            </td><td>0.02702703</td><td> 1</td></tr>\n",
       "\t<tr><td>Профспілка                      </td><td>0.05405405</td><td> 2</td></tr>\n",
       "\t<tr><td>Молодіжна організація           </td><td>0.54054054</td><td>20</td></tr>\n",
       "\t<tr><td>Творчі об'єднання               </td><td>0.21621622</td><td> 8</td></tr>\n",
       "</tbody>\n",
       "</table>\n"
      ],
      "text/latex": [
       "A data.frame: 8 × 3\n",
       "\\begin{tabular}{lll}\n",
       " Відповідь & Частка,\\% & Кількість\\\\\n",
       " <fct> & <dbl> & <int>\\\\\n",
       "\\hline\n",
       "\t -                                & 0.00000000 &  0\\\\\n",
       "\t Громадські самодіяльні органи    & 0.10810811 &  4\\\\\n",
       "\t Жіночі громадські об\\&\\#39;єднання & 0.02702703 &  1\\\\\n",
       "\t Релігійні організації            & 0.02702703 &  1\\\\\n",
       "\t Рухи                             & 0.02702703 &  1\\\\\n",
       "\t Профспілка                       & 0.05405405 &  2\\\\\n",
       "\t Молодіжна організація            & 0.54054054 & 20\\\\\n",
       "\t Творчі об'єднання                & 0.21621622 &  8\\\\\n",
       "\\end{tabular}\n"
      ],
      "text/markdown": [
       "\n",
       "A data.frame: 8 × 3\n",
       "\n",
       "| Відповідь &lt;fct&gt; | Частка,% &lt;dbl&gt; | Кількість &lt;int&gt; |\n",
       "|---|---|---|\n",
       "| -                                | 0.00000000 |  0 |\n",
       "| Громадські самодіяльні органи    | 0.10810811 |  4 |\n",
       "| Жіночі громадські об&amp;#39;єднання | 0.02702703 |  1 |\n",
       "| Релігійні організації            | 0.02702703 |  1 |\n",
       "| Рухи                             | 0.02702703 |  1 |\n",
       "| Профспілка                       | 0.05405405 |  2 |\n",
       "| Молодіжна організація            | 0.54054054 | 20 |\n",
       "| Творчі об'єднання                | 0.21621622 |  8 |\n",
       "\n"
      ],
      "text/plain": [
       "  Відповідь                        Частка,%   Кількість\n",
       "1 -                                0.00000000  0       \n",
       "2 Громадські самодіяльні органи    0.10810811  4       \n",
       "3 Жіночі громадські об&#39;єднання 0.02702703  1       \n",
       "4 Релігійні організації            0.02702703  1       \n",
       "5 Рухи                             0.02702703  1       \n",
       "6 Профспілка                       0.05405405  2       \n",
       "7 Молодіжна організація            0.54054054 20       \n",
       "8 Творчі об'єднання                0.21621622  8       "
      ]
     },
     "metadata": {},
     "output_type": "display_data"
    }
   ],
   "source": [
    "i <- 7\n",
    "\n",
    "nrow(survey_data[survey_data$X6 == \"Так\" & survey_data$X7 != \"-\", ])\n",
    "\n",
    "prop.table <- get.prop.table(survey_data[survey_data$X6 == \"Так\" & survey_data$X7 != \"-\", i])\n",
    "\n",
    "aggregated <- aggregated |>\n",
    "    bind_rows(\n",
    "        data.frame(\n",
    "            No = i,\n",
    "            Question = survey_headers[i, 2],\n",
    "            Answer = prop.table[,1],\n",
    "            Count = prop.table[,3],\n",
    "            Perc = round(100*prop.table[,2], 1)))\n",
    "prop.table\n",
    "#sum(prop.table[,3])"
   ]
  },
  {
   "cell_type": "code",
   "execution_count": 28,
   "id": "f5d2187b-3e92-4c9c-bb0a-87725e613a10",
   "metadata": {},
   "outputs": [
    {
     "data": {
      "text/html": [
       "<style>\n",
       ".list-inline {list-style: none; margin:0; padding: 0}\n",
       ".list-inline>li {display: inline-block}\n",
       ".list-inline>li:not(:last-child)::after {content: \"\\00b7\"; padding: 0 .5ex}\n",
       "</style>\n",
       "<ol class=list-inline><li>-</li><li>-</li><li>-</li><li>-</li><li>-</li><li>Молодіжна організація</li><li>-</li><li>-</li><li>-</li><li>Молодіжна організація</li><li>-</li><li>-</li><li>-</li><li>-</li><li>-</li><li>Творчі об'єднання</li><li>-</li><li>-</li><li>-</li><li>-</li><li>-</li><li>-</li><li>-</li><li>-</li><li>-</li><li>-</li><li>-</li><li>-</li><li>Молодіжна організація</li><li>-</li><li>-</li><li>-</li><li>-</li><li>-</li><li>-</li><li>-</li><li>-</li><li>-</li><li>Релігійні організації</li><li>-</li><li>Рухи</li><li>-</li><li>-</li><li>-</li><li>Творчі об'єднання</li><li>Молодіжна організація</li><li>-</li><li>-</li><li>-</li><li>-</li></ol>\n",
       "\n",
       "<details>\n",
       "\t<summary style=display:list-item;cursor:pointer>\n",
       "\t\t<strong>Levels</strong>:\n",
       "\t</summary>\n",
       "\t<style>\n",
       "\t.list-inline {list-style: none; margin:0; padding: 0}\n",
       "\t.list-inline>li {display: inline-block}\n",
       "\t.list-inline>li:not(:last-child)::after {content: \"\\00b7\"; padding: 0 .5ex}\n",
       "\t</style>\n",
       "\t<ol class=list-inline><li>'-'</li><li>'Громадські самодіяльні органи'</li><li>'Жіночі громадські об&amp;#39;єднання'</li><li>'Релігійні організації'</li><li>'Рухи'</li><li>'Профспілка'</li><li>'Молодіжна організація'</li><li>'Творчі об\\'єднання'</li></ol>\n",
       "</details>"
      ],
      "text/latex": [
       "\\begin{enumerate*}\n",
       "\\item -\n",
       "\\item -\n",
       "\\item -\n",
       "\\item -\n",
       "\\item -\n",
       "\\item Молодіжна організація\n",
       "\\item -\n",
       "\\item -\n",
       "\\item -\n",
       "\\item Молодіжна організація\n",
       "\\item -\n",
       "\\item -\n",
       "\\item -\n",
       "\\item -\n",
       "\\item -\n",
       "\\item Творчі об'єднання\n",
       "\\item -\n",
       "\\item -\n",
       "\\item -\n",
       "\\item -\n",
       "\\item -\n",
       "\\item -\n",
       "\\item -\n",
       "\\item -\n",
       "\\item -\n",
       "\\item -\n",
       "\\item -\n",
       "\\item -\n",
       "\\item Молодіжна організація\n",
       "\\item -\n",
       "\\item -\n",
       "\\item -\n",
       "\\item -\n",
       "\\item -\n",
       "\\item -\n",
       "\\item -\n",
       "\\item -\n",
       "\\item -\n",
       "\\item Релігійні організації\n",
       "\\item -\n",
       "\\item Рухи\n",
       "\\item -\n",
       "\\item -\n",
       "\\item -\n",
       "\\item Творчі об'єднання\n",
       "\\item Молодіжна організація\n",
       "\\item -\n",
       "\\item -\n",
       "\\item -\n",
       "\\item -\n",
       "\\end{enumerate*}\n",
       "\n",
       "\\emph{Levels}: \\begin{enumerate*}\n",
       "\\item '-'\n",
       "\\item 'Громадські самодіяльні органи'\n",
       "\\item 'Жіночі громадські об\\&\\#39;єднання'\n",
       "\\item 'Релігійні організації'\n",
       "\\item 'Рухи'\n",
       "\\item 'Профспілка'\n",
       "\\item 'Молодіжна організація'\n",
       "\\item 'Творчі об\\textbackslash{}'єднання'\n",
       "\\end{enumerate*}\n"
      ],
      "text/markdown": [
       "1. -\n",
       "2. -\n",
       "3. -\n",
       "4. -\n",
       "5. -\n",
       "6. Молодіжна організація\n",
       "7. -\n",
       "8. -\n",
       "9. -\n",
       "10. Молодіжна організація\n",
       "11. -\n",
       "12. -\n",
       "13. -\n",
       "14. -\n",
       "15. -\n",
       "16. Творчі об'єднання\n",
       "17. -\n",
       "18. -\n",
       "19. -\n",
       "20. -\n",
       "21. -\n",
       "22. -\n",
       "23. -\n",
       "24. -\n",
       "25. -\n",
       "26. -\n",
       "27. -\n",
       "28. -\n",
       "29. Молодіжна організація\n",
       "30. -\n",
       "31. -\n",
       "32. -\n",
       "33. -\n",
       "34. -\n",
       "35. -\n",
       "36. -\n",
       "37. -\n",
       "38. -\n",
       "39. Релігійні організації\n",
       "40. -\n",
       "41. Рухи\n",
       "42. -\n",
       "43. -\n",
       "44. -\n",
       "45. Творчі об'єднання\n",
       "46. Молодіжна організація\n",
       "47. -\n",
       "48. -\n",
       "49. -\n",
       "50. -\n",
       "\n",
       "\n",
       "\n",
       "**Levels**: 1. '-'\n",
       "2. 'Громадські самодіяльні органи'\n",
       "3. 'Жіночі громадські об&amp;#39;єднання'\n",
       "4. 'Релігійні організації'\n",
       "5. 'Рухи'\n",
       "6. 'Профспілка'\n",
       "7. 'Молодіжна організація'\n",
       "8. 'Творчі об\\'єднання'\n",
       "\n",
       "\n"
      ],
      "text/plain": [
       " [1] -                     -                     -                    \n",
       " [4] -                     -                     Молодіжна організація\n",
       " [7] -                     -                     -                    \n",
       "[10] Молодіжна організація -                     -                    \n",
       "[13] -                     -                     -                    \n",
       "[16] Творчі об'єднання     -                     -                    \n",
       "[19] -                     -                     -                    \n",
       "[22] -                     -                     -                    \n",
       "[25] -                     -                     -                    \n",
       "[28] -                     Молодіжна організація -                    \n",
       "[31] -                     -                     -                    \n",
       "[34] -                     -                     -                    \n",
       "[37] -                     -                     Релігійні організації\n",
       "[40] -                     Рухи                  -                    \n",
       "[43] -                     -                     Творчі об'єднання    \n",
       "[46] Молодіжна організація -                     -                    \n",
       "[49] -                     -                    \n",
       "8 Levels: - Громадські самодіяльні органи ... Творчі об'єднання"
      ]
     },
     "metadata": {},
     "output_type": "display_data"
    }
   ],
   "source": [
    "survey_data[survey_data$X6 != \"Так\", i]"
   ]
  },
  {
   "cell_type": "code",
   "execution_count": 29,
   "id": "912c0d39-d564-4016-b9f8-e9b6c6d8b19f",
   "metadata": {},
   "outputs": [
    {
     "data": {
      "image/png": "[encoded data removed]",
      "text/plain": [
       "plot without title"
      ]
     },
     "metadata": {
      "image/png": {
       "height": 420,
       "width": 420
      }
     },
     "output_type": "display_data"
    }
   ],
   "source": [
    "ggplot(survey_data[survey_data$X6 == \"Так\" & survey_data$X7 != \"-\",], aes(x=factor(X7), fill=factor(X2))) +\n",
    "    geom_bar(stat=\"count\", width=0.9) +\n",
    "     geom_text(stat = \"count\", aes(label = after_stat(count)), position = position_stack(vjust = .5), size = 5)+\n",
    "    theme_light()+\n",
    "    theme(\n",
    "        plot.title = element_text(size=18),\n",
    "        axis.title.x = element_text(size=16),\n",
    "        axis.title.y = element_text(size=16)) +\n",
    "    labs(title=survey_headers[i, 2], x = survey_headers[i, 2], y = \"Observations count\")"
   ]
  },
  {
   "cell_type": "code",
   "execution_count": 30,
   "id": "ba98e867-e697-479a-8ee1-d6ac77f6adb7",
   "metadata": {},
   "outputs": [
    {
     "data": {
      "text/html": [
       "<table class=\"dataframe\">\n",
       "<caption>A data.frame: 8 × 3</caption>\n",
       "<thead>\n",
       "\t<tr><th scope=col>Відповідь</th><th scope=col>Частка,%</th><th scope=col>Кількість</th></tr>\n",
       "\t<tr><th scope=col>&lt;fct&gt;</th><th scope=col>&lt;dbl&gt;</th><th scope=col>&lt;int&gt;</th></tr>\n",
       "</thead>\n",
       "<tbody>\n",
       "\t<tr><td>-                               </td><td>0.00000000</td><td> 0</td></tr>\n",
       "\t<tr><td>Громадські самодіяльні органи   </td><td>0.10810811</td><td> 4</td></tr>\n",
       "\t<tr><td>Жіночі громадські об&amp;#39;єднання</td><td>0.02702703</td><td> 1</td></tr>\n",
       "\t<tr><td>Релігійні організації           </td><td>0.02702703</td><td> 1</td></tr>\n",
       "\t<tr><td>Рухи                            </td><td>0.02702703</td><td> 1</td></tr>\n",
       "\t<tr><td>Профспілка                      </td><td>0.05405405</td><td> 2</td></tr>\n",
       "\t<tr><td>Молодіжна організація           </td><td>0.54054054</td><td>20</td></tr>\n",
       "\t<tr><td>Творчі об'єднання               </td><td>0.21621622</td><td> 8</td></tr>\n",
       "</tbody>\n",
       "</table>\n"
      ],
      "text/latex": [
       "A data.frame: 8 × 3\n",
       "\\begin{tabular}{lll}\n",
       " Відповідь & Частка,\\% & Кількість\\\\\n",
       " <fct> & <dbl> & <int>\\\\\n",
       "\\hline\n",
       "\t -                                & 0.00000000 &  0\\\\\n",
       "\t Громадські самодіяльні органи    & 0.10810811 &  4\\\\\n",
       "\t Жіночі громадські об\\&\\#39;єднання & 0.02702703 &  1\\\\\n",
       "\t Релігійні організації            & 0.02702703 &  1\\\\\n",
       "\t Рухи                             & 0.02702703 &  1\\\\\n",
       "\t Профспілка                       & 0.05405405 &  2\\\\\n",
       "\t Молодіжна організація            & 0.54054054 & 20\\\\\n",
       "\t Творчі об'єднання                & 0.21621622 &  8\\\\\n",
       "\\end{tabular}\n"
      ],
      "text/markdown": [
       "\n",
       "A data.frame: 8 × 3\n",
       "\n",
       "| Відповідь &lt;fct&gt; | Частка,% &lt;dbl&gt; | Кількість &lt;int&gt; |\n",
       "|---|---|---|\n",
       "| -                                | 0.00000000 |  0 |\n",
       "| Громадські самодіяльні органи    | 0.10810811 |  4 |\n",
       "| Жіночі громадські об&amp;#39;єднання | 0.02702703 |  1 |\n",
       "| Релігійні організації            | 0.02702703 |  1 |\n",
       "| Рухи                             | 0.02702703 |  1 |\n",
       "| Профспілка                       | 0.05405405 |  2 |\n",
       "| Молодіжна організація            | 0.54054054 | 20 |\n",
       "| Творчі об'єднання                | 0.21621622 |  8 |\n",
       "\n"
      ],
      "text/plain": [
       "  Відповідь                        Частка,%   Кількість\n",
       "1 -                                0.00000000  0       \n",
       "2 Громадські самодіяльні органи    0.10810811  4       \n",
       "3 Жіночі громадські об&#39;єднання 0.02702703  1       \n",
       "4 Релігійні організації            0.02702703  1       \n",
       "5 Рухи                             0.02702703  1       \n",
       "6 Профспілка                       0.05405405  2       \n",
       "7 Молодіжна організація            0.54054054 20       \n",
       "8 Творчі об'єднання                0.21621622  8       "
      ]
     },
     "metadata": {},
     "output_type": "display_data"
    }
   ],
   "source": [
    "prop.table"
   ]
  },
  {
   "cell_type": "code",
   "execution_count": 31,
   "id": "7e25aa12-f127-4f1b-b6ef-e56423fe6156",
   "metadata": {},
   "outputs": [
    {
     "data": {
      "text/html": [
       "<span style=white-space:pre-wrap>' Якщо на питання 6 Ви відповіли ТАК тоді  якого типу це була організація '</span>"
      ],
      "text/latex": [
       "' Якщо на питання 6 Ви відповіли ТАК тоді  якого типу це була організація '"
      ],
      "text/markdown": [
       "<span style=white-space:pre-wrap>' Якщо на питання 6 Ви відповіли ТАК тоді  якого типу це була організація '</span>"
      ],
      "text/plain": [
       "[1] \" Якщо на питання 6 Ви відповіли ТАК тоді  якого типу це була організація \""
      ]
     },
     "metadata": {},
     "output_type": "display_data"
    }
   ],
   "source": [
    "survey_headers[i, 2]"
   ]
  },
  {
   "cell_type": "markdown",
   "id": "0c0eac78-bd7a-4c09-a891-c3f811ab3e0c",
   "metadata": {},
   "source": [
    "Серед опитаних більшість так само є прихильниками Молодіжних організацій (53% та 58% відповідно) та Творчих обєднань (22% та 21%)."
   ]
  },
  {
   "cell_type": "markdown",
   "id": "32df40be-e74b-4ba3-8a1c-260d434f6599",
   "metadata": {},
   "source": [
    "---"
   ]
  },
  {
   "cell_type": "code",
   "execution_count": 32,
   "id": "67b37ab2-b77a-4718-9757-a378e42dad3b",
   "metadata": {},
   "outputs": [],
   "source": [
    "i <- 8\n",
    "\n",
    "prop.table <- get.prop.table(survey_data[survey_data$X8 != \"-\",i])\n",
    "\n",
    "\n",
    "aggregated <- aggregated |>\n",
    "    bind_rows(\n",
    "        data.frame(\n",
    "            No = i,\n",
    "            Question = survey_headers[i, 2],\n",
    "            Answer = prop.table[,1],\n",
    "            Count = prop.table[,3],\n",
    "            Perc = round(100*prop.table[,2], 1)))"
   ]
  },
  {
   "cell_type": "code",
   "execution_count": 33,
   "id": "30e8cf0e-77cc-4e4d-abc7-257e59f6f16b",
   "metadata": {},
   "outputs": [
    {
     "data": {
      "image/png": "[encoded data removed]",
      "text/plain": [
       "plot without title"
      ]
     },
     "metadata": {
      "image/png": {
       "height": 420,
       "width": 420
      }
     },
     "output_type": "display_data"
    }
   ],
   "source": [
    "ggplot(survey_data, aes(x=factor(X8), fill=factor(X2))) +\n",
    "    geom_bar(stat=\"count\", width=0.9) +\n",
    "     geom_text(stat = \"count\", aes(label = after_stat(count)), position = position_stack(vjust = .5), size = 5)+\n",
    "    theme_light()+\n",
    "    theme(\n",
    "        plot.title = element_text(size=18),\n",
    "        axis.title.x = element_text(size=16),\n",
    "        axis.title.y = element_text(size=16)) +\n",
    "    labs(title=survey_headers[i, 2], x = survey_headers[i, 2], y = \"Observations count\")"
   ]
  },
  {
   "cell_type": "code",
   "execution_count": 34,
   "id": "fd9cf212-83ec-47b8-8cb0-9a7fe47ed976",
   "metadata": {},
   "outputs": [
    {
     "data": {
      "text/html": [
       "<table class=\"dataframe\">\n",
       "<caption>A data.frame: 7 × 3</caption>\n",
       "<thead>\n",
       "\t<tr><th scope=col>Відповідь</th><th scope=col>Частка,%</th><th scope=col>Кількість</th></tr>\n",
       "\t<tr><th scope=col>&lt;fct&gt;</th><th scope=col>&lt;dbl&gt;</th><th scope=col>&lt;int&gt;</th></tr>\n",
       "</thead>\n",
       "<tbody>\n",
       "\t<tr><td>-                                              </td><td>0.00000000</td><td> 0</td></tr>\n",
       "\t<tr><td>Ніколи про них не чув/ла                       </td><td>0.16666667</td><td> 8</td></tr>\n",
       "\t<tr><td>Не мав/ла часу                                 </td><td>0.16666667</td><td> 8</td></tr>\n",
       "\t<tr><td>Не мав/ла змоги                                </td><td>0.33333333</td><td>16</td></tr>\n",
       "\t<tr><td>Не цікаво                                      </td><td>0.16666667</td><td> 8</td></tr>\n",
       "\t<tr><td>Мене туди не запрошували                       </td><td>0.12500000</td><td> 6</td></tr>\n",
       "\t<tr><td>Потребує постійних особитих фінансових ресурсів</td><td>0.04166667</td><td> 2</td></tr>\n",
       "</tbody>\n",
       "</table>\n"
      ],
      "text/latex": [
       "A data.frame: 7 × 3\n",
       "\\begin{tabular}{lll}\n",
       " Відповідь & Частка,\\% & Кількість\\\\\n",
       " <fct> & <dbl> & <int>\\\\\n",
       "\\hline\n",
       "\t -                                               & 0.00000000 &  0\\\\\n",
       "\t Ніколи про них не чув/ла                        & 0.16666667 &  8\\\\\n",
       "\t Не мав/ла часу                                  & 0.16666667 &  8\\\\\n",
       "\t Не мав/ла змоги                                 & 0.33333333 & 16\\\\\n",
       "\t Не цікаво                                       & 0.16666667 &  8\\\\\n",
       "\t Мене туди не запрошували                        & 0.12500000 &  6\\\\\n",
       "\t Потребує постійних особитих фінансових ресурсів & 0.04166667 &  2\\\\\n",
       "\\end{tabular}\n"
      ],
      "text/markdown": [
       "\n",
       "A data.frame: 7 × 3\n",
       "\n",
       "| Відповідь &lt;fct&gt; | Частка,% &lt;dbl&gt; | Кількість &lt;int&gt; |\n",
       "|---|---|---|\n",
       "| -                                               | 0.00000000 |  0 |\n",
       "| Ніколи про них не чув/ла                        | 0.16666667 |  8 |\n",
       "| Не мав/ла часу                                  | 0.16666667 |  8 |\n",
       "| Не мав/ла змоги                                 | 0.33333333 | 16 |\n",
       "| Не цікаво                                       | 0.16666667 |  8 |\n",
       "| Мене туди не запрошували                        | 0.12500000 |  6 |\n",
       "| Потребує постійних особитих фінансових ресурсів | 0.04166667 |  2 |\n",
       "\n"
      ],
      "text/plain": [
       "  Відповідь                                       Частка,%   Кількість\n",
       "1 -                                               0.00000000  0       \n",
       "2 Ніколи про них не чув/ла                        0.16666667  8       \n",
       "3 Не мав/ла часу                                  0.16666667  8       \n",
       "4 Не мав/ла змоги                                 0.33333333 16       \n",
       "5 Не цікаво                                       0.16666667  8       \n",
       "6 Мене туди не запрошували                        0.12500000  6       \n",
       "7 Потребує постійних особитих фінансових ресурсів 0.04166667  2       "
      ]
     },
     "metadata": {},
     "output_type": "display_data"
    }
   ],
   "source": [
    "prop.table"
   ]
  },
  {
   "cell_type": "markdown",
   "id": "52157b19-cf00-4e70-a34a-6ef884ce102d",
   "metadata": {},
   "source": [
    "Кількість осіб, яким не цікаво знизилася з 23,3% до 16,7%.\n",
    "\n",
    "Більше ніж вдвічі зменшилася кількість осіб, що відповіли \"Мене туди не запрошували\": з 33,3% до 12,5%."
   ]
  },
  {
   "cell_type": "markdown",
   "id": "f8d80475-8d28-4365-92d7-dd97220a2039",
   "metadata": {},
   "source": [
    "---"
   ]
  },
  {
   "cell_type": "code",
   "execution_count": 35,
   "id": "dd3688e6-06ec-4617-aec2-486da6cbd9a7",
   "metadata": {},
   "outputs": [],
   "source": [
    "i <- 9\n",
    "\n",
    "prop.table <- get.prop.table(survey_data[,i])\n",
    "\n",
    "aggregated <- aggregated |>\n",
    "    bind_rows(\n",
    "        data.frame(\n",
    "            No = i,\n",
    "            Question = survey_headers[i, 2],\n",
    "            Answer = prop.table[,1],\n",
    "            Count = prop.table[,3],\n",
    "            Perc = round(100*prop.table[,2], 1)))"
   ]
  },
  {
   "cell_type": "code",
   "execution_count": 36,
   "id": "73b7e994-af59-41fc-8a91-ac8e257e5663",
   "metadata": {},
   "outputs": [
    {
     "data": {
      "image/png": "[encoded data removed]",
      "text/plain": [
       "plot without title"
      ]
     },
     "metadata": {
      "image/png": {
       "height": 420,
       "width": 420
      }
     },
     "output_type": "display_data"
    }
   ],
   "source": [
    "ggplot(survey_data, aes(x=factor(X9), fill=factor(X2))) +\n",
    "    geom_bar(stat=\"count\", width=0.9) +\n",
    "     geom_text(stat = \"count\", aes(label = after_stat(count)), position = position_stack(vjust = .5), size = 5)+\n",
    "    theme_light()+\n",
    "    theme(\n",
    "        plot.title = element_text(size=18),\n",
    "        axis.title.x = element_text(size=16),\n",
    "        axis.title.y = element_text(size=16)) +\n",
    "    labs(title=survey_headers[i, 2], x = survey_headers[i, 2], y = \"Observations count\")"
   ]
  },
  {
   "cell_type": "code",
   "execution_count": 37,
   "id": "0f0c9ac4-e630-466f-8965-66efd56ab2bf",
   "metadata": {},
   "outputs": [
    {
     "data": {
      "text/html": [
       "<table class=\"dataframe\">\n",
       "<caption>A data.frame: 2 × 3</caption>\n",
       "<thead>\n",
       "\t<tr><th scope=col>Відповідь</th><th scope=col>Частка,%</th><th scope=col>Кількість</th></tr>\n",
       "\t<tr><th scope=col>&lt;fct&gt;</th><th scope=col>&lt;dbl&gt;</th><th scope=col>&lt;int&gt;</th></tr>\n",
       "</thead>\n",
       "<tbody>\n",
       "\t<tr><td>Ні </td><td>0.8636364</td><td>76</td></tr>\n",
       "\t<tr><td>Так</td><td>0.1363636</td><td>12</td></tr>\n",
       "</tbody>\n",
       "</table>\n"
      ],
      "text/latex": [
       "A data.frame: 2 × 3\n",
       "\\begin{tabular}{lll}\n",
       " Відповідь & Частка,\\% & Кількість\\\\\n",
       " <fct> & <dbl> & <int>\\\\\n",
       "\\hline\n",
       "\t Ні  & 0.8636364 & 76\\\\\n",
       "\t Так & 0.1363636 & 12\\\\\n",
       "\\end{tabular}\n"
      ],
      "text/markdown": [
       "\n",
       "A data.frame: 2 × 3\n",
       "\n",
       "| Відповідь &lt;fct&gt; | Частка,% &lt;dbl&gt; | Кількість &lt;int&gt; |\n",
       "|---|---|---|\n",
       "| Ні  | 0.8636364 | 76 |\n",
       "| Так | 0.1363636 | 12 |\n",
       "\n"
      ],
      "text/plain": [
       "  Відповідь Частка,%  Кількість\n",
       "1 Ні        0.8636364 76       \n",
       "2 Так       0.1363636 12       "
      ]
     },
     "metadata": {},
     "output_type": "display_data"
    }
   ],
   "source": [
    "prop.table"
   ]
  },
  {
   "cell_type": "markdown",
   "id": "a1655445-d4f7-41ea-868b-c06dc5f53020",
   "metadata": {},
   "source": [
    "Кількість учасників ГО у нашому дослідженні 13,6%, у попередньому 15,3%."
   ]
  },
  {
   "cell_type": "markdown",
   "id": "e2700803-3d58-47e8-acb3-2b211c7639a3",
   "metadata": {},
   "source": [
    "---"
   ]
  },
  {
   "cell_type": "code",
   "execution_count": 38,
   "id": "5f4f1072-2b66-498a-a92b-35bf7345ed03",
   "metadata": {},
   "outputs": [],
   "source": [
    "i <- 10\n",
    "\n",
    "prop.table <- get.prop.table(survey_data[,i])\n",
    "\n",
    "aggregated <- aggregated |>\n",
    "    bind_rows(\n",
    "        data.frame(\n",
    "            No = i,\n",
    "            Question = survey_headers[i, 2],\n",
    "            Answer = prop.table[,1],\n",
    "            Count = prop.table[,3],\n",
    "            Perc = round(100*prop.table[,2], 1)))"
   ]
  },
  {
   "cell_type": "code",
   "execution_count": 39,
   "id": "b7cb4b3c-1e4c-4edb-982b-975e47d06e4b",
   "metadata": {},
   "outputs": [
    {
     "data": {
      "image/png": "[encoded data removed]",
      "text/plain": [
       "plot without title"
      ]
     },
     "metadata": {
      "image/png": {
       "height": 420,
       "width": 420
      }
     },
     "output_type": "display_data"
    }
   ],
   "source": [
    "ggplot(survey_data, aes(x=factor(X10), fill=factor(X2))) +\n",
    "    geom_bar(stat=\"count\", width=0.9) +\n",
    "     geom_text(stat = \"count\", aes(label = after_stat(count)), position = position_stack(vjust = .5), size = 5)+\n",
    "    theme_light()+\n",
    "    theme(\n",
    "        plot.title = element_text(size=18),\n",
    "        axis.title.x = element_text(size=16),\n",
    "        axis.title.y = element_text(size=16)) +\n",
    "    labs(title=survey_headers[i, 2], x = survey_headers[i, 2], y = \"Observations count\")"
   ]
  },
  {
   "cell_type": "code",
   "execution_count": 40,
   "id": "1c645942-9dca-4969-a9d5-f6cf9de6c7ea",
   "metadata": {},
   "outputs": [
    {
     "data": {
      "text/html": [
       "<table class=\"dataframe\">\n",
       "<caption>A data.frame: 2 × 3</caption>\n",
       "<thead>\n",
       "\t<tr><th scope=col>Відповідь</th><th scope=col>Частка,%</th><th scope=col>Кількість</th></tr>\n",
       "\t<tr><th scope=col>&lt;fct&gt;</th><th scope=col>&lt;dbl&gt;</th><th scope=col>&lt;int&gt;</th></tr>\n",
       "</thead>\n",
       "<tbody>\n",
       "\t<tr><td>Ні </td><td>0.4204545</td><td>37</td></tr>\n",
       "\t<tr><td>Так</td><td>0.5795455</td><td>51</td></tr>\n",
       "</tbody>\n",
       "</table>\n"
      ],
      "text/latex": [
       "A data.frame: 2 × 3\n",
       "\\begin{tabular}{lll}\n",
       " Відповідь & Частка,\\% & Кількість\\\\\n",
       " <fct> & <dbl> & <int>\\\\\n",
       "\\hline\n",
       "\t Ні  & 0.4204545 & 37\\\\\n",
       "\t Так & 0.5795455 & 51\\\\\n",
       "\\end{tabular}\n"
      ],
      "text/markdown": [
       "\n",
       "A data.frame: 2 × 3\n",
       "\n",
       "| Відповідь &lt;fct&gt; | Частка,% &lt;dbl&gt; | Кількість &lt;int&gt; |\n",
       "|---|---|---|\n",
       "| Ні  | 0.4204545 | 37 |\n",
       "| Так | 0.5795455 | 51 |\n",
       "\n"
      ],
      "text/plain": [
       "  Відповідь Частка,%  Кількість\n",
       "1 Ні        0.4204545 37       \n",
       "2 Так       0.5795455 51       "
      ]
     },
     "metadata": {},
     "output_type": "display_data"
    }
   ],
   "source": [
    "prop.table"
   ]
  },
  {
   "cell_type": "markdown",
   "id": "2608d172-2774-4242-9e9f-cf363235af8e",
   "metadata": {},
   "source": [
    "Кількість учасників, що приймали участь у одноразовій акції зросла з 52,8% до 58%."
   ]
  },
  {
   "cell_type": "markdown",
   "id": "7af37aa2-b763-496d-91c0-57f2d99806bf",
   "metadata": {},
   "source": [
    "---"
   ]
  },
  {
   "cell_type": "code",
   "execution_count": 41,
   "id": "d694bcba-a8cc-4505-8b52-0437eac98efb",
   "metadata": {},
   "outputs": [],
   "source": [
    "i <- 11\n",
    "\n",
    "prop.table <- get.prop.table(survey_data[,i])\n",
    "\n",
    "aggregated <- aggregated |>\n",
    "    bind_rows(\n",
    "        data.frame(\n",
    "            No = i,\n",
    "            Question = survey_headers[i, 2],\n",
    "            Answer = prop.table[,1],\n",
    "            Count = prop.table[,3],\n",
    "            Perc = round(100*prop.table[,2], 1)))"
   ]
  },
  {
   "cell_type": "code",
   "execution_count": 42,
   "id": "9af276be-9cd4-449e-bd82-e7738a0ddb7b",
   "metadata": {},
   "outputs": [
    {
     "data": {
      "image/png": "[encoded data removed]",
      "text/plain": [
       "plot without title"
      ]
     },
     "metadata": {
      "image/png": {
       "height": 420,
       "width": 420
      }
     },
     "output_type": "display_data"
    }
   ],
   "source": [
    "ggplot(survey_data, aes(x=factor(X11), fill=factor(X2))) +\n",
    "    geom_bar(stat=\"count\", width=0.9) +\n",
    "     geom_text(stat = \"count\", aes(label = after_stat(count)), position = position_stack(vjust = .5), size = 5)+\n",
    "    theme_light()+\n",
    "    theme(\n",
    "        plot.title = element_text(size=18),\n",
    "        axis.title.x = element_text(size=16),\n",
    "        axis.title.y = element_text(size=16)) +\n",
    "    labs(title=survey_headers[i, 2], x = survey_headers[i, 2], y = \"Observations count\")"
   ]
  },
  {
   "cell_type": "code",
   "execution_count": 43,
   "id": "28cf74eb-039a-45e3-ba3b-d21eae31a700",
   "metadata": {},
   "outputs": [
    {
     "data": {
      "text/html": [
       "<table class=\"dataframe\">\n",
       "<caption>A data.frame: 3 × 3</caption>\n",
       "<thead>\n",
       "\t<tr><th scope=col>Відповідь</th><th scope=col>Частка,%</th><th scope=col>Кількість</th></tr>\n",
       "\t<tr><th scope=col>&lt;fct&gt;</th><th scope=col>&lt;dbl&gt;</th><th scope=col>&lt;int&gt;</th></tr>\n",
       "</thead>\n",
       "<tbody>\n",
       "\t<tr><td>Ні, жодного  </td><td>0.3977273</td><td>35</td></tr>\n",
       "\t<tr><td>Так, декілька</td><td>0.4431818</td><td>39</td></tr>\n",
       "\t<tr><td>Так, один    </td><td>0.1590909</td><td>14</td></tr>\n",
       "</tbody>\n",
       "</table>\n"
      ],
      "text/latex": [
       "A data.frame: 3 × 3\n",
       "\\begin{tabular}{lll}\n",
       " Відповідь & Частка,\\% & Кількість\\\\\n",
       " <fct> & <dbl> & <int>\\\\\n",
       "\\hline\n",
       "\t Ні, жодного   & 0.3977273 & 35\\\\\n",
       "\t Так, декілька & 0.4431818 & 39\\\\\n",
       "\t Так, один     & 0.1590909 & 14\\\\\n",
       "\\end{tabular}\n"
      ],
      "text/markdown": [
       "\n",
       "A data.frame: 3 × 3\n",
       "\n",
       "| Відповідь &lt;fct&gt; | Частка,% &lt;dbl&gt; | Кількість &lt;int&gt; |\n",
       "|---|---|---|\n",
       "| Ні, жодного   | 0.3977273 | 35 |\n",
       "| Так, декілька | 0.4431818 | 39 |\n",
       "| Так, один     | 0.1590909 | 14 |\n",
       "\n"
      ],
      "text/plain": [
       "  Відповідь     Частка,%  Кількість\n",
       "1 Ні, жодного   0.3977273 35       \n",
       "2 Так, декілька 0.4431818 39       \n",
       "3 Так, один     0.1590909 14       "
      ]
     },
     "metadata": {},
     "output_type": "display_data"
    }
   ],
   "source": [
    "prop.table"
   ]
  },
  {
   "cell_type": "markdown",
   "id": "f9769b1e-fa17-43c5-9f76-b18953173ad1",
   "metadata": {},
   "source": [
    "У нашій вибірці меншйи процент учасників, що мають декілька знайомих, що є членами ГО, 44% порівняно із 56% попереднього дослідження."
   ]
  },
  {
   "cell_type": "markdown",
   "id": "0863fca2-6ed4-4f7e-914b-9f4e7a5dec0e",
   "metadata": {},
   "source": [
    "---"
   ]
  },
  {
   "cell_type": "code",
   "execution_count": 44,
   "id": "34bbb864-aa1c-47e0-a785-08f3690686fc",
   "metadata": {},
   "outputs": [],
   "source": [
    "i <- 12\n",
    "\n",
    "prop.table <- get.prop.table(survey_data[,i])\n",
    "\n",
    "aggregated <- aggregated |>\n",
    "    bind_rows(\n",
    "        data.frame(\n",
    "            No = i,\n",
    "            Question = survey_headers[i, 2],\n",
    "            Answer = prop.table[,1],\n",
    "            Count = prop.table[,3],\n",
    "            Perc = round(100*prop.table[,2], 1)))"
   ]
  },
  {
   "cell_type": "code",
   "execution_count": 45,
   "id": "ad7b159c-49a5-47ca-9f2d-0835c0472580",
   "metadata": {},
   "outputs": [
    {
     "data": {
      "image/png": "[encoded data removed]",
      "text/plain": [
       "plot without title"
      ]
     },
     "metadata": {
      "image/png": {
       "height": 420,
       "width": 420
      }
     },
     "output_type": "display_data"
    }
   ],
   "source": [
    "ggplot(survey_data, aes(x=factor(X12), fill=factor(X2))) +\n",
    "    geom_bar(stat=\"count\", width=0.9) +\n",
    "     geom_text(stat = \"count\", aes(label = after_stat(count)), position = position_stack(vjust = .5), size = 5)+\n",
    "    theme_light()+\n",
    "    theme(\n",
    "        plot.title = element_text(size=18),\n",
    "        axis.title.x = element_text(size=16),\n",
    "        axis.title.y = element_text(size=16)) +\n",
    "    labs(title=survey_headers[i, 2], x = survey_headers[i, 2], y = \"Observations count\")"
   ]
  },
  {
   "cell_type": "code",
   "execution_count": 46,
   "id": "316cc5fc-dc5f-46fd-9056-30d848325d7f",
   "metadata": {},
   "outputs": [
    {
     "data": {
      "text/html": [
       "<table class=\"dataframe\">\n",
       "<caption>A data.frame: 8 × 3</caption>\n",
       "<thead>\n",
       "\t<tr><th scope=col>Відповідь</th><th scope=col>Частка,%</th><th scope=col>Кількість</th></tr>\n",
       "\t<tr><th scope=col>&lt;fct&gt;</th><th scope=col>&lt;dbl&gt;</th><th scope=col>&lt;int&gt;</th></tr>\n",
       "</thead>\n",
       "<tbody>\n",
       "\t<tr><td>Громадські самодіяльні органи   </td><td>0.07954545</td><td> 7</td></tr>\n",
       "\t<tr><td>Жіночі громадські об&amp;#39;єднання</td><td>0.04545455</td><td> 4</td></tr>\n",
       "\t<tr><td>Все одно не хочу                </td><td>0.12500000</td><td>11</td></tr>\n",
       "\t<tr><td>Релігійні організації           </td><td>0.01136364</td><td> 1</td></tr>\n",
       "\t<tr><td>Рухи                            </td><td>0.06818182</td><td> 6</td></tr>\n",
       "\t<tr><td>Профспілка                      </td><td>0.04545455</td><td> 4</td></tr>\n",
       "\t<tr><td>Молодіжна організація           </td><td>0.46590909</td><td>41</td></tr>\n",
       "\t<tr><td>Творчі об'єднання               </td><td>0.15909091</td><td>14</td></tr>\n",
       "</tbody>\n",
       "</table>\n"
      ],
      "text/latex": [
       "A data.frame: 8 × 3\n",
       "\\begin{tabular}{lll}\n",
       " Відповідь & Частка,\\% & Кількість\\\\\n",
       " <fct> & <dbl> & <int>\\\\\n",
       "\\hline\n",
       "\t Громадські самодіяльні органи    & 0.07954545 &  7\\\\\n",
       "\t Жіночі громадські об\\&\\#39;єднання & 0.04545455 &  4\\\\\n",
       "\t Все одно не хочу                 & 0.12500000 & 11\\\\\n",
       "\t Релігійні організації            & 0.01136364 &  1\\\\\n",
       "\t Рухи                             & 0.06818182 &  6\\\\\n",
       "\t Профспілка                       & 0.04545455 &  4\\\\\n",
       "\t Молодіжна організація            & 0.46590909 & 41\\\\\n",
       "\t Творчі об'єднання                & 0.15909091 & 14\\\\\n",
       "\\end{tabular}\n"
      ],
      "text/markdown": [
       "\n",
       "A data.frame: 8 × 3\n",
       "\n",
       "| Відповідь &lt;fct&gt; | Частка,% &lt;dbl&gt; | Кількість &lt;int&gt; |\n",
       "|---|---|---|\n",
       "| Громадські самодіяльні органи    | 0.07954545 |  7 |\n",
       "| Жіночі громадські об&amp;#39;єднання | 0.04545455 |  4 |\n",
       "| Все одно не хочу                 | 0.12500000 | 11 |\n",
       "| Релігійні організації            | 0.01136364 |  1 |\n",
       "| Рухи                             | 0.06818182 |  6 |\n",
       "| Профспілка                       | 0.04545455 |  4 |\n",
       "| Молодіжна організація            | 0.46590909 | 41 |\n",
       "| Творчі об'єднання                | 0.15909091 | 14 |\n",
       "\n"
      ],
      "text/plain": [
       "  Відповідь                        Частка,%   Кількість\n",
       "1 Громадські самодіяльні органи    0.07954545  7       \n",
       "2 Жіночі громадські об&#39;єднання 0.04545455  4       \n",
       "3 Все одно не хочу                 0.12500000 11       \n",
       "4 Релігійні організації            0.01136364  1       \n",
       "5 Рухи                             0.06818182  6       \n",
       "6 Профспілка                       0.04545455  4       \n",
       "7 Молодіжна організація            0.46590909 41       \n",
       "8 Творчі об'єднання                0.15909091 14       "
      ]
     },
     "metadata": {},
     "output_type": "display_data"
    }
   ],
   "source": [
    "prop.table"
   ]
  },
  {
   "cell_type": "markdown",
   "id": "08018c7d-ef8f-4921-9380-0e5f20922c7b",
   "metadata": {},
   "source": [
    "Більшість з обох дослідженнях мають бажання приймати участь у Молодіжних організаціях (47% та 55%).\n",
    "\n",
    "**Увага. У попередньому дослідженні теж якась помилка з кількістю учасників опитування з цього питання. Їх сумарно виходить 176!!! А має бути 95. Варто перевірити**."
   ]
  },
  {
   "cell_type": "markdown",
   "id": "1104312b-2f8b-4d7c-8128-7b739f6b1fdc",
   "metadata": {},
   "source": [
    "---"
   ]
  },
  {
   "cell_type": "code",
   "execution_count": 47,
   "id": "aac8904d-cc2b-44b8-98fe-88b41cb43f6b",
   "metadata": {},
   "outputs": [],
   "source": [
    "i <- 13\n",
    "\n",
    "prop.table <- get.prop.table(survey_data[,i])\n",
    "\n",
    "aggregated <- aggregated |>\n",
    "    bind_rows(\n",
    "        data.frame(\n",
    "            No = i,\n",
    "            Question = survey_headers[i, 2],\n",
    "            Answer = prop.table[,1],\n",
    "            Count = prop.table[,3],\n",
    "            Perc = round(100*prop.table[,2], 1)))"
   ]
  },
  {
   "cell_type": "code",
   "execution_count": 48,
   "id": "1a789107-3c4f-42e6-8cf9-3b4a9485c5d3",
   "metadata": {},
   "outputs": [
    {
     "data": {
      "image/png": "[encoded data removed]",
      "text/plain": [
       "plot without title"
      ]
     },
     "metadata": {
      "image/png": {
       "height": 420,
       "width": 420
      }
     },
     "output_type": "display_data"
    }
   ],
   "source": [
    "ggplot(survey_data, aes(x=factor(X13), fill=factor(X2))) +\n",
    "    geom_bar(stat=\"count\", width=0.9) +\n",
    "     geom_text(stat = \"count\", aes(label = after_stat(count)), position = position_stack(vjust = .5), size = 5)+\n",
    "    theme_light()+\n",
    "    theme(\n",
    "        plot.title = element_text(size=18),\n",
    "        axis.title.x = element_text(size=16),\n",
    "        axis.title.y = element_text(size=16)) +\n",
    "    labs(title=survey_headers[i, 2], x = survey_headers[i, 2], y = \"Observations count\")"
   ]
  },
  {
   "cell_type": "code",
   "execution_count": 49,
   "id": "4d9c5b84-658e-40ed-87e8-86e632aa68fc",
   "metadata": {},
   "outputs": [
    {
     "data": {
      "text/html": [
       "<table class=\"dataframe\">\n",
       "<caption>A data.frame: 5 × 3</caption>\n",
       "<thead>\n",
       "\t<tr><th scope=col>Відповідь</th><th scope=col>Частка,%</th><th scope=col>Кількість</th></tr>\n",
       "\t<tr><th scope=col>&lt;fct&gt;</th><th scope=col>&lt;dbl&gt;</th><th scope=col>&lt;int&gt;</th></tr>\n",
       "</thead>\n",
       "<tbody>\n",
       "\t<tr><td>Байдуже                                              </td><td>0.10227273</td><td> 9</td></tr>\n",
       "\t<tr><td>Ні, даремна трата часу                               </td><td>0.01136364</td><td> 1</td></tr>\n",
       "\t<tr><td>Ні, це все вигадки для відмивання грошей             </td><td>0.01136364</td><td> 1</td></tr>\n",
       "\t<tr><td>Так, оскільки вони покликані допомагати              </td><td>0.46590909</td><td>41</td></tr>\n",
       "\t<tr><td>Так, оскільки за допомогою них можна реалізувати себе</td><td>0.40909091</td><td>36</td></tr>\n",
       "</tbody>\n",
       "</table>\n"
      ],
      "text/latex": [
       "A data.frame: 5 × 3\n",
       "\\begin{tabular}{lll}\n",
       " Відповідь & Частка,\\% & Кількість\\\\\n",
       " <fct> & <dbl> & <int>\\\\\n",
       "\\hline\n",
       "\t Байдуже                                               & 0.10227273 &  9\\\\\n",
       "\t Ні, даремна трата часу                                & 0.01136364 &  1\\\\\n",
       "\t Ні, це все вигадки для відмивання грошей              & 0.01136364 &  1\\\\\n",
       "\t Так, оскільки вони покликані допомагати               & 0.46590909 & 41\\\\\n",
       "\t Так, оскільки за допомогою них можна реалізувати себе & 0.40909091 & 36\\\\\n",
       "\\end{tabular}\n"
      ],
      "text/markdown": [
       "\n",
       "A data.frame: 5 × 3\n",
       "\n",
       "| Відповідь &lt;fct&gt; | Частка,% &lt;dbl&gt; | Кількість &lt;int&gt; |\n",
       "|---|---|---|\n",
       "| Байдуже                                               | 0.10227273 |  9 |\n",
       "| Ні, даремна трата часу                                | 0.01136364 |  1 |\n",
       "| Ні, це все вигадки для відмивання грошей              | 0.01136364 |  1 |\n",
       "| Так, оскільки вони покликані допомагати               | 0.46590909 | 41 |\n",
       "| Так, оскільки за допомогою них можна реалізувати себе | 0.40909091 | 36 |\n",
       "\n"
      ],
      "text/plain": [
       "  Відповідь                                             Частка,%   Кількість\n",
       "1 Байдуже                                               0.10227273  9       \n",
       "2 Ні, даремна трата часу                                0.01136364  1       \n",
       "3 Ні, це все вигадки для відмивання грошей              0.01136364  1       \n",
       "4 Так, оскільки вони покликані допомагати               0.46590909 41       \n",
       "5 Так, оскільки за допомогою них можна реалізувати себе 0.40909091 36       "
      ]
     },
     "metadata": {},
     "output_type": "display_data"
    }
   ],
   "source": [
    "prop.table"
   ]
  },
  {
   "cell_type": "code",
   "execution_count": 50,
   "id": "b37e5771-8d32-4235-85a6-b24893d477a2",
   "metadata": {},
   "outputs": [
    {
     "data": {
      "text/html": [
       "<span style=white-space:pre-wrap>'  На Вашу думку  чи є в Україні потреба в створенні значної кількості громадських організацій '</span>"
      ],
      "text/latex": [
       "'  На Вашу думку  чи є в Україні потреба в створенні значної кількості громадських організацій '"
      ],
      "text/markdown": [
       "<span style=white-space:pre-wrap>'  На Вашу думку  чи є в Україні потреба в створенні значної кількості громадських організацій '</span>"
      ],
      "text/plain": [
       "[1] \"  На Вашу думку  чи є в Україні потреба в створенні значної кількості громадських організацій \""
      ]
     },
     "metadata": {},
     "output_type": "display_data"
    }
   ],
   "source": [
    "survey_headers[i, 2]"
   ]
  },
  {
   "cell_type": "markdown",
   "id": "33117d25-a0cc-440a-bb20-736049186c46",
   "metadata": {},
   "source": [
    "У нашому дослідженні більша частка опитаних вважає, що за допомогою ГО можна реалізувати себе (41% проти 30%)."
   ]
  },
  {
   "cell_type": "markdown",
   "id": "af8abdce-8ad5-4ba6-a705-f9f089b686b1",
   "metadata": {},
   "source": [
    "---"
   ]
  },
  {
   "cell_type": "code",
   "execution_count": 66,
   "id": "b7eb5583-2408-4b46-8f72-ad9f994fc9b1",
   "metadata": {},
   "outputs": [],
   "source": [
    "i <- 14\n",
    "\n",
    "prop.table <- get.prop.table(survey_data[,i])\n",
    "\n",
    "aggregated <- aggregated |>\n",
    "    bind_rows(\n",
    "        data.frame(\n",
    "            No = i,\n",
    "            Question = survey_headers[i, 2],\n",
    "            Answer = prop.table[,1],\n",
    "            Count = prop.table[,3],\n",
    "            Perc = round(100*prop.table[,2], 1)))"
   ]
  },
  {
   "cell_type": "code",
   "execution_count": 67,
   "id": "ddb01a83-f9db-4bff-a2bb-cbc3d5bad033",
   "metadata": {},
   "outputs": [
    {
     "data": {
      "image/png": "[encoded data removed]",
      "text/plain": [
       "plot without title"
      ]
     },
     "metadata": {
      "image/png": {
       "height": 420,
       "width": 420
      }
     },
     "output_type": "display_data"
    }
   ],
   "source": [
    "ggplot(survey_data, aes(x=factor(X14), fill=factor(X2))) +\n",
    "    geom_bar(stat=\"count\", width=0.9) +\n",
    "     geom_text(stat = \"count\", aes(label = after_stat(count)), position = position_stack(vjust = .5), size = 5)+\n",
    "    theme_light()+\n",
    "    theme(\n",
    "        plot.title = element_text(size=18),\n",
    "        axis.title.x = element_text(size=16),\n",
    "        axis.title.y = element_text(size=16)) +\n",
    "    labs(title=survey_headers[i, 2], x = survey_headers[i, 2], y = \"Observations count\")"
   ]
  },
  {
   "cell_type": "code",
   "execution_count": 68,
   "id": "a2a5b5b7-0034-4072-8f6e-3078775aae64",
   "metadata": {},
   "outputs": [
    {
     "data": {
      "text/html": [
       "<table class=\"dataframe\">\n",
       "<caption>A data.frame: 8 × 3</caption>\n",
       "<thead>\n",
       "\t<tr><th scope=col>Відповідь</th><th scope=col>Частка,%</th><th scope=col>Кількість</th></tr>\n",
       "\t<tr><th scope=col>&lt;fct&gt;</th><th scope=col>&lt;dbl&gt;</th><th scope=col>&lt;int&gt;</th></tr>\n",
       "</thead>\n",
       "<tbody>\n",
       "\t<tr><td>Байдуже                                                         </td><td>0.04545455</td><td> 4</td></tr>\n",
       "\t<tr><td>Дивлячись які                                                   </td><td>0.12500000</td><td>11</td></tr>\n",
       "\t<tr><td>Ні                                                              </td><td>0.01136364</td><td> 1</td></tr>\n",
       "\t<tr><td>Можливо                                                         </td><td>0.05681818</td><td> 5</td></tr>\n",
       "\t<tr><td>Хіба що за інформаційного спрямування                           </td><td>0.02272727</td><td> 2</td></tr>\n",
       "\t<tr><td>Так                                                             </td><td>0.20454545</td><td>18</td></tr>\n",
       "\t<tr><td>Так, за умови відсутності пропаганди діяльності цієї організації</td><td>0.19318182</td><td>17</td></tr>\n",
       "\t<tr><td>Якщо це законно і відстоює благодійні справи                    </td><td>0.34090909</td><td>30</td></tr>\n",
       "</tbody>\n",
       "</table>\n"
      ],
      "text/latex": [
       "A data.frame: 8 × 3\n",
       "\\begin{tabular}{lll}\n",
       " Відповідь & Частка,\\% & Кількість\\\\\n",
       " <fct> & <dbl> & <int>\\\\\n",
       "\\hline\n",
       "\t Байдуже                                                          & 0.04545455 &  4\\\\\n",
       "\t Дивлячись які                                                    & 0.12500000 & 11\\\\\n",
       "\t Ні                                                               & 0.01136364 &  1\\\\\n",
       "\t Можливо                                                          & 0.05681818 &  5\\\\\n",
       "\t Хіба що за інформаційного спрямування                            & 0.02272727 &  2\\\\\n",
       "\t Так                                                              & 0.20454545 & 18\\\\\n",
       "\t Так, за умови відсутності пропаганди діяльності цієї організації & 0.19318182 & 17\\\\\n",
       "\t Якщо це законно і відстоює благодійні справи                     & 0.34090909 & 30\\\\\n",
       "\\end{tabular}\n"
      ],
      "text/markdown": [
       "\n",
       "A data.frame: 8 × 3\n",
       "\n",
       "| Відповідь &lt;fct&gt; | Частка,% &lt;dbl&gt; | Кількість &lt;int&gt; |\n",
       "|---|---|---|\n",
       "| Байдуже                                                          | 0.04545455 |  4 |\n",
       "| Дивлячись які                                                    | 0.12500000 | 11 |\n",
       "| Ні                                                               | 0.01136364 |  1 |\n",
       "| Можливо                                                          | 0.05681818 |  5 |\n",
       "| Хіба що за інформаційного спрямування                            | 0.02272727 |  2 |\n",
       "| Так                                                              | 0.20454545 | 18 |\n",
       "| Так, за умови відсутності пропаганди діяльності цієї організації | 0.19318182 | 17 |\n",
       "| Якщо це законно і відстоює благодійні справи                     | 0.34090909 | 30 |\n",
       "\n"
      ],
      "text/plain": [
       "  Відповідь                                                        Частка,%  \n",
       "1 Байдуже                                                          0.04545455\n",
       "2 Дивлячись які                                                    0.12500000\n",
       "3 Ні                                                               0.01136364\n",
       "4 Можливо                                                          0.05681818\n",
       "5 Хіба що за інформаційного спрямування                            0.02272727\n",
       "6 Так                                                              0.20454545\n",
       "7 Так, за умови відсутності пропаганди діяльності цієї організації 0.19318182\n",
       "8 Якщо це законно і відстоює благодійні справи                     0.34090909\n",
       "  Кількість\n",
       "1  4       \n",
       "2 11       \n",
       "3  1       \n",
       "4  5       \n",
       "5  2       \n",
       "6 18       \n",
       "7 17       \n",
       "8 30       "
      ]
     },
     "metadata": {},
     "output_type": "display_data"
    }
   ],
   "source": [
    "prop.table"
   ]
  },
  {
   "cell_type": "code",
   "execution_count": 69,
   "id": "6cc93307-9ec9-4f14-b3fd-d542ef0294bf",
   "metadata": {},
   "outputs": [
    {
     "data": {
      "text/html": [
       "<span style=white-space:pre-wrap>'  На вашу думку  чи варто проводити більш маштабні акції агітації  для залучення більшої кількості людей '</span>"
      ],
      "text/latex": [
       "'  На вашу думку  чи варто проводити більш маштабні акції агітації  для залучення більшої кількості людей '"
      ],
      "text/markdown": [
       "<span style=white-space:pre-wrap>'  На вашу думку  чи варто проводити більш маштабні акції агітації  для залучення більшої кількості людей '</span>"
      ],
      "text/plain": [
       "[1] \"  На вашу думку  чи варто проводити більш маштабні акції агітації  для залучення більшої кількості людей \""
      ]
     },
     "metadata": {},
     "output_type": "display_data"
    }
   ],
   "source": [
    "survey_headers[i, 2]"
   ]
  },
  {
   "cell_type": "markdown",
   "id": "ff20f99f-804d-4a0a-8fde-7a89e2dcb52e",
   "metadata": {},
   "source": [
    "**Відповіді на це запитання мають суттєві відмінності, можливо це повязано із повномасштабним вторгненням Росії в Україну.**:\n",
    "\n",
    "- [x] Значино зменшилася частка тих, кому байдуже (з 18,9% до 4,5%)\n",
    "- [x] Кількість тих, хто вважає, що такі акції не варто проводити практично зникла (з 14,7% до 1,1%).\n",
    "- [x] Однозначну відповідь \"Так\" без уточнення дало 20,5% респондентів, порівняно з 61,1% попереднього дослідження.\n",
    "- [x] Підтримка кампаній, проте з відсутністю пропаганди є досить важливим для нашого дослідження 19,3% порівняно з попереднім 1,1%. Це може говорити про зміну ставлення у зв'язку з агресією.\n",
    "- [x] Законність та відстоювання благодійних справ є також важливим для наших респондентів (34,1% проти 1,1%).\n",
    "\n",
    "**Важливо відмітити, що інформарційні кампанії слід планувати з урахуванням відсутності пропагани, законності та цільової благодійної призначеності**. Ставлення щодо кампаній з агітації залишилося позитивним загалом і навіть зросло (~80% та ~66% у поерердньому).\n",
    "\n"
   ]
  },
  {
   "cell_type": "markdown",
   "id": "ad7c9eaa-e80a-4137-86e4-ee967302e2f2",
   "metadata": {},
   "source": [
    "---"
   ]
  },
  {
   "cell_type": "markdown",
   "id": "3f0ab7ce-1f73-4f83-b9f0-610c355f872e",
   "metadata": {},
   "source": [
    "## Aggregated Survey Data"
   ]
  },
  {
   "cell_type": "markdown",
   "id": "d05dcf42-fe51-4342-9434-fd635b4ce8c4",
   "metadata": {},
   "source": [
    "Нижче розміщено агреговану таблицю з відповідями респондентів, яку мабуть варто додати в додатки, як і у роботі колег з НУВГП, перекину її у WORD."
   ]
  },
  {
   "cell_type": "code",
   "execution_count": 72,
   "id": "f24c14d1-b4c0-4d4c-9524-97688146f6e1",
   "metadata": {},
   "outputs": [
    {
     "data": {
      "text/html": [
       "<table class=\"dataframe\">\n",
       "<caption>A data.frame: 32 × 5</caption>\n",
       "<thead>\n",
       "\t<tr><th></th><th scope=col>No</th><th scope=col>Question</th><th scope=col>Answer</th><th scope=col>Count</th><th scope=col>Perc</th></tr>\n",
       "\t<tr><th></th><th scope=col>&lt;dbl&gt;</th><th scope=col>&lt;chr&gt;</th><th scope=col>&lt;chr&gt;</th><th scope=col>&lt;int&gt;</th><th scope=col>&lt;dbl&gt;</th></tr>\n",
       "</thead>\n",
       "<tbody>\n",
       "\t<tr><th scope=row>33</th><td> 8</td><td> Якщо на питання 6 Ви відповіли НІ тоді вкажіть причини                                                  </td><td>Не мав/ла змоги                                                 </td><td>16</td><td>33.3</td></tr>\n",
       "\t<tr><th scope=row>34</th><td> 8</td><td> Якщо на питання 6 Ви відповіли НІ тоді вкажіть причини                                                  </td><td>Не цікаво                                                       </td><td> 8</td><td>16.7</td></tr>\n",
       "\t<tr><th scope=row>35</th><td> 8</td><td> Якщо на питання 6 Ви відповіли НІ тоді вкажіть причини                                                  </td><td>Мене туди не запрошували                                        </td><td> 6</td><td>12.5</td></tr>\n",
       "\t<tr><th scope=row>36</th><td> 8</td><td> Якщо на питання 6 Ви відповіли НІ тоді вкажіть причини                                                  </td><td>Потребує постійних особитих фінансових ресурсів                 </td><td> 2</td><td> 4.2</td></tr>\n",
       "\t<tr><th scope=row>37</th><td> 9</td><td> На даний момент  чи є Ви членом громадської організації                                                 </td><td>Ні                                                              </td><td>76</td><td>86.4</td></tr>\n",
       "\t<tr><th scope=row>38</th><td> 9</td><td> На даний момент  чи є Ви членом громадської організації                                                 </td><td>Так                                                             </td><td>12</td><td>13.6</td></tr>\n",
       "\t<tr><th scope=row>39</th><td>10</td><td>  Чи приймали Ви участь в одноразовій акції                                                              </td><td>Ні                                                              </td><td>37</td><td>42.0</td></tr>\n",
       "\t<tr><th scope=row>40</th><td>10</td><td>  Чи приймали Ви участь в одноразовій акції                                                              </td><td>Так                                                             </td><td>51</td><td>58.0</td></tr>\n",
       "\t<tr><th scope=row>41</th><td>11</td><td>  Чи є хтось з Ваших знайомих членом громадської організацій                                             </td><td>Ні, жодного                                                     </td><td>35</td><td>39.8</td></tr>\n",
       "\t<tr><th scope=row>42</th><td>11</td><td>  Чи є хтось з Ваших знайомих членом громадської організацій                                             </td><td>Так, декілька                                                   </td><td>39</td><td>44.3</td></tr>\n",
       "\t<tr><th scope=row>43</th><td>11</td><td>  Чи є хтось з Ваших знайомих членом громадської організацій                                             </td><td>Так, один                                                       </td><td>14</td><td>15.9</td></tr>\n",
       "\t<tr><th scope=row>44</th><td>12</td><td>  В організації якого типу Ви б захотіли прийняти участь   якщо б у Вас був час і можливість             </td><td>Громадські самодіяльні органи                                   </td><td> 7</td><td> 8.0</td></tr>\n",
       "\t<tr><th scope=row>45</th><td>12</td><td><span style=white-space:pre-wrap>  В організації якого типу Ви б захотіли прийняти участь   якщо б у Вас був час і можливість             </span></td><td><span style=white-space:pre-wrap>Жіночі громадські об&amp;#39;єднання                                </span></td><td> 4</td><td> 4.5</td></tr>\n",
       "\t<tr><th scope=row>46</th><td>12</td><td>  В організації якого типу Ви б захотіли прийняти участь   якщо б у Вас був час і можливість             </td><td>Все одно не хочу                                                </td><td>11</td><td>12.5</td></tr>\n",
       "\t<tr><th scope=row>47</th><td>12</td><td>  В організації якого типу Ви б захотіли прийняти участь   якщо б у Вас був час і можливість             </td><td>Релігійні організації                                           </td><td> 1</td><td> 1.1</td></tr>\n",
       "\t<tr><th scope=row>48</th><td>12</td><td>  В організації якого типу Ви б захотіли прийняти участь   якщо б у Вас був час і можливість             </td><td>Рухи                                                            </td><td> 6</td><td> 6.8</td></tr>\n",
       "\t<tr><th scope=row>49</th><td>12</td><td>  В організації якого типу Ви б захотіли прийняти участь   якщо б у Вас був час і можливість             </td><td>Профспілка                                                      </td><td> 4</td><td> 4.5</td></tr>\n",
       "\t<tr><th scope=row>50</th><td>12</td><td>  В організації якого типу Ви б захотіли прийняти участь   якщо б у Вас був час і можливість             </td><td>Молодіжна організація                                           </td><td>41</td><td>46.6</td></tr>\n",
       "\t<tr><th scope=row>51</th><td>12</td><td>  В організації якого типу Ви б захотіли прийняти участь   якщо б у Вас був час і можливість             </td><td>Творчі об'єднання                                               </td><td>14</td><td>15.9</td></tr>\n",
       "\t<tr><th scope=row>52</th><td>13</td><td>  На Вашу думку  чи є в Україні потреба в створенні значної кількості громадських організацій            </td><td>Байдуже                                                         </td><td> 9</td><td>10.2</td></tr>\n",
       "\t<tr><th scope=row>53</th><td>13</td><td>  На Вашу думку  чи є в Україні потреба в створенні значної кількості громадських організацій            </td><td>Ні, даремна трата часу                                          </td><td> 1</td><td> 1.1</td></tr>\n",
       "\t<tr><th scope=row>54</th><td>13</td><td>  На Вашу думку  чи є в Україні потреба в створенні значної кількості громадських організацій            </td><td>Ні, це все вигадки для відмивання грошей                        </td><td> 1</td><td> 1.1</td></tr>\n",
       "\t<tr><th scope=row>55</th><td>13</td><td>  На Вашу думку  чи є в Україні потреба в створенні значної кількості громадських організацій            </td><td>Так, оскільки вони покликані допомагати                         </td><td>41</td><td>46.6</td></tr>\n",
       "\t<tr><th scope=row>56</th><td>13</td><td>  На Вашу думку  чи є в Україні потреба в створенні значної кількості громадських організацій            </td><td>Так, оскільки за допомогою них можна реалізувати себе           </td><td>36</td><td>40.9</td></tr>\n",
       "\t<tr><th scope=row>57</th><td>14</td><td>  На вашу думку  чи варто проводити більш маштабні акції агітації  для залучення більшої кількості людей </td><td>Байдуже                                                         </td><td> 4</td><td> 4.5</td></tr>\n",
       "\t<tr><th scope=row>58</th><td>14</td><td>  На вашу думку  чи варто проводити більш маштабні акції агітації  для залучення більшої кількості людей </td><td>Дивлячись які                                                   </td><td>11</td><td>12.5</td></tr>\n",
       "\t<tr><th scope=row>59</th><td>14</td><td>  На вашу думку  чи варто проводити більш маштабні акції агітації  для залучення більшої кількості людей </td><td>Ні                                                              </td><td> 1</td><td> 1.1</td></tr>\n",
       "\t<tr><th scope=row>60</th><td>14</td><td>  На вашу думку  чи варто проводити більш маштабні акції агітації  для залучення більшої кількості людей </td><td>Можливо                                                         </td><td> 5</td><td> 5.7</td></tr>\n",
       "\t<tr><th scope=row>61</th><td>14</td><td>  На вашу думку  чи варто проводити більш маштабні акції агітації  для залучення більшої кількості людей </td><td>Хіба що за інформаційного спрямування                           </td><td> 2</td><td> 2.3</td></tr>\n",
       "\t<tr><th scope=row>62</th><td>14</td><td>  На вашу думку  чи варто проводити більш маштабні акції агітації  для залучення більшої кількості людей </td><td>Так                                                             </td><td>18</td><td>20.5</td></tr>\n",
       "\t<tr><th scope=row>63</th><td>14</td><td>  На вашу думку  чи варто проводити більш маштабні акції агітації  для залучення більшої кількості людей </td><td>Так, за умови відсутності пропаганди діяльності цієї організації</td><td>17</td><td>19.3</td></tr>\n",
       "\t<tr><th scope=row>64</th><td>14</td><td>  На вашу думку  чи варто проводити більш маштабні акції агітації  для залучення більшої кількості людей </td><td>Якщо це законно і відстоює благодійні справи                    </td><td>30</td><td>34.1</td></tr>\n",
       "</tbody>\n",
       "</table>\n"
      ],
      "text/latex": [
       "A data.frame: 32 × 5\n",
       "\\begin{tabular}{r|lllll}\n",
       "  & No & Question & Answer & Count & Perc\\\\\n",
       "  & <dbl> & <chr> & <chr> & <int> & <dbl>\\\\\n",
       "\\hline\n",
       "\t33 &  8 &  Якщо на питання 6 Ви відповіли НІ тоді вкажіть причини                                                   & Не мав/ла змоги                                                  & 16 & 33.3\\\\\n",
       "\t34 &  8 &  Якщо на питання 6 Ви відповіли НІ тоді вкажіть причини                                                   & Не цікаво                                                        &  8 & 16.7\\\\\n",
       "\t35 &  8 &  Якщо на питання 6 Ви відповіли НІ тоді вкажіть причини                                                   & Мене туди не запрошували                                         &  6 & 12.5\\\\\n",
       "\t36 &  8 &  Якщо на питання 6 Ви відповіли НІ тоді вкажіть причини                                                   & Потребує постійних особитих фінансових ресурсів                  &  2 &  4.2\\\\\n",
       "\t37 &  9 &  На даний момент  чи є Ви членом громадської організації                                                  & Ні                                                               & 76 & 86.4\\\\\n",
       "\t38 &  9 &  На даний момент  чи є Ви членом громадської організації                                                  & Так                                                              & 12 & 13.6\\\\\n",
       "\t39 & 10 &   Чи приймали Ви участь в одноразовій акції                                                               & Ні                                                               & 37 & 42.0\\\\\n",
       "\t40 & 10 &   Чи приймали Ви участь в одноразовій акції                                                               & Так                                                              & 51 & 58.0\\\\\n",
       "\t41 & 11 &   Чи є хтось з Ваших знайомих членом громадської організацій                                              & Ні, жодного                                                      & 35 & 39.8\\\\\n",
       "\t42 & 11 &   Чи є хтось з Ваших знайомих членом громадської організацій                                              & Так, декілька                                                    & 39 & 44.3\\\\\n",
       "\t43 & 11 &   Чи є хтось з Ваших знайомих членом громадської організацій                                              & Так, один                                                        & 14 & 15.9\\\\\n",
       "\t44 & 12 &   В організації якого типу Ви б захотіли прийняти участь   якщо б у Вас був час і можливість              & Громадські самодіяльні органи                                    &  7 &  8.0\\\\\n",
       "\t45 & 12 &   В організації якого типу Ви б захотіли прийняти участь   якщо б у Вас був час і можливість              & Жіночі громадські об\\&\\#39;єднання                                 &  4 &  4.5\\\\\n",
       "\t46 & 12 &   В організації якого типу Ви б захотіли прийняти участь   якщо б у Вас був час і можливість              & Все одно не хочу                                                 & 11 & 12.5\\\\\n",
       "\t47 & 12 &   В організації якого типу Ви б захотіли прийняти участь   якщо б у Вас був час і можливість              & Релігійні організації                                            &  1 &  1.1\\\\\n",
       "\t48 & 12 &   В організації якого типу Ви б захотіли прийняти участь   якщо б у Вас був час і можливість              & Рухи                                                             &  6 &  6.8\\\\\n",
       "\t49 & 12 &   В організації якого типу Ви б захотіли прийняти участь   якщо б у Вас був час і можливість              & Профспілка                                                       &  4 &  4.5\\\\\n",
       "\t50 & 12 &   В організації якого типу Ви б захотіли прийняти участь   якщо б у Вас був час і можливість              & Молодіжна організація                                            & 41 & 46.6\\\\\n",
       "\t51 & 12 &   В організації якого типу Ви б захотіли прийняти участь   якщо б у Вас був час і можливість              & Творчі об'єднання                                                & 14 & 15.9\\\\\n",
       "\t52 & 13 &   На Вашу думку  чи є в Україні потреба в створенні значної кількості громадських організацій             & Байдуже                                                          &  9 & 10.2\\\\\n",
       "\t53 & 13 &   На Вашу думку  чи є в Україні потреба в створенні значної кількості громадських організацій             & Ні, даремна трата часу                                           &  1 &  1.1\\\\\n",
       "\t54 & 13 &   На Вашу думку  чи є в Україні потреба в створенні значної кількості громадських організацій             & Ні, це все вигадки для відмивання грошей                         &  1 &  1.1\\\\\n",
       "\t55 & 13 &   На Вашу думку  чи є в Україні потреба в створенні значної кількості громадських організацій             & Так, оскільки вони покликані допомагати                          & 41 & 46.6\\\\\n",
       "\t56 & 13 &   На Вашу думку  чи є в Україні потреба в створенні значної кількості громадських організацій             & Так, оскільки за допомогою них можна реалізувати себе            & 36 & 40.9\\\\\n",
       "\t57 & 14 &   На вашу думку  чи варто проводити більш маштабні акції агітації  для залучення більшої кількості людей  & Байдуже                                                          &  4 &  4.5\\\\\n",
       "\t58 & 14 &   На вашу думку  чи варто проводити більш маштабні акції агітації  для залучення більшої кількості людей  & Дивлячись які                                                    & 11 & 12.5\\\\\n",
       "\t59 & 14 &   На вашу думку  чи варто проводити більш маштабні акції агітації  для залучення більшої кількості людей  & Ні                                                               &  1 &  1.1\\\\\n",
       "\t60 & 14 &   На вашу думку  чи варто проводити більш маштабні акції агітації  для залучення більшої кількості людей  & Можливо                                                          &  5 &  5.7\\\\\n",
       "\t61 & 14 &   На вашу думку  чи варто проводити більш маштабні акції агітації  для залучення більшої кількості людей  & Хіба що за інформаційного спрямування                            &  2 &  2.3\\\\\n",
       "\t62 & 14 &   На вашу думку  чи варто проводити більш маштабні акції агітації  для залучення більшої кількості людей  & Так                                                              & 18 & 20.5\\\\\n",
       "\t63 & 14 &   На вашу думку  чи варто проводити більш маштабні акції агітації  для залучення більшої кількості людей  & Так, за умови відсутності пропаганди діяльності цієї організації & 17 & 19.3\\\\\n",
       "\t64 & 14 &   На вашу думку  чи варто проводити більш маштабні акції агітації  для залучення більшої кількості людей  & Якщо це законно і відстоює благодійні справи                     & 30 & 34.1\\\\\n",
       "\\end{tabular}\n"
      ],
      "text/markdown": [
       "\n",
       "A data.frame: 32 × 5\n",
       "\n",
       "| <!--/--> | No &lt;dbl&gt; | Question &lt;chr&gt; | Answer &lt;chr&gt; | Count &lt;int&gt; | Perc &lt;dbl&gt; |\n",
       "|---|---|---|---|---|---|\n",
       "| 33 |  8 |  Якщо на питання 6 Ви відповіли НІ тоді вкажіть причини                                                   | Не мав/ла змоги                                                  | 16 | 33.3 |\n",
       "| 34 |  8 |  Якщо на питання 6 Ви відповіли НІ тоді вкажіть причини                                                   | Не цікаво                                                        |  8 | 16.7 |\n",
       "| 35 |  8 |  Якщо на питання 6 Ви відповіли НІ тоді вкажіть причини                                                   | Мене туди не запрошували                                         |  6 | 12.5 |\n",
       "| 36 |  8 |  Якщо на питання 6 Ви відповіли НІ тоді вкажіть причини                                                   | Потребує постійних особитих фінансових ресурсів                  |  2 |  4.2 |\n",
       "| 37 |  9 |  На даний момент  чи є Ви членом громадської організації                                                  | Ні                                                               | 76 | 86.4 |\n",
       "| 38 |  9 |  На даний момент  чи є Ви членом громадської організації                                                  | Так                                                              | 12 | 13.6 |\n",
       "| 39 | 10 |   Чи приймали Ви участь в одноразовій акції                                                               | Ні                                                               | 37 | 42.0 |\n",
       "| 40 | 10 |   Чи приймали Ви участь в одноразовій акції                                                               | Так                                                              | 51 | 58.0 |\n",
       "| 41 | 11 |   Чи є хтось з Ваших знайомих членом громадської організацій                                              | Ні, жодного                                                      | 35 | 39.8 |\n",
       "| 42 | 11 |   Чи є хтось з Ваших знайомих членом громадської організацій                                              | Так, декілька                                                    | 39 | 44.3 |\n",
       "| 43 | 11 |   Чи є хтось з Ваших знайомих членом громадської організацій                                              | Так, один                                                        | 14 | 15.9 |\n",
       "| 44 | 12 |   В організації якого типу Ви б захотіли прийняти участь   якщо б у Вас був час і можливість              | Громадські самодіяльні органи                                    |  7 |  8.0 |\n",
       "| 45 | 12 |   В організації якого типу Ви б захотіли прийняти участь   якщо б у Вас був час і можливість              | Жіночі громадські об&amp;#39;єднання                                 |  4 |  4.5 |\n",
       "| 46 | 12 |   В організації якого типу Ви б захотіли прийняти участь   якщо б у Вас був час і можливість              | Все одно не хочу                                                 | 11 | 12.5 |\n",
       "| 47 | 12 |   В організації якого типу Ви б захотіли прийняти участь   якщо б у Вас був час і можливість              | Релігійні організації                                            |  1 |  1.1 |\n",
       "| 48 | 12 |   В організації якого типу Ви б захотіли прийняти участь   якщо б у Вас був час і можливість              | Рухи                                                             |  6 |  6.8 |\n",
       "| 49 | 12 |   В організації якого типу Ви б захотіли прийняти участь   якщо б у Вас був час і можливість              | Профспілка                                                       |  4 |  4.5 |\n",
       "| 50 | 12 |   В організації якого типу Ви б захотіли прийняти участь   якщо б у Вас був час і можливість              | Молодіжна організація                                            | 41 | 46.6 |\n",
       "| 51 | 12 |   В організації якого типу Ви б захотіли прийняти участь   якщо б у Вас був час і можливість              | Творчі об'єднання                                                | 14 | 15.9 |\n",
       "| 52 | 13 |   На Вашу думку  чи є в Україні потреба в створенні значної кількості громадських організацій             | Байдуже                                                          |  9 | 10.2 |\n",
       "| 53 | 13 |   На Вашу думку  чи є в Україні потреба в створенні значної кількості громадських організацій             | Ні, даремна трата часу                                           |  1 |  1.1 |\n",
       "| 54 | 13 |   На Вашу думку  чи є в Україні потреба в створенні значної кількості громадських організацій             | Ні, це все вигадки для відмивання грошей                         |  1 |  1.1 |\n",
       "| 55 | 13 |   На Вашу думку  чи є в Україні потреба в створенні значної кількості громадських організацій             | Так, оскільки вони покликані допомагати                          | 41 | 46.6 |\n",
       "| 56 | 13 |   На Вашу думку  чи є в Україні потреба в створенні значної кількості громадських організацій             | Так, оскільки за допомогою них можна реалізувати себе            | 36 | 40.9 |\n",
       "| 57 | 14 |   На вашу думку  чи варто проводити більш маштабні акції агітації  для залучення більшої кількості людей  | Байдуже                                                          |  4 |  4.5 |\n",
       "| 58 | 14 |   На вашу думку  чи варто проводити більш маштабні акції агітації  для залучення більшої кількості людей  | Дивлячись які                                                    | 11 | 12.5 |\n",
       "| 59 | 14 |   На вашу думку  чи варто проводити більш маштабні акції агітації  для залучення більшої кількості людей  | Ні                                                               |  1 |  1.1 |\n",
       "| 60 | 14 |   На вашу думку  чи варто проводити більш маштабні акції агітації  для залучення більшої кількості людей  | Можливо                                                          |  5 |  5.7 |\n",
       "| 61 | 14 |   На вашу думку  чи варто проводити більш маштабні акції агітації  для залучення більшої кількості людей  | Хіба що за інформаційного спрямування                            |  2 |  2.3 |\n",
       "| 62 | 14 |   На вашу думку  чи варто проводити більш маштабні акції агітації  для залучення більшої кількості людей  | Так                                                              | 18 | 20.5 |\n",
       "| 63 | 14 |   На вашу думку  чи варто проводити більш маштабні акції агітації  для залучення більшої кількості людей  | Так, за умови відсутності пропаганди діяльності цієї організації | 17 | 19.3 |\n",
       "| 64 | 14 |   На вашу думку  чи варто проводити більш маштабні акції агітації  для залучення більшої кількості людей  | Якщо це законно і відстоює благодійні справи                     | 30 | 34.1 |\n",
       "\n"
      ],
      "text/plain": [
       "   No\n",
       "33  8\n",
       "34  8\n",
       "35  8\n",
       "36  8\n",
       "37  9\n",
       "38  9\n",
       "39 10\n",
       "40 10\n",
       "41 11\n",
       "42 11\n",
       "43 11\n",
       "44 12\n",
       "45 12\n",
       "46 12\n",
       "47 12\n",
       "48 12\n",
       "49 12\n",
       "50 12\n",
       "51 12\n",
       "52 13\n",
       "53 13\n",
       "54 13\n",
       "55 13\n",
       "56 13\n",
       "57 14\n",
       "58 14\n",
       "59 14\n",
       "60 14\n",
       "61 14\n",
       "62 14\n",
       "63 14\n",
       "64 14\n",
       "   Question                                                                                                 \n",
       "33  Якщо на питання 6 Ви відповіли НІ тоді вкажіть причини                                                  \n",
       "34  Якщо на питання 6 Ви відповіли НІ тоді вкажіть причини                                                  \n",
       "35  Якщо на питання 6 Ви відповіли НІ тоді вкажіть причини                                                  \n",
       "36  Якщо на питання 6 Ви відповіли НІ тоді вкажіть причини                                                  \n",
       "37  На даний момент  чи є Ви членом громадської організації                                                 \n",
       "38  На даний момент  чи є Ви членом громадської організації                                                 \n",
       "39   Чи приймали Ви участь в одноразовій акції                                                              \n",
       "40   Чи приймали Ви участь в одноразовій акції                                                              \n",
       "41   Чи є хтось з Ваших знайомих членом громадської організацій                                             \n",
       "42   Чи є хтось з Ваших знайомих членом громадської організацій                                             \n",
       "43   Чи є хтось з Ваших знайомих членом громадської організацій                                             \n",
       "44   В організації якого типу Ви б захотіли прийняти участь   якщо б у Вас був час і можливість             \n",
       "45   В організації якого типу Ви б захотіли прийняти участь   якщо б у Вас був час і можливість             \n",
       "46   В організації якого типу Ви б захотіли прийняти участь   якщо б у Вас був час і можливість             \n",
       "47   В організації якого типу Ви б захотіли прийняти участь   якщо б у Вас був час і можливість             \n",
       "48   В організації якого типу Ви б захотіли прийняти участь   якщо б у Вас був час і можливість             \n",
       "49   В організації якого типу Ви б захотіли прийняти участь   якщо б у Вас був час і можливість             \n",
       "50   В організації якого типу Ви б захотіли прийняти участь   якщо б у Вас був час і можливість             \n",
       "51   В організації якого типу Ви б захотіли прийняти участь   якщо б у Вас був час і можливість             \n",
       "52   На Вашу думку  чи є в Україні потреба в створенні значної кількості громадських організацій            \n",
       "53   На Вашу думку  чи є в Україні потреба в створенні значної кількості громадських організацій            \n",
       "54   На Вашу думку  чи є в Україні потреба в створенні значної кількості громадських організацій            \n",
       "55   На Вашу думку  чи є в Україні потреба в створенні значної кількості громадських організацій            \n",
       "56   На Вашу думку  чи є в Україні потреба в створенні значної кількості громадських організацій            \n",
       "57   На вашу думку  чи варто проводити більш маштабні акції агітації  для залучення більшої кількості людей \n",
       "58   На вашу думку  чи варто проводити більш маштабні акції агітації  для залучення більшої кількості людей \n",
       "59   На вашу думку  чи варто проводити більш маштабні акції агітації  для залучення більшої кількості людей \n",
       "60   На вашу думку  чи варто проводити більш маштабні акції агітації  для залучення більшої кількості людей \n",
       "61   На вашу думку  чи варто проводити більш маштабні акції агітації  для залучення більшої кількості людей \n",
       "62   На вашу думку  чи варто проводити більш маштабні акції агітації  для залучення більшої кількості людей \n",
       "63   На вашу думку  чи варто проводити більш маштабні акції агітації  для залучення більшої кількості людей \n",
       "64   На вашу думку  чи варто проводити більш маштабні акції агітації  для залучення більшої кількості людей \n",
       "   Answer                                                           Count Perc\n",
       "33 Не мав/ла змоги                                                  16    33.3\n",
       "34 Не цікаво                                                         8    16.7\n",
       "35 Мене туди не запрошували                                          6    12.5\n",
       "36 Потребує постійних особитих фінансових ресурсів                   2     4.2\n",
       "37 Ні                                                               76    86.4\n",
       "38 Так                                                              12    13.6\n",
       "39 Ні                                                               37    42.0\n",
       "40 Так                                                              51    58.0\n",
       "41 Ні, жодного                                                      35    39.8\n",
       "42 Так, декілька                                                    39    44.3\n",
       "43 Так, один                                                        14    15.9\n",
       "44 Громадські самодіяльні органи                                     7     8.0\n",
       "45 Жіночі громадські об&#39;єднання                                  4     4.5\n",
       "46 Все одно не хочу                                                 11    12.5\n",
       "47 Релігійні організації                                             1     1.1\n",
       "48 Рухи                                                              6     6.8\n",
       "49 Профспілка                                                        4     4.5\n",
       "50 Молодіжна організація                                            41    46.6\n",
       "51 Творчі об'єднання                                                14    15.9\n",
       "52 Байдуже                                                           9    10.2\n",
       "53 Ні, даремна трата часу                                            1     1.1\n",
       "54 Ні, це все вигадки для відмивання грошей                          1     1.1\n",
       "55 Так, оскільки вони покликані допомагати                          41    46.6\n",
       "56 Так, оскільки за допомогою них можна реалізувати себе            36    40.9\n",
       "57 Байдуже                                                           4     4.5\n",
       "58 Дивлячись які                                                    11    12.5\n",
       "59 Ні                                                                1     1.1\n",
       "60 Можливо                                                           5     5.7\n",
       "61 Хіба що за інформаційного спрямування                             2     2.3\n",
       "62 Так                                                              18    20.5\n",
       "63 Так, за умови відсутності пропаганди діяльності цієї організації 17    19.3\n",
       "64 Якщо це законно і відстоює благодійні справи                     30    34.1"
      ]
     },
     "metadata": {},
     "output_type": "display_data"
    }
   ],
   "source": [
    "aggregated[33:64,]"
   ]
  },
  {
   "cell_type": "markdown",
   "id": "081e0744-b99b-4595-95d4-7f8b9548e3eb",
   "metadata": {},
   "source": [
    "---"
   ]
  },
  {
   "cell_type": "markdown",
   "id": "a214267b-1ddc-43c7-8362-0135c9a15404",
   "metadata": {},
   "source": [
    "## Cluster Analysis "
   ]
  },
  {
   "cell_type": "markdown",
   "id": "0ce4bfec-fb8b-4e13-ad39-853d9e3e72ff",
   "metadata": {},
   "source": [
    "**Короткий коментар. Кластеризація по суті є групуванням спостережень (відповідей респондентів) за певними ознаками. Алгоритм на основі машинного навчання сам обирає \"найближчі\" відповіді і групу є їх.**"
   ]
  },
  {
   "cell_type": "code",
   "execution_count": 55,
   "id": "42c26bce-f895-44ed-8cde-23447c44bc5b",
   "metadata": {},
   "outputs": [],
   "source": [
    "suppressMessages(library(recipes))\n",
    "rec <- recipe(~., data = survey_data)\n",
    "rec <- rec |> step_dummy(X1:X14)\n",
    "prepped_recipe <- prep(rec, training = survey_data)\n",
    "survey_dummy_baked <- bake(prepped_recipe, survey_data)"
   ]
  },
  {
   "cell_type": "markdown",
   "id": "c35d7c91-a894-4869-846e-f492b69c9630",
   "metadata": {
    "tags": []
   },
   "source": [
    "### Optimal clusters count"
   ]
  },
  {
   "cell_type": "markdown",
   "id": "f23c5e05-2677-4c4f-b6f9-2a3dc724c7d8",
   "metadata": {},
   "source": [
    "Проведемо кластеризацію результатів анкетування. Для початку скористаємося методами швидкого аналізу оптимальної кількості кластерів засобами мови програмування `R` та пакету `clValid: Validation of Clustering Results` _(Source: Statistical and biological validation of clustering results. This package implements Dunn Index, Silhouette, Connectivity, Stability, BHI and BSI. Further information can be found in Brock, G et al. (2008) <doi:10.18637/jss.v025.i04>, https://cran.r-project.org/web/packages/clValid/index.html)_."
   ]
  },
  {
   "cell_type": "markdown",
   "id": "f0a97afc-b574-4a5c-bbd1-261ef9b6df76",
   "metadata": {},
   "source": [
    "Для визначення оптимальної кількості кластерів скористаємося кількома методами кластеризації (hierarchical), kmeans та pam. Примітка: raw data tranformed to dummy-varibales before clustering, 'cos algorithms works with numeric data. \n",
    "\n",
    "HClustPaper: _(Nielsen, Frank (2016). \"8. Hierarchical Clustering\". Introduction to HPC with MPI for Data Science. Springer. pp. 195–211. ISBN 978-3-319-21903-5. https://link.springer.com/book/10.1007/978-3-319-21903-5)_\n",
    "\n",
    "KMEANS Paper: _(Pelleg, Dan; Moore, Andrew (1999). \"Accelerating exact k -means algorithms with geometric reasoning\". Proceedings of the Fifth ACM SIGKDD International Conference on Knowledge Discovery and Data Mining - KDD '99. San Diego, California, United States: ACM Press: 277–281. doi:10.1145/312129.312248. ISBN 9781581131437. S2CID 13907420. https://dl.acm.org/doi/10.1145/312129.312248)_\n",
    "\n",
    "PAM Paper: _(Park, Hae-Sang; Jun, Chi-Hyuck (2009). \"A simple and fast algorithm for K-medoids clustering\". Expert Systems with Applications. 36 (2): 3336–3341. doi:10.1016/j.eswa.2008.01.039.)_"
   ]
  },
  {
   "cell_type": "code",
   "execution_count": 56,
   "id": "dea2f48d-72c7-4a94-9e0e-3c190f1e3a35",
   "metadata": {},
   "outputs": [
    {
     "data": {
      "text/plain": [
       "@Article{,\n",
       "  title = {{clValid}: An {R} Package for Cluster Validation},\n",
       "  author = {Guy Brock and Vasyl Pihur and Susmita Datta and Somnath Datta},\n",
       "  journal = {Journal of Statistical Software},\n",
       "  year = {2008},\n",
       "  volume = {25},\n",
       "  number = {4},\n",
       "  pages = {1--22},\n",
       "  url = {https://www.jstatsoft.org/v25/i04/},\n",
       "}"
      ]
     },
     "metadata": {},
     "output_type": "display_data"
    }
   ],
   "source": [
    "#install.packages(\"clValid\")\n",
    "#install.packages(\"kableExtra\")\n",
    "suppressMessages(library(clValid))\n",
    "suppressMessages(library(kableExtra))\n",
    "intern <- clValid(as.matrix(survey_dummy_baked), nClust = 2:10, \n",
    "              clMethods = c(\"hierarchical\",\"kmeans\",\"pam\", \"kmods\"), validation = \"internal\")\n",
    " #Summary\n",
    "#summary(intern) %>% kable() %>% kable_styling()\n",
    "toBibtex(citation(\"clValid\"))"
   ]
  },
  {
   "cell_type": "markdown",
   "id": "d36d100f-33a2-429e-99d4-e1c5cd77f3a2",
   "metadata": {},
   "source": [
    "За результатами тестів усі алгоритми вказали на оптимальну кількість кластеів 3, а найкращим виявився метод ієрархічної кластеризації. Такий метод нам також підходить для подальшого дослідження кластерів, адже він дозволяє використовувати both numeric and categorical variables для дослідження."
   ]
  },
  {
   "cell_type": "code",
   "execution_count": 57,
   "id": "b691f45f-85fd-49cc-8e49-32451c445d9a",
   "metadata": {},
   "outputs": [
    {
     "data": {
      "text/html": [
       "<table class=\"dataframe\">\n",
       "<caption>A data.frame: 3 × 2</caption>\n",
       "<thead>\n",
       "\t<tr><th></th><th scope=col>Score</th><th scope=col>Clusters</th></tr>\n",
       "\t<tr><th></th><th scope=col>&lt;dbl&gt;</th><th scope=col>&lt;dbl&gt;</th></tr>\n",
       "</thead>\n",
       "<tbody>\n",
       "\t<tr><th scope=row>Connectivity</th><td>11.0297619</td><td>3</td></tr>\n",
       "\t<tr><th scope=row>Dunn</th><td> 0.6324555</td><td>3</td></tr>\n",
       "\t<tr><th scope=row>Silhouette</th><td> 0.1524033</td><td>3</td></tr>\n",
       "</tbody>\n",
       "</table>\n"
      ],
      "text/latex": [
       "A data.frame: 3 × 2\n",
       "\\begin{tabular}{r|ll}\n",
       "  & Score & Clusters\\\\\n",
       "  & <dbl> & <dbl>\\\\\n",
       "\\hline\n",
       "\tConnectivity & 11.0297619 & 3\\\\\n",
       "\tDunn &  0.6324555 & 3\\\\\n",
       "\tSilhouette &  0.1524033 & 3\\\\\n",
       "\\end{tabular}\n"
      ],
      "text/markdown": [
       "\n",
       "A data.frame: 3 × 2\n",
       "\n",
       "| <!--/--> | Score &lt;dbl&gt; | Clusters &lt;dbl&gt; |\n",
       "|---|---|---|\n",
       "| Connectivity | 11.0297619 | 3 |\n",
       "| Dunn |  0.6324555 | 3 |\n",
       "| Silhouette |  0.1524033 | 3 |\n",
       "\n"
      ],
      "text/plain": [
       "             Score      Clusters\n",
       "Connectivity 11.0297619 3       \n",
       "Dunn          0.6324555 3       \n",
       "Silhouette    0.1524033 3       "
      ]
     },
     "metadata": {},
     "output_type": "display_data"
    }
   ],
   "source": [
    "opt = optimalScores(intern)\n",
    "opt$Method = NULL\n",
    "opt$Clusters = 3\n",
    "opt"
   ]
  },
  {
   "cell_type": "markdown",
   "id": "c7ebcde0-2997-4c77-97ae-2b2d42d1c3c8",
   "metadata": {},
   "source": [
    "- [x] The **Dunn Index** is the ratio of the smallest distance between observations not in the same cluster to the largest intra-cluster distance. The Dunn Index has a value between zero and infinity, and should be maximized\n",
    "\n",
    "- [x] **Silhouette Coefficient** or silhouette score is a metric used to calculate the goodness of a clustering technique. Its value ranges from -1 to 1. 1: Means clusters are well apart from each other and clearly distinguished.\n",
    "\n",
    "- [x] **Connectivity** based clustering also known as Hierarchical clustering."
   ]
  },
  {
   "cell_type": "markdown",
   "id": "b2ccec29-2b56-4c7e-8017-6db3eb1f9335",
   "metadata": {},
   "source": [
    "---"
   ]
  },
  {
   "cell_type": "markdown",
   "id": "de0b2630-ad37-4213-9dac-fb18b7e32882",
   "metadata": {},
   "source": [
    "## KMods clustering"
   ]
  },
  {
   "cell_type": "markdown",
   "id": "849d16ab-defd-4617-a1a6-880b851d87a3",
   "metadata": {},
   "source": [
    "Цей метод кластеризації нам підходить якнайраще, адже дозволяє, по-перше, використовувати категоріальні парамтери для моделювання, а по-друге, визначити центри кластерів до яких тяжіють усі нші значення у групах. Використає можливості пакету `klaR`.\n",
    "\n",
    "_(https://cran.r-project.org/web/packages/klaR/index.html)_"
   ]
  },
  {
   "cell_type": "code",
   "execution_count": 58,
   "id": "dd878728-75b2-4a07-b79d-1a076419188f",
   "metadata": {},
   "outputs": [
    {
     "data": {
      "text/plain": [
       "@InProceedings{,\n",
       "  title = {klaR Analyzing German Business Cycles},\n",
       "  author = {Claus Weihs and Uwe Ligges and Karsten Luebke and Nils Raabe},\n",
       "  booktitle = {Data Analysis and Decision Support},\n",
       "  editor = {D. Baier and R. Decker and L. Schmidt-Thieme},\n",
       "  publisher = {Springer-Verlag},\n",
       "  address = {Berlin},\n",
       "  year = {2005},\n",
       "  pages = {335-343},\n",
       "}"
      ]
     },
     "metadata": {},
     "output_type": "display_data"
    }
   ],
   "source": [
    "toBibtex(citation(\"klaR\"))"
   ]
  },
  {
   "cell_type": "code",
   "execution_count": 59,
   "id": "23d70a0f-ed81-4def-b6a3-f1ddf16ef4fe",
   "metadata": {},
   "outputs": [
    {
     "data": {
      "text/plain": [
       "K-modes clustering with 3 clusters of sizes 21, 31, 36\n",
       "\n",
       "Cluster modes:\n",
       "           X1       X2      X3          X4\n",
       "1 16-23 років Чоловіча Студент  Ні, ніколи\n",
       "2 16-23 років   Жіноча Студент Так, інколи\n",
       "3 16-23 років   Жіноча Студент Так, інколи\n",
       "                                                              X5  X6\n",
       "1                 Не сильно, щось чув/ла, але не цікавився/лася.  Ні\n",
       "2 В середньому, ніколи не приймав/ла участь, але цікавився/лась.  Ні\n",
       "3              Орієнтуюсь, приймав/ла участь в одній організації Так\n",
       "                     X7                       X8 X9 X10           X11\n",
       "1                     - Ніколи про них не чув/ла Ні  Ні   Ні, жодного\n",
       "2                     -          Не мав/ла змоги Ні Так   Ні, жодного\n",
       "3 Молодіжна організація                        - Ні Так Так, декілька\n",
       "                    X12                                                   X13\n",
       "1      Все одно не хочу               Так, оскільки вони покликані допомагати\n",
       "2 Молодіжна організація               Так, оскільки вони покликані допомагати\n",
       "3 Молодіжна організація Так, оскільки за допомогою них можна реалізувати себе\n",
       "                                           X14\n",
       "1                                Дивлячись які\n",
       "2 Якщо це законно і відстоює благодійні справи\n",
       "3 Якщо це законно і відстоює благодійні справи\n",
       "\n",
       "Clustering vector:\n",
       " [1] 3 2 3 2 2 2 2 2 3 1 2 3 2 3 3 2 3 3 3 3 2 1 2 2 2 2 3 1 3 2 3 1 2 1 3 1 3 2\n",
       "[39] 1 3 2 3 1 3 2 1 3 1 3 1 1 2 3 2 3 2 3 3 2 3 1 3 1 3 3 1 1 2 1 3 3 3 1 1 2 2\n",
       "[77] 2 3 2 3 1 3 2 3 2 2 3 1\n",
       "\n",
       "Within cluster simple-matching distance by cluster:\n",
       "[1]  92 115 169\n",
       "\n",
       "Available components:\n",
       "[1] \"cluster\"    \"size\"       \"modes\"      \"withindiff\" \"iterations\"\n",
       "[6] \"weighted\"  "
      ]
     },
     "metadata": {},
     "output_type": "display_data"
    }
   ],
   "source": [
    "suppressMessages(library(klaR))\n",
    "set.seed(2)\n",
    "cluster.results <- kmodes(survey_data, 3, iter.max = 10, weighted = FALSE )\n",
    "cluster.results"
   ]
  },
  {
   "cell_type": "markdown",
   "id": "b2a41749-502d-4cf0-930a-c1dba705dbda",
   "metadata": {},
   "source": [
    "Нижче зображені \"центри\" кластерів:"
   ]
  },
  {
   "cell_type": "code",
   "execution_count": 73,
   "id": "c5d18006-b9fb-48ca-8a7a-cd1994365e72",
   "metadata": {},
   "outputs": [
    {
     "data": {
      "text/html": [
       "<table class=\"dataframe\">\n",
       "<caption>A data.frame: 3 × 14</caption>\n",
       "<thead>\n",
       "\t<tr><th></th><th scope=col>X1</th><th scope=col>X2</th><th scope=col>X3</th><th scope=col>X4</th><th scope=col>X5</th><th scope=col>X6</th><th scope=col>X7</th><th scope=col>X8</th><th scope=col>X9</th><th scope=col>X10</th><th scope=col>X11</th><th scope=col>X12</th><th scope=col>X13</th><th scope=col>X14</th></tr>\n",
       "\t<tr><th></th><th scope=col>&lt;fct&gt;</th><th scope=col>&lt;fct&gt;</th><th scope=col>&lt;fct&gt;</th><th scope=col>&lt;fct&gt;</th><th scope=col>&lt;fct&gt;</th><th scope=col>&lt;fct&gt;</th><th scope=col>&lt;fct&gt;</th><th scope=col>&lt;fct&gt;</th><th scope=col>&lt;fct&gt;</th><th scope=col>&lt;fct&gt;</th><th scope=col>&lt;fct&gt;</th><th scope=col>&lt;fct&gt;</th><th scope=col>&lt;fct&gt;</th><th scope=col>&lt;fct&gt;</th></tr>\n",
       "</thead>\n",
       "<tbody>\n",
       "\t<tr><th scope=row>1</th><td>16-23 років</td><td>Чоловіча</td><td>Студент</td><td>Ні, ніколи </td><td>Не сильно, щось чув/ла, але не цікавився/лася.                </td><td>Ні </td><td>-                    </td><td>Ніколи про них не чув/ла</td><td>Ні</td><td>Ні </td><td>Ні, жодного  </td><td>Все одно не хочу     </td><td>Так, оскільки вони покликані допомагати              </td><td>Дивлячись які                               </td></tr>\n",
       "\t<tr><th scope=row>2</th><td>16-23 років</td><td>Жіноча  </td><td>Студент</td><td>Так, інколи</td><td>В середньому, ніколи не приймав/ла участь, але цікавився/лась.</td><td>Ні </td><td>-                    </td><td>Не мав/ла змоги         </td><td>Ні</td><td>Так</td><td>Ні, жодного  </td><td>Молодіжна організація</td><td>Так, оскільки вони покликані допомагати              </td><td>Якщо це законно і відстоює благодійні справи</td></tr>\n",
       "\t<tr><th scope=row>3</th><td>16-23 років</td><td>Жіноча  </td><td>Студент</td><td>Так, інколи</td><td>Орієнтуюсь, приймав/ла участь в одній організації             </td><td>Так</td><td>Молодіжна організація</td><td>-                       </td><td>Ні</td><td>Так</td><td>Так, декілька</td><td>Молодіжна організація</td><td>Так, оскільки за допомогою них можна реалізувати себе</td><td>Якщо це законно і відстоює благодійні справи</td></tr>\n",
       "</tbody>\n",
       "</table>\n"
      ],
      "text/latex": [
       "A data.frame: 3 × 14\n",
       "\\begin{tabular}{r|llllllllllllll}\n",
       "  & X1 & X2 & X3 & X4 & X5 & X6 & X7 & X8 & X9 & X10 & X11 & X12 & X13 & X14\\\\\n",
       "  & <fct> & <fct> & <fct> & <fct> & <fct> & <fct> & <fct> & <fct> & <fct> & <fct> & <fct> & <fct> & <fct> & <fct>\\\\\n",
       "\\hline\n",
       "\t1 & 16-23 років & Чоловіча & Студент & Ні, ніколи  & Не сильно, щось чув/ла, але не цікавився/лася.                 & Ні  & -                     & Ніколи про них не чув/ла & Ні & Ні  & Ні, жодного   & Все одно не хочу      & Так, оскільки вони покликані допомагати               & Дивлячись які                               \\\\\n",
       "\t2 & 16-23 років & Жіноча   & Студент & Так, інколи & В середньому, ніколи не приймав/ла участь, але цікавився/лась. & Ні  & -                     & Не мав/ла змоги          & Ні & Так & Ні, жодного   & Молодіжна організація & Так, оскільки вони покликані допомагати               & Якщо це законно і відстоює благодійні справи\\\\\n",
       "\t3 & 16-23 років & Жіноча   & Студент & Так, інколи & Орієнтуюсь, приймав/ла участь в одній організації              & Так & Молодіжна організація & -                        & Ні & Так & Так, декілька & Молодіжна організація & Так, оскільки за допомогою них можна реалізувати себе & Якщо це законно і відстоює благодійні справи\\\\\n",
       "\\end{tabular}\n"
      ],
      "text/markdown": [
       "\n",
       "A data.frame: 3 × 14\n",
       "\n",
       "| <!--/--> | X1 &lt;fct&gt; | X2 &lt;fct&gt; | X3 &lt;fct&gt; | X4 &lt;fct&gt; | X5 &lt;fct&gt; | X6 &lt;fct&gt; | X7 &lt;fct&gt; | X8 &lt;fct&gt; | X9 &lt;fct&gt; | X10 &lt;fct&gt; | X11 &lt;fct&gt; | X12 &lt;fct&gt; | X13 &lt;fct&gt; | X14 &lt;fct&gt; |\n",
       "|---|---|---|---|---|---|---|---|---|---|---|---|---|---|---|\n",
       "| 1 | 16-23 років | Чоловіча | Студент | Ні, ніколи  | Не сильно, щось чув/ла, але не цікавився/лася.                 | Ні  | -                     | Ніколи про них не чув/ла | Ні | Ні  | Ні, жодного   | Все одно не хочу      | Так, оскільки вони покликані допомагати               | Дивлячись які                                |\n",
       "| 2 | 16-23 років | Жіноча   | Студент | Так, інколи | В середньому, ніколи не приймав/ла участь, але цікавився/лась. | Ні  | -                     | Не мав/ла змоги          | Ні | Так | Ні, жодного   | Молодіжна організація | Так, оскільки вони покликані допомагати               | Якщо це законно і відстоює благодійні справи |\n",
       "| 3 | 16-23 років | Жіноча   | Студент | Так, інколи | Орієнтуюсь, приймав/ла участь в одній організації              | Так | Молодіжна організація | -                        | Ні | Так | Так, декілька | Молодіжна організація | Так, оскільки за допомогою них можна реалізувати себе | Якщо це законно і відстоює благодійні справи |\n",
       "\n"
      ],
      "text/plain": [
       "  X1          X2       X3      X4         \n",
       "1 16-23 років Чоловіча Студент Ні, ніколи \n",
       "2 16-23 років Жіноча   Студент Так, інколи\n",
       "3 16-23 років Жіноча   Студент Так, інколи\n",
       "  X5                                                             X6 \n",
       "1 Не сильно, щось чув/ла, але не цікавився/лася.                 Ні \n",
       "2 В середньому, ніколи не приймав/ла участь, але цікавився/лась. Ні \n",
       "3 Орієнтуюсь, приймав/ла участь в одній організації              Так\n",
       "  X7                    X8                       X9 X10 X11          \n",
       "1 -                     Ніколи про них не чув/ла Ні Ні  Ні, жодного  \n",
       "2 -                     Не мав/ла змоги          Ні Так Ні, жодного  \n",
       "3 Молодіжна організація -                        Ні Так Так, декілька\n",
       "  X12                   X13                                                  \n",
       "1 Все одно не хочу      Так, оскільки вони покликані допомагати              \n",
       "2 Молодіжна організація Так, оскільки вони покликані допомагати              \n",
       "3 Молодіжна організація Так, оскільки за допомогою них можна реалізувати себе\n",
       "  X14                                         \n",
       "1 Дивлячись які                               \n",
       "2 Якщо це законно і відстоює благодійні справи\n",
       "3 Якщо це законно і відстоює благодійні справи"
      ]
     },
     "metadata": {},
     "output_type": "display_data"
    }
   ],
   "source": [
    "cluster.results$modes"
   ]
  },
  {
   "cell_type": "code",
   "execution_count": 61,
   "id": "6219ea9e-d382-459e-8852-9f0290de5bdb",
   "metadata": {},
   "outputs": [
    {
     "data": {
      "text/html": [
       "<table class=\"dataframe\">\n",
       "<caption>A tibble: 3 × 3</caption>\n",
       "<thead>\n",
       "\t<tr><th scope=col>MCluster</th><th scope=col>Count</th><th scope=col>Perc</th></tr>\n",
       "\t<tr><th scope=col>&lt;fct&gt;</th><th scope=col>&lt;int&gt;</th><th scope=col>&lt;dbl&gt;</th></tr>\n",
       "</thead>\n",
       "<tbody>\n",
       "\t<tr><td>1</td><td>21</td><td>23.86</td></tr>\n",
       "\t<tr><td>2</td><td>31</td><td>35.23</td></tr>\n",
       "\t<tr><td>3</td><td>36</td><td>40.91</td></tr>\n",
       "</tbody>\n",
       "</table>\n"
      ],
      "text/latex": [
       "A tibble: 3 × 3\n",
       "\\begin{tabular}{lll}\n",
       " MCluster & Count & Perc\\\\\n",
       " <fct> & <int> & <dbl>\\\\\n",
       "\\hline\n",
       "\t 1 & 21 & 23.86\\\\\n",
       "\t 2 & 31 & 35.23\\\\\n",
       "\t 3 & 36 & 40.91\\\\\n",
       "\\end{tabular}\n"
      ],
      "text/markdown": [
       "\n",
       "A tibble: 3 × 3\n",
       "\n",
       "| MCluster &lt;fct&gt; | Count &lt;int&gt; | Perc &lt;dbl&gt; |\n",
       "|---|---|---|\n",
       "| 1 | 21 | 23.86 |\n",
       "| 2 | 31 | 35.23 |\n",
       "| 3 | 36 | 40.91 |\n",
       "\n"
      ],
      "text/plain": [
       "  MCluster Count Perc \n",
       "1 1        21    23.86\n",
       "2 2        31    35.23\n",
       "3 3        36    40.91"
      ]
     },
     "metadata": {},
     "output_type": "display_data"
    }
   ],
   "source": [
    "clusters <- survey_data_clust |> \n",
    "    group_by(MCluster) |>\n",
    "    summarize(Count = n()) |>\n",
    "    mutate(Perc = round(Count/sum(Count)*100,2),\n",
    "           MCluster = as.factor(MCluster))\n",
    "clusters"
   ]
  },
  {
   "cell_type": "code",
   "execution_count": 62,
   "id": "a19db64e-893b-44df-bffe-98842cad8116",
   "metadata": {},
   "outputs": [
    {
     "data": {
      "image/png": "[encoded data removed]",
      "text/plain": [
       "plot without title"
      ]
     },
     "metadata": {
      "image/png": {
       "height": 420,
       "width": 420
      }
     },
     "output_type": "display_data"
    }
   ],
   "source": [
    "ggplot(clusters, aes(x = \"\", y = Perc, fill = as.factor(MCluster))) +\n",
    "  geom_bar(stat = \"identity\", color = \"white\") +\n",
    "  geom_text(aes(x = 1.6, label = scales::percent(Perc/100, accuracy = .1)), position = position_stack(vjust = .5)) +\n",
    "  coord_polar(\"y\") +\n",
    "  theme_light()"
   ]
  },
  {
   "cell_type": "code",
   "execution_count": 63,
   "id": "dd4950d1-3b8a-4aed-a476-62971d08050a",
   "metadata": {},
   "outputs": [
    {
     "data": {
      "text/html": [
       "<table class=\"dataframe\">\n",
       "<caption>A data.frame: 3 × 14</caption>\n",
       "<thead>\n",
       "\t<tr><th></th><th scope=col>X1</th><th scope=col>X2</th><th scope=col>X3</th><th scope=col>X4</th><th scope=col>X5</th><th scope=col>X6</th><th scope=col>X7</th><th scope=col>X8</th><th scope=col>X9</th><th scope=col>X10</th><th scope=col>X11</th><th scope=col>X12</th><th scope=col>X13</th><th scope=col>X14</th></tr>\n",
       "\t<tr><th></th><th scope=col>&lt;fct&gt;</th><th scope=col>&lt;fct&gt;</th><th scope=col>&lt;fct&gt;</th><th scope=col>&lt;fct&gt;</th><th scope=col>&lt;fct&gt;</th><th scope=col>&lt;fct&gt;</th><th scope=col>&lt;fct&gt;</th><th scope=col>&lt;fct&gt;</th><th scope=col>&lt;fct&gt;</th><th scope=col>&lt;fct&gt;</th><th scope=col>&lt;fct&gt;</th><th scope=col>&lt;fct&gt;</th><th scope=col>&lt;fct&gt;</th><th scope=col>&lt;fct&gt;</th></tr>\n",
       "</thead>\n",
       "<tbody>\n",
       "\t<tr><th scope=row>1</th><td>16-23 років</td><td>Чоловіча</td><td>Студент</td><td>Ні, ніколи </td><td>Не сильно, щось чув/ла, але не цікавився/лася.                </td><td>Ні </td><td>-                    </td><td>Ніколи про них не чув/ла</td><td>Ні</td><td>Ні </td><td>Ні, жодного  </td><td>Все одно не хочу     </td><td>Так, оскільки вони покликані допомагати              </td><td>Дивлячись які                               </td></tr>\n",
       "\t<tr><th scope=row>2</th><td>16-23 років</td><td>Жіноча  </td><td>Студент</td><td>Так, інколи</td><td>В середньому, ніколи не приймав/ла участь, але цікавився/лась.</td><td>Ні </td><td>-                    </td><td>Не мав/ла змоги         </td><td>Ні</td><td>Так</td><td>Ні, жодного  </td><td>Молодіжна організація</td><td>Так, оскільки вони покликані допомагати              </td><td>Якщо це законно і відстоює благодійні справи</td></tr>\n",
       "\t<tr><th scope=row>3</th><td>16-23 років</td><td>Жіноча  </td><td>Студент</td><td>Так, інколи</td><td>Орієнтуюсь, приймав/ла участь в одній організації             </td><td>Так</td><td>Молодіжна організація</td><td>-                       </td><td>Ні</td><td>Так</td><td>Так, декілька</td><td>Молодіжна організація</td><td>Так, оскільки за допомогою них можна реалізувати себе</td><td>Якщо це законно і відстоює благодійні справи</td></tr>\n",
       "</tbody>\n",
       "</table>\n"
      ],
      "text/latex": [
       "A data.frame: 3 × 14\n",
       "\\begin{tabular}{r|llllllllllllll}\n",
       "  & X1 & X2 & X3 & X4 & X5 & X6 & X7 & X8 & X9 & X10 & X11 & X12 & X13 & X14\\\\\n",
       "  & <fct> & <fct> & <fct> & <fct> & <fct> & <fct> & <fct> & <fct> & <fct> & <fct> & <fct> & <fct> & <fct> & <fct>\\\\\n",
       "\\hline\n",
       "\t1 & 16-23 років & Чоловіча & Студент & Ні, ніколи  & Не сильно, щось чув/ла, але не цікавився/лася.                 & Ні  & -                     & Ніколи про них не чув/ла & Ні & Ні  & Ні, жодного   & Все одно не хочу      & Так, оскільки вони покликані допомагати               & Дивлячись які                               \\\\\n",
       "\t2 & 16-23 років & Жіноча   & Студент & Так, інколи & В середньому, ніколи не приймав/ла участь, але цікавився/лась. & Ні  & -                     & Не мав/ла змоги          & Ні & Так & Ні, жодного   & Молодіжна організація & Так, оскільки вони покликані допомагати               & Якщо це законно і відстоює благодійні справи\\\\\n",
       "\t3 & 16-23 років & Жіноча   & Студент & Так, інколи & Орієнтуюсь, приймав/ла участь в одній організації              & Так & Молодіжна організація & -                        & Ні & Так & Так, декілька & Молодіжна організація & Так, оскільки за допомогою них можна реалізувати себе & Якщо це законно і відстоює благодійні справи\\\\\n",
       "\\end{tabular}\n"
      ],
      "text/markdown": [
       "\n",
       "A data.frame: 3 × 14\n",
       "\n",
       "| <!--/--> | X1 &lt;fct&gt; | X2 &lt;fct&gt; | X3 &lt;fct&gt; | X4 &lt;fct&gt; | X5 &lt;fct&gt; | X6 &lt;fct&gt; | X7 &lt;fct&gt; | X8 &lt;fct&gt; | X9 &lt;fct&gt; | X10 &lt;fct&gt; | X11 &lt;fct&gt; | X12 &lt;fct&gt; | X13 &lt;fct&gt; | X14 &lt;fct&gt; |\n",
       "|---|---|---|---|---|---|---|---|---|---|---|---|---|---|---|\n",
       "| 1 | 16-23 років | Чоловіча | Студент | Ні, ніколи  | Не сильно, щось чув/ла, але не цікавився/лася.                 | Ні  | -                     | Ніколи про них не чув/ла | Ні | Ні  | Ні, жодного   | Все одно не хочу      | Так, оскільки вони покликані допомагати               | Дивлячись які                                |\n",
       "| 2 | 16-23 років | Жіноча   | Студент | Так, інколи | В середньому, ніколи не приймав/ла участь, але цікавився/лась. | Ні  | -                     | Не мав/ла змоги          | Ні | Так | Ні, жодного   | Молодіжна організація | Так, оскільки вони покликані допомагати               | Якщо це законно і відстоює благодійні справи |\n",
       "| 3 | 16-23 років | Жіноча   | Студент | Так, інколи | Орієнтуюсь, приймав/ла участь в одній організації              | Так | Молодіжна організація | -                        | Ні | Так | Так, декілька | Молодіжна організація | Так, оскільки за допомогою них можна реалізувати себе | Якщо це законно і відстоює благодійні справи |\n",
       "\n"
      ],
      "text/plain": [
       "  X1          X2       X3      X4         \n",
       "1 16-23 років Чоловіча Студент Ні, ніколи \n",
       "2 16-23 років Жіноча   Студент Так, інколи\n",
       "3 16-23 років Жіноча   Студент Так, інколи\n",
       "  X5                                                             X6 \n",
       "1 Не сильно, щось чув/ла, але не цікавився/лася.                 Ні \n",
       "2 В середньому, ніколи не приймав/ла участь, але цікавився/лась. Ні \n",
       "3 Орієнтуюсь, приймав/ла участь в одній організації              Так\n",
       "  X7                    X8                       X9 X10 X11          \n",
       "1 -                     Ніколи про них не чув/ла Ні Ні  Ні, жодного  \n",
       "2 -                     Не мав/ла змоги          Ні Так Ні, жодного  \n",
       "3 Молодіжна організація -                        Ні Так Так, декілька\n",
       "  X12                   X13                                                  \n",
       "1 Все одно не хочу      Так, оскільки вони покликані допомагати              \n",
       "2 Молодіжна організація Так, оскільки вони покликані допомагати              \n",
       "3 Молодіжна організація Так, оскільки за допомогою них можна реалізувати себе\n",
       "  X14                                         \n",
       "1 Дивлячись які                               \n",
       "2 Якщо це законно і відстоює благодійні справи\n",
       "3 Якщо це законно і відстоює благодійні справи"
      ]
     },
     "metadata": {},
     "output_type": "display_data"
    }
   ],
   "source": [
    "cluster.results$modes"
   ]
  },
  {
   "cell_type": "markdown",
   "id": "b6c02943-fa97-4fbf-93a7-632c9e487fb7",
   "metadata": {},
   "source": [
    "Якщо провести зведену характеристук кластерів, то отримаємо наступні результати:"
   ]
  },
  {
   "cell_type": "markdown",
   "id": "090b2043-ea33-446f-b3a7-04b33ebb5198",
   "metadata": {},
   "source": [
    "**Кластер №1**. Відсутність участі та бажання\n",
    "Ці люди в основному ніколи не цікавилися діяльністю ромадських орнізацій, не є їх учанисника і не планують ближчим часом ставити членами. Проте визнають потребу у їх існуванні, адже \"вони покликані допомагати\". У цій групі потрібно проводити інформаційні кампанії щодо діяльності ГО та ...\n",
    "\n",
    "**Кластер №2**. Лояльні\n",
    "\n",
    "Саме ця група, на нашу думку, і повинна бути основною цільовою аудиторією для розвитку ГО у країні, адже у ній зібрано тих, хто бажає займатися активною громадською діяльністю, проте через певні баєри (як власні так і зовнішні) перебуваю у стані очікування. Для цих учасників варто зосередити увагу на можливостях самореалізації за рахунок участі у ГО, адже це є відмінною ознакою кластеру №3.\n",
    "\n",
    "**Кластер №3**. Активні учасники\n",
    "Інколи приймають участь у громадських заходах, мають досвід участі у одній і і більше організацій, вважають, що самореалізація є причиною участі у ГО."
   ]
  }
 ],
 "metadata": {
  "celltoolbar": "Tags",
  "kernelspec": {
   "display_name": "R",
   "language": "R",
   "name": "ir"
  },
  "language_info": {
   "codemirror_mode": "r",
   "file_extension": ".r",
   "mimetype": "text/x-r-source",
   "name": "R",
   "pygments_lexer": "r",
   "version": "4.1.3"
  }
 },
 "nbformat": 4,
 "nbformat_minor": 5
}
