{
 "cells": [
  {
   "cell_type": "markdown",
   "id": "2c2e69c8-bd5c-4946-9faf-62b3938e90de",
   "metadata": {},
   "source": [
    "# Розвиток громадських організацій через призму активності населення"
   ]
  },
  {
   "cell_type": "markdown",
   "id": "859acb94-dc0e-42d9-b5b8-98261c77d273",
   "metadata": {},
   "source": [
    "---"
   ]
  },
  {
   "cell_type": "markdown",
   "id": "67fab4b2-190d-49df-88db-333aa1f7f012",
   "metadata": {
    "tags": []
   },
   "source": [
    "## Підготовка пакетів"
   ]
  },
  {
   "cell_type": "code",
   "execution_count": 1,
   "id": "4464fe9f-cbb1-4373-b04d-732f8e52a5fc",
   "metadata": {},
   "outputs": [],
   "source": [
    "#install.packages(\"psych\")"
   ]
  },
  {
   "cell_type": "code",
   "execution_count": 2,
   "id": "1cf33f23-0d04-4ac5-a693-e15a3c711389",
   "metadata": {},
   "outputs": [
    {
     "name": "stderr",
     "output_type": "stream",
     "text": [
      "-- \u001b[1mAttaching packages\u001b[22m ------------------------------------------------------------------------------- tidyverse 1.3.2 --\n",
      "\u001b[32mv\u001b[39m \u001b[34mggplot2\u001b[39m 3.3.6      \u001b[32mv\u001b[39m \u001b[34mpurrr  \u001b[39m 0.3.4 \n",
      "\u001b[32mv\u001b[39m \u001b[34mtibble \u001b[39m 3.1.8      \u001b[32mv\u001b[39m \u001b[34mdplyr  \u001b[39m 1.0.10\n",
      "\u001b[32mv\u001b[39m \u001b[34mtidyr  \u001b[39m 1.2.1      \u001b[32mv\u001b[39m \u001b[34mstringr\u001b[39m 1.4.1 \n",
      "\u001b[32mv\u001b[39m \u001b[34mreadr  \u001b[39m 2.1.3      \u001b[32mv\u001b[39m \u001b[34mforcats\u001b[39m 0.5.2 \n",
      "-- \u001b[1mConflicts\u001b[22m ---------------------------------------------------------------------------------- tidyverse_conflicts() --\n",
      "\u001b[31mx\u001b[39m \u001b[34mdplyr\u001b[39m::\u001b[32mfilter()\u001b[39m masks \u001b[34mstats\u001b[39m::filter()\n",
      "\u001b[31mx\u001b[39m \u001b[34mdplyr\u001b[39m::\u001b[32mlag()\u001b[39m    masks \u001b[34mstats\u001b[39m::lag()\n",
      "\n",
      "Attaching package: 'psych'\n",
      "\n",
      "\n",
      "The following objects are masked from 'package:ggplot2':\n",
      "\n",
      "    %+%, alpha\n",
      "\n",
      "\n"
     ]
    }
   ],
   "source": [
    "library(tidyverse)\n",
    "library(psych)"
   ]
  },
  {
   "cell_type": "code",
   "execution_count": 3,
   "id": "ae311b80-47d9-4f77-b6eb-90058b5ddb0c",
   "metadata": {},
   "outputs": [
    {
     "data": {
      "text/html": [
       "'Ukrainian_Ukraine.1251'"
      ],
      "text/latex": [
       "'Ukrainian\\_Ukraine.1251'"
      ],
      "text/markdown": [
       "'Ukrainian_Ukraine.1251'"
      ],
      "text/plain": [
       "[1] \"Ukrainian_Ukraine.1251\""
      ]
     },
     "metadata": {},
     "output_type": "display_data"
    }
   ],
   "source": [
    "Sys.setlocale(\"LC_CTYPE\", \"ukrainian\") \n",
    "options(warn = -1)"
   ]
  },
  {
   "cell_type": "markdown",
   "id": "dfcea1f2-a6a8-4910-b2a1-0f1df4708fc9",
   "metadata": {
    "tags": []
   },
   "source": [
    "## Завантаження даних"
   ]
  },
  {
   "cell_type": "code",
   "execution_count": 4,
   "id": "19defa16-dfdd-43c0-a908-e6a2d7a4d284",
   "metadata": {},
   "outputs": [],
   "source": [
    "survey_data <- readRDS(\"survey_data_init.rds\")\n",
    "survey_headers <- readRDS(\"survey_headers.rds\")"
   ]
  },
  {
   "cell_type": "code",
   "execution_count": 13,
   "id": "22968315-2dd1-410d-9a45-6360bcc83976",
   "metadata": {},
   "outputs": [
    {
     "data": {
      "text/html": [
       "<table class=\"dataframe\">\n",
       "<caption>A data.frame: 2 × 14</caption>\n",
       "<thead>\n",
       "\t<tr><th></th><th scope=col>X1</th><th scope=col>X2</th><th scope=col>X3</th><th scope=col>X4</th><th scope=col>X5</th><th scope=col>X6</th><th scope=col>X7</th><th scope=col>X8</th><th scope=col>X9</th><th scope=col>X10</th><th scope=col>X11</th><th scope=col>X12</th><th scope=col>X13</th><th scope=col>X14</th></tr>\n",
       "\t<tr><th></th><th scope=col>&lt;fct&gt;</th><th scope=col>&lt;fct&gt;</th><th scope=col>&lt;fct&gt;</th><th scope=col>&lt;fct&gt;</th><th scope=col>&lt;fct&gt;</th><th scope=col>&lt;fct&gt;</th><th scope=col>&lt;fct&gt;</th><th scope=col>&lt;fct&gt;</th><th scope=col>&lt;fct&gt;</th><th scope=col>&lt;fct&gt;</th><th scope=col>&lt;fct&gt;</th><th scope=col>&lt;fct&gt;</th><th scope=col>&lt;fct&gt;</th><th scope=col>&lt;fct&gt;</th></tr>\n",
       "</thead>\n",
       "<tbody>\n",
       "\t<tr><th scope=row>1</th><td>16-23 років</td><td>Жіноча</td><td>Працюючий</td><td>Так, інколи</td><td>Орієнтуюсь, приймав/ла участь в одній організації</td><td>Так</td><td>Молодіжна організація</td><td>-</td><td>Ні</td><td>Так</td><td>Так, декілька</td><td>Творчі об'єднання    </td><td>Так, оскільки за допомогою них можна реалізувати себе</td><td>Так, за умови відсутності пропаганди діяльності цієї організації</td></tr>\n",
       "\t<tr><th scope=row>2</th><td>16-23 років</td><td>Жіноча</td><td>Студент  </td><td>Так, інколи</td><td>Не сильно, щось чув/ла, але не цікавився/лася.   </td><td>Ні </td><td>-                    </td><td>-</td><td>Ні</td><td>Ні </td><td>Ні, жодного  </td><td>Молодіжна організація</td><td>Так, оскільки вони покликані допомагати              </td><td>Якщо це законно і відстоює благодійні справи                    </td></tr>\n",
       "</tbody>\n",
       "</table>\n"
      ],
      "text/latex": [
       "A data.frame: 2 × 14\n",
       "\\begin{tabular}{r|llllllllllllll}\n",
       "  & X1 & X2 & X3 & X4 & X5 & X6 & X7 & X8 & X9 & X10 & X11 & X12 & X13 & X14\\\\\n",
       "  & <fct> & <fct> & <fct> & <fct> & <fct> & <fct> & <fct> & <fct> & <fct> & <fct> & <fct> & <fct> & <fct> & <fct>\\\\\n",
       "\\hline\n",
       "\t1 & 16-23 років & Жіноча & Працюючий & Так, інколи & Орієнтуюсь, приймав/ла участь в одній організації & Так & Молодіжна організація & - & Ні & Так & Так, декілька & Творчі об'єднання     & Так, оскільки за допомогою них можна реалізувати себе & Так, за умови відсутності пропаганди діяльності цієї організації\\\\\n",
       "\t2 & 16-23 років & Жіноча & Студент   & Так, інколи & Не сильно, щось чув/ла, але не цікавився/лася.    & Ні  & -                     & - & Ні & Ні  & Ні, жодного   & Молодіжна організація & Так, оскільки вони покликані допомагати               & Якщо це законно і відстоює благодійні справи                    \\\\\n",
       "\\end{tabular}\n"
      ],
      "text/markdown": [
       "\n",
       "A data.frame: 2 × 14\n",
       "\n",
       "| <!--/--> | X1 &lt;fct&gt; | X2 &lt;fct&gt; | X3 &lt;fct&gt; | X4 &lt;fct&gt; | X5 &lt;fct&gt; | X6 &lt;fct&gt; | X7 &lt;fct&gt; | X8 &lt;fct&gt; | X9 &lt;fct&gt; | X10 &lt;fct&gt; | X11 &lt;fct&gt; | X12 &lt;fct&gt; | X13 &lt;fct&gt; | X14 &lt;fct&gt; |\n",
       "|---|---|---|---|---|---|---|---|---|---|---|---|---|---|---|\n",
       "| 1 | 16-23 років | Жіноча | Працюючий | Так, інколи | Орієнтуюсь, приймав/ла участь в одній організації | Так | Молодіжна організація | - | Ні | Так | Так, декілька | Творчі об'єднання     | Так, оскільки за допомогою них можна реалізувати себе | Так, за умови відсутності пропаганди діяльності цієї організації |\n",
       "| 2 | 16-23 років | Жіноча | Студент   | Так, інколи | Не сильно, щось чув/ла, але не цікавився/лася.    | Ні  | -                     | - | Ні | Ні  | Ні, жодного   | Молодіжна організація | Так, оскільки вони покликані допомагати               | Якщо це законно і відстоює благодійні справи                     |\n",
       "\n"
      ],
      "text/plain": [
       "  X1          X2     X3        X4         \n",
       "1 16-23 років Жіноча Працюючий Так, інколи\n",
       "2 16-23 років Жіноча Студент   Так, інколи\n",
       "  X5                                                X6  X7                   \n",
       "1 Орієнтуюсь, приймав/ла участь в одній організації Так Молодіжна організація\n",
       "2 Не сильно, щось чув/ла, але не цікавився/лася.    Ні  -                    \n",
       "  X8 X9 X10 X11           X12                  \n",
       "1 -  Ні Так Так, декілька Творчі об'єднання    \n",
       "2 -  Ні Ні  Ні, жодного   Молодіжна організація\n",
       "  X13                                                  \n",
       "1 Так, оскільки за допомогою них можна реалізувати себе\n",
       "2 Так, оскільки вони покликані допомагати              \n",
       "  X14                                                             \n",
       "1 Так, за умови відсутності пропаганди діяльності цієї організації\n",
       "2 Якщо це законно і відстоює благодійні справи                    "
      ]
     },
     "metadata": {},
     "output_type": "display_data"
    }
   ],
   "source": [
    "head(survey_data, 2)"
   ]
  },
  {
   "cell_type": "markdown",
   "id": "e240168d-030e-449c-9895-2b072e351529",
   "metadata": {},
   "source": [
    "## Factor to numeric"
   ]
  },
  {
   "cell_type": "code",
   "execution_count": 15,
   "id": "f63d03f1-efe9-4b47-be52-90c3939278f7",
   "metadata": {},
   "outputs": [],
   "source": []
  },
  {
   "cell_type": "code",
   "execution_count": 10,
   "id": "45e6e53a-6977-4d9c-bdd6-6c3b84bd1c61",
   "metadata": {},
   "outputs": [
    {
     "data": {
      "text/html": [
       "<table class=\"dataframe\">\n",
       "<caption>A data.frame: 6 × 14</caption>\n",
       "<thead>\n",
       "\t<tr><th></th><th scope=col>X1</th><th scope=col>X2</th><th scope=col>X3</th><th scope=col>X4</th><th scope=col>X5</th><th scope=col>X6</th><th scope=col>X7</th><th scope=col>X8</th><th scope=col>X9</th><th scope=col>X10</th><th scope=col>X11</th><th scope=col>X12</th><th scope=col>X13</th><th scope=col>X14</th></tr>\n",
       "\t<tr><th></th><th scope=col>&lt;dbl&gt;</th><th scope=col>&lt;dbl&gt;</th><th scope=col>&lt;dbl&gt;</th><th scope=col>&lt;dbl&gt;</th><th scope=col>&lt;dbl&gt;</th><th scope=col>&lt;dbl&gt;</th><th scope=col>&lt;dbl&gt;</th><th scope=col>&lt;dbl&gt;</th><th scope=col>&lt;dbl&gt;</th><th scope=col>&lt;dbl&gt;</th><th scope=col>&lt;dbl&gt;</th><th scope=col>&lt;dbl&gt;</th><th scope=col>&lt;dbl&gt;</th><th scope=col>&lt;dbl&gt;</th></tr>\n",
       "</thead>\n",
       "<tbody>\n",
       "\t<tr><th scope=row>1</th><td>1</td><td>2</td><td>3</td><td>3</td><td>6</td><td>2</td><td>7</td><td>1</td><td>1</td><td>2</td><td>2</td><td>8</td><td>5</td><td>7</td></tr>\n",
       "\t<tr><th scope=row>2</th><td>1</td><td>2</td><td>4</td><td>3</td><td>5</td><td>1</td><td>1</td><td>1</td><td>1</td><td>1</td><td>1</td><td>7</td><td>4</td><td>8</td></tr>\n",
       "\t<tr><th scope=row>3</th><td>1</td><td>2</td><td>4</td><td>3</td><td>1</td><td>2</td><td>7</td><td>1</td><td>1</td><td>2</td><td>1</td><td>7</td><td>5</td><td>7</td></tr>\n",
       "\t<tr><th scope=row>4</th><td>1</td><td>2</td><td>4</td><td>2</td><td>1</td><td>1</td><td>1</td><td>1</td><td>1</td><td>1</td><td>2</td><td>7</td><td>4</td><td>6</td></tr>\n",
       "\t<tr><th scope=row>5</th><td>1</td><td>2</td><td>4</td><td>3</td><td>1</td><td>1</td><td>1</td><td>3</td><td>1</td><td>1</td><td>1</td><td>8</td><td>5</td><td>4</td></tr>\n",
       "\t<tr><th scope=row>6</th><td>1</td><td>2</td><td>4</td><td>3</td><td>1</td><td>1</td><td>1</td><td>4</td><td>1</td><td>2</td><td>2</td><td>7</td><td>4</td><td>6</td></tr>\n",
       "</tbody>\n",
       "</table>\n"
      ],
      "text/latex": [
       "A data.frame: 6 × 14\n",
       "\\begin{tabular}{r|llllllllllllll}\n",
       "  & X1 & X2 & X3 & X4 & X5 & X6 & X7 & X8 & X9 & X10 & X11 & X12 & X13 & X14\\\\\n",
       "  & <dbl> & <dbl> & <dbl> & <dbl> & <dbl> & <dbl> & <dbl> & <dbl> & <dbl> & <dbl> & <dbl> & <dbl> & <dbl> & <dbl>\\\\\n",
       "\\hline\n",
       "\t1 & 1 & 2 & 3 & 3 & 6 & 2 & 7 & 1 & 1 & 2 & 2 & 8 & 5 & 7\\\\\n",
       "\t2 & 1 & 2 & 4 & 3 & 5 & 1 & 1 & 1 & 1 & 1 & 1 & 7 & 4 & 8\\\\\n",
       "\t3 & 1 & 2 & 4 & 3 & 1 & 2 & 7 & 1 & 1 & 2 & 1 & 7 & 5 & 7\\\\\n",
       "\t4 & 1 & 2 & 4 & 2 & 1 & 1 & 1 & 1 & 1 & 1 & 2 & 7 & 4 & 6\\\\\n",
       "\t5 & 1 & 2 & 4 & 3 & 1 & 1 & 1 & 3 & 1 & 1 & 1 & 8 & 5 & 4\\\\\n",
       "\t6 & 1 & 2 & 4 & 3 & 1 & 1 & 1 & 4 & 1 & 2 & 2 & 7 & 4 & 6\\\\\n",
       "\\end{tabular}\n"
      ],
      "text/markdown": [
       "\n",
       "A data.frame: 6 × 14\n",
       "\n",
       "| <!--/--> | X1 &lt;dbl&gt; | X2 &lt;dbl&gt; | X3 &lt;dbl&gt; | X4 &lt;dbl&gt; | X5 &lt;dbl&gt; | X6 &lt;dbl&gt; | X7 &lt;dbl&gt; | X8 &lt;dbl&gt; | X9 &lt;dbl&gt; | X10 &lt;dbl&gt; | X11 &lt;dbl&gt; | X12 &lt;dbl&gt; | X13 &lt;dbl&gt; | X14 &lt;dbl&gt; |\n",
       "|---|---|---|---|---|---|---|---|---|---|---|---|---|---|---|\n",
       "| 1 | 1 | 2 | 3 | 3 | 6 | 2 | 7 | 1 | 1 | 2 | 2 | 8 | 5 | 7 |\n",
       "| 2 | 1 | 2 | 4 | 3 | 5 | 1 | 1 | 1 | 1 | 1 | 1 | 7 | 4 | 8 |\n",
       "| 3 | 1 | 2 | 4 | 3 | 1 | 2 | 7 | 1 | 1 | 2 | 1 | 7 | 5 | 7 |\n",
       "| 4 | 1 | 2 | 4 | 2 | 1 | 1 | 1 | 1 | 1 | 1 | 2 | 7 | 4 | 6 |\n",
       "| 5 | 1 | 2 | 4 | 3 | 1 | 1 | 1 | 3 | 1 | 1 | 1 | 8 | 5 | 4 |\n",
       "| 6 | 1 | 2 | 4 | 3 | 1 | 1 | 1 | 4 | 1 | 2 | 2 | 7 | 4 | 6 |\n",
       "\n"
      ],
      "text/plain": [
       "  X1 X2 X3 X4 X5 X6 X7 X8 X9 X10 X11 X12 X13 X14\n",
       "1 1  2  3  3  6  2  7  1  1  2   2   8   5   7  \n",
       "2 1  2  4  3  5  1  1  1  1  1   1   7   4   8  \n",
       "3 1  2  4  3  1  2  7  1  1  2   1   7   5   7  \n",
       "4 1  2  4  2  1  1  1  1  1  1   2   7   4   6  \n",
       "5 1  2  4  3  1  1  1  3  1  1   1   8   5   4  \n",
       "6 1  2  4  3  1  1  1  4  1  2   2   7   4   6  "
      ]
     },
     "metadata": {},
     "output_type": "display_data"
    }
   ],
   "source": [
    "survey_numeric <- survey_data |>\n",
    "    mutate_if(is.factor, as.numeric)\n",
    "head(survey_numeric)"
   ]
  },
  {
   "cell_type": "code",
   "execution_count": 18,
   "id": "e3238362-56b8-4372-aebb-8b835215b9d9",
   "metadata": {},
   "outputs": [
    {
     "data": {
      "image/png": "[encoded data removed]",
      "text/plain": [
       "Plot with title \"\""
      ]
     },
     "metadata": {
      "image/png": {
       "height": 420,
       "width": 420
      }
     },
     "output_type": "display_data"
    }
   ],
   "source": [
    "library(corrplot)\n",
    "corrplot(cor(survey_numeric))"
   ]
  },
  {
   "cell_type": "code",
   "execution_count": 20,
   "id": "eb57b1e7-d34a-4a2f-8659-287a75f4edca",
   "metadata": {},
   "outputs": [
    {
     "data": {
      "text/html": [
       "<table class=\"dataframe\">\n",
       "<caption>A matrix: 14 × 14 of type dbl</caption>\n",
       "<thead>\n",
       "\t<tr><th></th><th scope=col>X1</th><th scope=col>X2</th><th scope=col>X3</th><th scope=col>X4</th><th scope=col>X5</th><th scope=col>X6</th><th scope=col>X7</th><th scope=col>X8</th><th scope=col>X9</th><th scope=col>X10</th><th scope=col>X11</th><th scope=col>X12</th><th scope=col>X13</th><th scope=col>X14</th></tr>\n",
       "</thead>\n",
       "<tbody>\n",
       "\t<tr><th scope=row>X1</th><td> 1.00</td><td> 0.01</td><td>-0.78</td><td>-0.21</td><td>-0.02</td><td> 0.20</td><td> 0.24</td><td>-0.19</td><td> 0.49</td><td>-0.07</td><td> 0.00</td><td>-0.25</td><td>-0.15</td><td>-0.18</td></tr>\n",
       "\t<tr><th scope=row>X2</th><td> 0.01</td><td> 1.00</td><td>-0.01</td><td> 0.22</td><td>-0.09</td><td> 0.25</td><td> 0.23</td><td>-0.31</td><td> 0.10</td><td> 0.10</td><td> 0.00</td><td> 0.15</td><td> 0.18</td><td> 0.10</td></tr>\n",
       "\t<tr><th scope=row>X3</th><td>-0.78</td><td>-0.01</td><td> 1.00</td><td> 0.20</td><td>-0.13</td><td>-0.19</td><td>-0.22</td><td> 0.21</td><td>-0.36</td><td> 0.10</td><td> 0.02</td><td> 0.13</td><td> 0.22</td><td> 0.21</td></tr>\n",
       "\t<tr><th scope=row>X4</th><td>-0.21</td><td> 0.22</td><td> 0.20</td><td> 1.00</td><td>-0.32</td><td> 0.13</td><td> 0.12</td><td>-0.10</td><td>-0.04</td><td> 0.40</td><td> 0.13</td><td> 0.24</td><td> 0.40</td><td> 0.27</td></tr>\n",
       "\t<tr><th scope=row>X5</th><td>-0.02</td><td>-0.09</td><td>-0.13</td><td>-0.32</td><td> 1.00</td><td> 0.05</td><td> 0.01</td><td>-0.07</td><td> 0.09</td><td>-0.30</td><td>-0.10</td><td>-0.09</td><td> 0.09</td><td> 0.02</td></tr>\n",
       "\t<tr><th scope=row>X6</th><td> 0.20</td><td> 0.25</td><td>-0.19</td><td> 0.13</td><td> 0.05</td><td> 1.00</td><td> 0.72</td><td>-0.61</td><td> 0.46</td><td> 0.18</td><td> 0.13</td><td>-0.06</td><td> 0.18</td><td> 0.08</td></tr>\n",
       "\t<tr><th scope=row>X7</th><td> 0.24</td><td> 0.23</td><td>-0.22</td><td> 0.12</td><td> 0.01</td><td> 0.72</td><td> 1.00</td><td>-0.50</td><td> 0.37</td><td> 0.07</td><td> 0.09</td><td> 0.10</td><td> 0.14</td><td> 0.09</td></tr>\n",
       "\t<tr><th scope=row>X8</th><td>-0.19</td><td>-0.31</td><td> 0.21</td><td>-0.10</td><td>-0.07</td><td>-0.61</td><td>-0.50</td><td> 1.00</td><td>-0.31</td><td>-0.05</td><td>-0.19</td><td>-0.19</td><td>-0.17</td><td>-0.04</td></tr>\n",
       "\t<tr><th scope=row>X9</th><td> 0.49</td><td> 0.10</td><td>-0.36</td><td>-0.04</td><td> 0.09</td><td> 0.46</td><td> 0.37</td><td>-0.31</td><td> 1.00</td><td> 0.00</td><td> 0.18</td><td>-0.10</td><td> 0.03</td><td> 0.00</td></tr>\n",
       "\t<tr><th scope=row>X10</th><td>-0.07</td><td> 0.10</td><td> 0.10</td><td> 0.40</td><td>-0.30</td><td> 0.18</td><td> 0.07</td><td>-0.05</td><td> 0.00</td><td> 1.00</td><td> 0.17</td><td>-0.11</td><td> 0.09</td><td> 0.09</td></tr>\n",
       "\t<tr><th scope=row>X11</th><td> 0.00</td><td> 0.00</td><td> 0.02</td><td> 0.13</td><td>-0.10</td><td> 0.13</td><td> 0.09</td><td>-0.19</td><td> 0.18</td><td> 0.17</td><td> 1.00</td><td> 0.03</td><td> 0.10</td><td> 0.02</td></tr>\n",
       "\t<tr><th scope=row>X12</th><td>-0.25</td><td> 0.15</td><td> 0.13</td><td> 0.24</td><td>-0.09</td><td>-0.06</td><td> 0.10</td><td>-0.19</td><td>-0.10</td><td>-0.11</td><td> 0.03</td><td> 1.00</td><td> 0.42</td><td> 0.18</td></tr>\n",
       "\t<tr><th scope=row>X13</th><td>-0.15</td><td> 0.18</td><td> 0.22</td><td> 0.40</td><td> 0.09</td><td> 0.18</td><td> 0.14</td><td>-0.17</td><td> 0.03</td><td> 0.09</td><td> 0.10</td><td> 0.42</td><td> 1.00</td><td> 0.42</td></tr>\n",
       "\t<tr><th scope=row>X14</th><td>-0.18</td><td> 0.10</td><td> 0.21</td><td> 0.27</td><td> 0.02</td><td> 0.08</td><td> 0.09</td><td>-0.04</td><td> 0.00</td><td> 0.09</td><td> 0.02</td><td> 0.18</td><td> 0.42</td><td> 1.00</td></tr>\n",
       "</tbody>\n",
       "</table>\n"
      ],
      "text/latex": [
       "A matrix: 14 × 14 of type dbl\n",
       "\\begin{tabular}{r|llllllllllllll}\n",
       "  & X1 & X2 & X3 & X4 & X5 & X6 & X7 & X8 & X9 & X10 & X11 & X12 & X13 & X14\\\\\n",
       "\\hline\n",
       "\tX1 &  1.00 &  0.01 & -0.78 & -0.21 & -0.02 &  0.20 &  0.24 & -0.19 &  0.49 & -0.07 &  0.00 & -0.25 & -0.15 & -0.18\\\\\n",
       "\tX2 &  0.01 &  1.00 & -0.01 &  0.22 & -0.09 &  0.25 &  0.23 & -0.31 &  0.10 &  0.10 &  0.00 &  0.15 &  0.18 &  0.10\\\\\n",
       "\tX3 & -0.78 & -0.01 &  1.00 &  0.20 & -0.13 & -0.19 & -0.22 &  0.21 & -0.36 &  0.10 &  0.02 &  0.13 &  0.22 &  0.21\\\\\n",
       "\tX4 & -0.21 &  0.22 &  0.20 &  1.00 & -0.32 &  0.13 &  0.12 & -0.10 & -0.04 &  0.40 &  0.13 &  0.24 &  0.40 &  0.27\\\\\n",
       "\tX5 & -0.02 & -0.09 & -0.13 & -0.32 &  1.00 &  0.05 &  0.01 & -0.07 &  0.09 & -0.30 & -0.10 & -0.09 &  0.09 &  0.02\\\\\n",
       "\tX6 &  0.20 &  0.25 & -0.19 &  0.13 &  0.05 &  1.00 &  0.72 & -0.61 &  0.46 &  0.18 &  0.13 & -0.06 &  0.18 &  0.08\\\\\n",
       "\tX7 &  0.24 &  0.23 & -0.22 &  0.12 &  0.01 &  0.72 &  1.00 & -0.50 &  0.37 &  0.07 &  0.09 &  0.10 &  0.14 &  0.09\\\\\n",
       "\tX8 & -0.19 & -0.31 &  0.21 & -0.10 & -0.07 & -0.61 & -0.50 &  1.00 & -0.31 & -0.05 & -0.19 & -0.19 & -0.17 & -0.04\\\\\n",
       "\tX9 &  0.49 &  0.10 & -0.36 & -0.04 &  0.09 &  0.46 &  0.37 & -0.31 &  1.00 &  0.00 &  0.18 & -0.10 &  0.03 &  0.00\\\\\n",
       "\tX10 & -0.07 &  0.10 &  0.10 &  0.40 & -0.30 &  0.18 &  0.07 & -0.05 &  0.00 &  1.00 &  0.17 & -0.11 &  0.09 &  0.09\\\\\n",
       "\tX11 &  0.00 &  0.00 &  0.02 &  0.13 & -0.10 &  0.13 &  0.09 & -0.19 &  0.18 &  0.17 &  1.00 &  0.03 &  0.10 &  0.02\\\\\n",
       "\tX12 & -0.25 &  0.15 &  0.13 &  0.24 & -0.09 & -0.06 &  0.10 & -0.19 & -0.10 & -0.11 &  0.03 &  1.00 &  0.42 &  0.18\\\\\n",
       "\tX13 & -0.15 &  0.18 &  0.22 &  0.40 &  0.09 &  0.18 &  0.14 & -0.17 &  0.03 &  0.09 &  0.10 &  0.42 &  1.00 &  0.42\\\\\n",
       "\tX14 & -0.18 &  0.10 &  0.21 &  0.27 &  0.02 &  0.08 &  0.09 & -0.04 &  0.00 &  0.09 &  0.02 &  0.18 &  0.42 &  1.00\\\\\n",
       "\\end{tabular}\n"
      ],
      "text/markdown": [
       "\n",
       "A matrix: 14 × 14 of type dbl\n",
       "\n",
       "| <!--/--> | X1 | X2 | X3 | X4 | X5 | X6 | X7 | X8 | X9 | X10 | X11 | X12 | X13 | X14 |\n",
       "|---|---|---|---|---|---|---|---|---|---|---|---|---|---|---|\n",
       "| X1 |  1.00 |  0.01 | -0.78 | -0.21 | -0.02 |  0.20 |  0.24 | -0.19 |  0.49 | -0.07 |  0.00 | -0.25 | -0.15 | -0.18 |\n",
       "| X2 |  0.01 |  1.00 | -0.01 |  0.22 | -0.09 |  0.25 |  0.23 | -0.31 |  0.10 |  0.10 |  0.00 |  0.15 |  0.18 |  0.10 |\n",
       "| X3 | -0.78 | -0.01 |  1.00 |  0.20 | -0.13 | -0.19 | -0.22 |  0.21 | -0.36 |  0.10 |  0.02 |  0.13 |  0.22 |  0.21 |\n",
       "| X4 | -0.21 |  0.22 |  0.20 |  1.00 | -0.32 |  0.13 |  0.12 | -0.10 | -0.04 |  0.40 |  0.13 |  0.24 |  0.40 |  0.27 |\n",
       "| X5 | -0.02 | -0.09 | -0.13 | -0.32 |  1.00 |  0.05 |  0.01 | -0.07 |  0.09 | -0.30 | -0.10 | -0.09 |  0.09 |  0.02 |\n",
       "| X6 |  0.20 |  0.25 | -0.19 |  0.13 |  0.05 |  1.00 |  0.72 | -0.61 |  0.46 |  0.18 |  0.13 | -0.06 |  0.18 |  0.08 |\n",
       "| X7 |  0.24 |  0.23 | -0.22 |  0.12 |  0.01 |  0.72 |  1.00 | -0.50 |  0.37 |  0.07 |  0.09 |  0.10 |  0.14 |  0.09 |\n",
       "| X8 | -0.19 | -0.31 |  0.21 | -0.10 | -0.07 | -0.61 | -0.50 |  1.00 | -0.31 | -0.05 | -0.19 | -0.19 | -0.17 | -0.04 |\n",
       "| X9 |  0.49 |  0.10 | -0.36 | -0.04 |  0.09 |  0.46 |  0.37 | -0.31 |  1.00 |  0.00 |  0.18 | -0.10 |  0.03 |  0.00 |\n",
       "| X10 | -0.07 |  0.10 |  0.10 |  0.40 | -0.30 |  0.18 |  0.07 | -0.05 |  0.00 |  1.00 |  0.17 | -0.11 |  0.09 |  0.09 |\n",
       "| X11 |  0.00 |  0.00 |  0.02 |  0.13 | -0.10 |  0.13 |  0.09 | -0.19 |  0.18 |  0.17 |  1.00 |  0.03 |  0.10 |  0.02 |\n",
       "| X12 | -0.25 |  0.15 |  0.13 |  0.24 | -0.09 | -0.06 |  0.10 | -0.19 | -0.10 | -0.11 |  0.03 |  1.00 |  0.42 |  0.18 |\n",
       "| X13 | -0.15 |  0.18 |  0.22 |  0.40 |  0.09 |  0.18 |  0.14 | -0.17 |  0.03 |  0.09 |  0.10 |  0.42 |  1.00 |  0.42 |\n",
       "| X14 | -0.18 |  0.10 |  0.21 |  0.27 |  0.02 |  0.08 |  0.09 | -0.04 |  0.00 |  0.09 |  0.02 |  0.18 |  0.42 |  1.00 |\n",
       "\n"
      ],
      "text/plain": [
       "    X1    X2    X3    X4    X5    X6    X7    X8    X9    X10   X11   X12  \n",
       "X1   1.00  0.01 -0.78 -0.21 -0.02  0.20  0.24 -0.19  0.49 -0.07  0.00 -0.25\n",
       "X2   0.01  1.00 -0.01  0.22 -0.09  0.25  0.23 -0.31  0.10  0.10  0.00  0.15\n",
       "X3  -0.78 -0.01  1.00  0.20 -0.13 -0.19 -0.22  0.21 -0.36  0.10  0.02  0.13\n",
       "X4  -0.21  0.22  0.20  1.00 -0.32  0.13  0.12 -0.10 -0.04  0.40  0.13  0.24\n",
       "X5  -0.02 -0.09 -0.13 -0.32  1.00  0.05  0.01 -0.07  0.09 -0.30 -0.10 -0.09\n",
       "X6   0.20  0.25 -0.19  0.13  0.05  1.00  0.72 -0.61  0.46  0.18  0.13 -0.06\n",
       "X7   0.24  0.23 -0.22  0.12  0.01  0.72  1.00 -0.50  0.37  0.07  0.09  0.10\n",
       "X8  -0.19 -0.31  0.21 -0.10 -0.07 -0.61 -0.50  1.00 -0.31 -0.05 -0.19 -0.19\n",
       "X9   0.49  0.10 -0.36 -0.04  0.09  0.46  0.37 -0.31  1.00  0.00  0.18 -0.10\n",
       "X10 -0.07  0.10  0.10  0.40 -0.30  0.18  0.07 -0.05  0.00  1.00  0.17 -0.11\n",
       "X11  0.00  0.00  0.02  0.13 -0.10  0.13  0.09 -0.19  0.18  0.17  1.00  0.03\n",
       "X12 -0.25  0.15  0.13  0.24 -0.09 -0.06  0.10 -0.19 -0.10 -0.11  0.03  1.00\n",
       "X13 -0.15  0.18  0.22  0.40  0.09  0.18  0.14 -0.17  0.03  0.09  0.10  0.42\n",
       "X14 -0.18  0.10  0.21  0.27  0.02  0.08  0.09 -0.04  0.00  0.09  0.02  0.18\n",
       "    X13   X14  \n",
       "X1  -0.15 -0.18\n",
       "X2   0.18  0.10\n",
       "X3   0.22  0.21\n",
       "X4   0.40  0.27\n",
       "X5   0.09  0.02\n",
       "X6   0.18  0.08\n",
       "X7   0.14  0.09\n",
       "X8  -0.17 -0.04\n",
       "X9   0.03  0.00\n",
       "X10  0.09  0.09\n",
       "X11  0.10  0.02\n",
       "X12  0.42  0.18\n",
       "X13  1.00  0.42\n",
       "X14  0.42  1.00"
      ]
     },
     "metadata": {},
     "output_type": "display_data"
    }
   ],
   "source": [
    "round(cor(survey_numeric),2)"
   ]
  },
  {
   "cell_type": "code",
   "execution_count": 21,
   "id": "e4937377-c596-46b7-8a70-7e074210617c",
   "metadata": {},
   "outputs": [
    {
     "data": {
      "text/plain": [
       "\n",
       "Reliability analysis   \n",
       "Call: alpha(x = survey_numeric, check.keys = TRUE)\n",
       "\n",
       "  raw_alpha std.alpha G6(smc) average_r S/N   ase mean   sd median_r\n",
       "      0.54      0.64    0.77      0.11 1.8 0.063  3.2 0.56    0.098\n",
       "\n",
       "    95% confidence boundaries \n",
       "         lower alpha upper\n",
       "Feldt     0.38  0.54  0.67\n",
       "Duhachek  0.41  0.54  0.66\n",
       "\n",
       " Reliability if an item is dropped:\n",
       "    raw_alpha std.alpha G6(smc) average_r S/N alpha se var.r med.r\n",
       "X1       0.54      0.64    0.73     0.118 1.7    0.064 0.036 0.101\n",
       "X2       0.52      0.62    0.76     0.111 1.6    0.066 0.048 0.094\n",
       "X3-      0.54      0.64    0.74     0.118 1.7    0.064 0.037 0.100\n",
       "X4       0.52      0.63    0.75     0.115 1.7    0.066 0.042 0.094\n",
       "X5       0.59      0.67    0.78     0.137 2.1    0.055 0.043 0.123\n",
       "X6       0.50      0.57    0.70     0.091 1.3    0.069 0.039 0.093\n",
       "X7       0.44      0.57    0.72     0.094 1.3    0.081 0.041 0.091\n",
       "X8-      0.43      0.57    0.72     0.094 1.3    0.079 0.043 0.093\n",
       "X9       0.53      0.60    0.74     0.102 1.5    0.065 0.043 0.098\n",
       "X10      0.54      0.65    0.77     0.124 1.8    0.064 0.045 0.102\n",
       "X11      0.53      0.64    0.77     0.120 1.8    0.064 0.049 0.100\n",
       "X12      0.53      0.65    0.76     0.124 1.8    0.062 0.044 0.100\n",
       "X13      0.48      0.61    0.73     0.107 1.6    0.071 0.044 0.095\n",
       "X14      0.52      0.64    0.77     0.119 1.8    0.063 0.046 0.102\n",
       "\n",
       " Item statistics \n",
       "     n raw.r std.r  r.cor r.drop mean   sd\n",
       "X1  88  0.12 0.345  0.343  0.040  1.2 0.66\n",
       "X2  88  0.35 0.440  0.339  0.296  1.6 0.49\n",
       "X3- 88  0.16 0.343  0.330  0.101  5.2 0.48\n",
       "X4  88  0.33 0.381  0.320  0.228  2.4 0.81\n",
       "X5  88  0.22 0.092 -0.026 -0.041  3.1 2.00\n",
       "X6  88  0.63 0.701  0.740  0.588  1.4 0.50\n",
       "X7  88  0.72 0.667  0.677  0.433  3.8 3.00\n",
       "X8- 88  0.67 0.671  0.665  0.506  6.3 1.83\n",
       "X9  88  0.37 0.554  0.519  0.331  1.1 0.35\n",
       "X10 88  0.10 0.271  0.168  0.036  1.6 0.50\n",
       "X11 88  0.21 0.327  0.201  0.123  1.8 0.71\n",
       "X12 88  0.46 0.265  0.191  0.185  5.7 2.25\n",
       "X13 88  0.57 0.487  0.456  0.449  4.1 1.18\n",
       "X14 88  0.47 0.329  0.222  0.207  6.0 2.26\n",
       "\n",
       "Non missing response frequency for each item\n",
       "       1    2    3    4    5    6    7    8 miss\n",
       "X1  0.91 0.02 0.03 0.03 0.00 0.00 0.00 0.00    0\n",
       "X2  0.38 0.62 0.00 0.00 0.00 0.00 0.00 0.00    0\n",
       "X3  0.01 0.01 0.10 0.88 0.00 0.00 0.00 0.00    0\n",
       "X4  0.20 0.18 0.61 0.00 0.00 0.00 0.00 0.00    0\n",
       "X5  0.39 0.12 0.05 0.06 0.25 0.14 0.00 0.00    0\n",
       "X6  0.57 0.43 0.00 0.00 0.00 0.00 0.00 0.00    0\n",
       "X7  0.49 0.05 0.01 0.02 0.02 0.02 0.27 0.11    0\n",
       "X8  0.45 0.09 0.09 0.18 0.09 0.07 0.02 0.00    0\n",
       "X9  0.86 0.14 0.00 0.00 0.00 0.00 0.00 0.00    0\n",
       "X10 0.42 0.58 0.00 0.00 0.00 0.00 0.00 0.00    0\n",
       "X11 0.40 0.44 0.16 0.00 0.00 0.00 0.00 0.00    0\n",
       "X12 0.08 0.05 0.12 0.01 0.07 0.05 0.47 0.16    0\n",
       "X13 0.10 0.01 0.01 0.47 0.41 0.00 0.00 0.00    0\n",
       "X14 0.05 0.12 0.01 0.06 0.02 0.20 0.19 0.34    0"
      ]
     },
     "metadata": {},
     "output_type": "display_data"
    }
   ],
   "source": [
    "alpha(survey_numeric, check.keys=TRUE)"
   ]
  },
  {
   "cell_type": "code",
   "execution_count": 23,
   "id": "80071ddb-1309-4caf-a034-9beeffec9f1e",
   "metadata": {},
   "outputs": [
    {
     "name": "stdout",
     "output_type": "stream",
     "text": [
      "package 'likert' successfully unpacked and MD5 sums checked\n",
      "\n",
      "The downloaded binary packages are in\n",
      "\tD:\\Temp\\RtmpsLUht3\\downloaded_packages\n"
     ]
    }
   ],
   "source": [
    "install.packages(\"likert\")"
   ]
  },
  {
   "cell_type": "code",
   "execution_count": 25,
   "id": "bc1919b1-5c82-42b0-b5aa-2008fe70df00",
   "metadata": {},
   "outputs": [],
   "source": [
    "library(likert)"
   ]
  },
  {
   "cell_type": "code",
   "execution_count": 26,
   "id": "614af2e3-95dc-41bc-9100-7997f04e605a",
   "metadata": {},
   "outputs": [
    {
     "ename": "ERROR",
     "evalue": "Error in likert(survey_data): All items (columns) must have the same number of levels\n",
     "output_type": "error",
     "traceback": [
      "Error in likert(survey_data): All items (columns) must have the same number of levels\nTraceback:\n",
      "1. likert(survey_data)",
      "2. stop(\"All items (columns) must have the same number of levels\")"
     ]
    }
   ],
   "source": [
    "survey_data |> likert()"
   ]
  },
  {
   "cell_type": "code",
   "execution_count": 6,
   "id": "46f1173a-b1fc-46c6-b7a1-7b9f5aa77e31",
   "metadata": {},
   "outputs": [
    {
     "ename": "ERROR",
     "evalue": "Error in kmodes(survey_data, 3, iter.max = 10, weighted = FALSE): could not find function \"kmodes\"\n",
     "output_type": "error",
     "traceback": [
      "Error in kmodes(survey_data, 3, iter.max = 10, weighted = FALSE): could not find function \"kmodes\"\nTraceback:\n"
     ]
    }
   ],
   "source": [
    "cluster.results <- kmodes(survey_data, 3, iter.max = 10, weighted = FALSE )\n",
    "cluster.results"
   ]
  }
 ],
 "metadata": {
  "kernelspec": {
   "display_name": "R",
   "language": "R",
   "name": "ir"
  },
  "language_info": {
   "codemirror_mode": "r",
   "file_extension": ".r",
   "mimetype": "text/x-r-source",
   "name": "R",
   "pygments_lexer": "r",
   "version": "4.1.3"
  }
 },
 "nbformat": 4,
 "nbformat_minor": 5
}
